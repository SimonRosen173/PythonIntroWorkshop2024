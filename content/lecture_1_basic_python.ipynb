{
 "cells": [
  {
   "attachments": {},
   "cell_type": "markdown",
   "metadata": {},
   "source": [
    "# Lecture 1 - Introduction and Basics\n",
    "## Python Introduction\n",
    "This tutorial is targeted at those that are using, or want to be using Python for mainly mathematical, data and computational sciences. The techniques shown will be useful for other topics as well.\n",
    "\n",
    "This tutorial does not have any required prior knowledge, and is largely targeted at beginners.\n",
    "\n",
    "It should also be useful for:\n",
    "- People that have experience programming in other languages, and would like to get into Python\n",
    "\n",
    "## Preliminaries\n",
    "- **If you have questions during the talks, please let me know.**"
   ]
  },
  {
   "cell_type": "markdown",
   "metadata": {},
   "source": [
    "## How does all of this work?\n",
    "\n",
    "This is a simple introduction to the environment we will be using for this workshop.\n",
    "In particular, we use **Jupyter Notebooks** to write and execute Python code.\n",
    "\n",
    "Each code block is referred to as a cell. Each cell contains one or more lines of code. When you run the cell (`ctrl + Enter`) each line will execute in sequence. Some cells (like this one) contain markdown instead of code. This is effectively a way to write plain text, but still have some formatting features, like **bold**."
   ]
  },
  {
   "cell_type": "markdown",
   "metadata": {},
   "source": [
    "## Intro to Python\n",
    "\n",
    "This section covers some basic elements in Python and programming more generally."
   ]
  },
  {
   "cell_type": "markdown",
   "metadata": {},
   "source": [
    "### Comments\n",
    "We use the notation `#` to denote everthing preceding it on that line as a comment. For example the following is valid:"
   ]
  },
  {
   "cell_type": "code",
   "execution_count": 1,
   "metadata": {},
   "outputs": [],
   "source": [
    "# This is a valid comment"
   ]
  },
  {
   "cell_type": "markdown",
   "metadata": {},
   "source": [
    "But this is not due to the continuation over two lines"
   ]
  },
  {
   "cell_type": "code",
   "execution_count": 3,
   "metadata": {},
   "outputs": [
    {
     "ename": "SyntaxError",
     "evalue": "invalid syntax (601942040.py, line 2)",
     "output_type": "error",
     "traceback": [
      "\u001b[1;36m  Cell \u001b[1;32mIn[3], line 2\u001b[1;36m\u001b[0m\n\u001b[1;33m    a valid comment\u001b[0m\n\u001b[1;37m      ^\u001b[0m\n\u001b[1;31mSyntaxError\u001b[0m\u001b[1;31m:\u001b[0m invalid syntax\n"
     ]
    }
   ],
   "source": [
    "# This is not\n",
    "a valid comment"
   ]
  },
  {
   "cell_type": "markdown",
   "metadata": {},
   "source": [
    "### Variables\n",
    "Variables are containers for data. They have an associated `name`, a `value` and a `type`.\n",
    "\n",
    "Below is an example variable with the name `x`, the value `1.1` and type `int`(we will cover types further on): </br>\n",
    "![variable](figs/variable.png)\n",
    "\n",
    "In Python you must set the value of a variable when you create it. To create the variable `x` and set it's value to `1`, we use the following syntax:"
   ]
  },
  {
   "cell_type": "code",
   "execution_count": 4,
   "metadata": {},
   "outputs": [],
   "source": [
    "x = 1"
   ]
  },
  {
   "cell_type": "markdown",
   "metadata": {},
   "source": [
    "In Jupyter Notebooks, `x` will be stored in memory once set and can be accessed in other cells. To show the value of `x`, we can simply type `x` into a cell, run the cell and Jupyter will display its value:"
   ]
  },
  {
   "cell_type": "code",
   "execution_count": 5,
   "metadata": {},
   "outputs": [
    {
     "data": {
      "text/plain": [
       "1"
      ]
     },
     "execution_count": 5,
     "metadata": {},
     "output_type": "execute_result"
    }
   ],
   "source": [
    "x"
   ]
  },
  {
   "cell_type": "markdown",
   "metadata": {},
   "source": [
    "### Types"
   ]
  },
  {
   "cell_type": "markdown",
   "metadata": {},
   "source": [
    "All variables have an associated `type`, which determines certain properties about the variable. For example if a variable contains text then its `type` will encapsulate that. Python there are a wide variety of different types, so here we just give some of the common ones.\n",
    "\n",
    "Note that in Python we do not explicitly set the type of the variable and the type is instead inferred from the value of the variable. This is referred to as [Duck Typing](https://en.wikipedia.org/wiki/Duck_typing) and is not a property of languages such as Java or C/C++."
   ]
  },
  {
   "cell_type": "markdown",
   "metadata": {},
   "source": [
    "#### Text Values"
   ]
  },
  {
   "cell_type": "markdown",
   "metadata": {},
   "source": [
    "**string** <br>\n",
    "For text values the associated type is called a `string`. A string is denoted by being surrounded by `\"` or `'`.\n",
    "\n",
    "For example:"
   ]
  },
  {
   "cell_type": "code",
   "execution_count": 6,
   "metadata": {},
   "outputs": [
    {
     "data": {
      "text/plain": [
       "'Simon'"
      ]
     },
     "execution_count": 6,
     "metadata": {},
     "output_type": "execute_result"
    }
   ],
   "source": [
    "my_name = \"Simon\"\n",
    "my_name"
   ]
  },
  {
   "cell_type": "markdown",
   "metadata": {},
   "source": [
    "In Python we can determine the type of a variable by using the method `type` as so:"
   ]
  },
  {
   "cell_type": "code",
   "execution_count": 7,
   "metadata": {},
   "outputs": [
    {
     "data": {
      "text/plain": [
       "str"
      ]
     },
     "execution_count": 7,
     "metadata": {},
     "output_type": "execute_result"
    }
   ],
   "source": [
    "type(my_name)"
   ]
  },
  {
   "cell_type": "markdown",
   "metadata": {},
   "source": [
    "A number can also be represented as a `string` as if it were text by surrounding it with `'` or `\"`:"
   ]
  },
  {
   "cell_type": "code",
   "execution_count": 7,
   "metadata": {},
   "outputs": [
    {
     "data": {
      "text/plain": [
       "str"
      ]
     },
     "execution_count": 7,
     "metadata": {},
     "output_type": "execute_result"
    }
   ],
   "source": [
    "text_no = \"1\"\n",
    "type(text_no)"
   ]
  },
  {
   "cell_type": "markdown",
   "metadata": {},
   "source": [
    "#### Numerical Values"
   ]
  },
  {
   "cell_type": "markdown",
   "metadata": {},
   "source": [
    "**int**\n",
    "\n",
    "For integer values, the associated type is called a `int` and is denoted by the absence of `.`.\n",
    "\n",
    "For example:"
   ]
  },
  {
   "cell_type": "code",
   "execution_count": 8,
   "metadata": {},
   "outputs": [
    {
     "data": {
      "text/plain": [
       "1"
      ]
     },
     "execution_count": 8,
     "metadata": {},
     "output_type": "execute_result"
    }
   ],
   "source": [
    "x = 1  # or 2, 3 etc\n",
    "x"
   ]
  },
  {
   "cell_type": "code",
   "execution_count": 9,
   "metadata": {},
   "outputs": [
    {
     "data": {
      "text/plain": [
       "int"
      ]
     },
     "execution_count": 9,
     "metadata": {},
     "output_type": "execute_result"
    }
   ],
   "source": [
    "type(x)"
   ]
  },
  {
   "cell_type": "markdown",
   "metadata": {},
   "source": [
    "**float**"
   ]
  },
  {
   "cell_type": "markdown",
   "metadata": {},
   "source": [
    "For decimal values, the associated type is called a `float` and is denoted by the presence of `.`.\n",
    "\n",
    "For example:"
   ]
  },
  {
   "cell_type": "code",
   "execution_count": 10,
   "metadata": {},
   "outputs": [
    {
     "data": {
      "text/plain": [
       "1.1"
      ]
     },
     "execution_count": 10,
     "metadata": {},
     "output_type": "execute_result"
    }
   ],
   "source": [
    "y = 1.1  # Or 4.5, 0.8, 0.44444, etc \n",
    "y"
   ]
  },
  {
   "cell_type": "code",
   "execution_count": 11,
   "metadata": {},
   "outputs": [
    {
     "data": {
      "text/plain": [
       "float"
      ]
     },
     "execution_count": 11,
     "metadata": {},
     "output_type": "execute_result"
    }
   ],
   "source": [
    "type(y)"
   ]
  },
  {
   "cell_type": "markdown",
   "metadata": {},
   "source": [
    "If we wish to define the number `1` as a float we must set its value as `1.0`: "
   ]
  },
  {
   "cell_type": "code",
   "execution_count": 12,
   "metadata": {},
   "outputs": [
    {
     "data": {
      "text/plain": [
       "1.0"
      ]
     },
     "execution_count": 12,
     "metadata": {},
     "output_type": "execute_result"
    }
   ],
   "source": [
    "x = 1.0\n",
    "x"
   ]
  },
  {
   "cell_type": "code",
   "execution_count": 13,
   "metadata": {},
   "outputs": [
    {
     "data": {
      "text/plain": [
       "float"
      ]
     },
     "execution_count": 13,
     "metadata": {},
     "output_type": "execute_result"
    }
   ],
   "source": [
    "type(x)"
   ]
  },
  {
   "cell_type": "markdown",
   "metadata": {},
   "source": [
    "#### Boolean Values\n",
    "**bool**"
   ]
  },
  {
   "cell_type": "markdown",
   "metadata": {},
   "source": [
    "For boolean (True/False) values the associate type is `bool`.\n",
    "\n",
    "For example:"
   ]
  },
  {
   "cell_type": "code",
   "execution_count": 14,
   "metadata": {},
   "outputs": [
    {
     "data": {
      "text/plain": [
       "True"
      ]
     },
     "execution_count": 14,
     "metadata": {},
     "output_type": "execute_result"
    }
   ],
   "source": [
    "is_today_sunny = True\n",
    "is_today_sunny"
   ]
  },
  {
   "cell_type": "code",
   "execution_count": 15,
   "metadata": {},
   "outputs": [
    {
     "data": {
      "text/plain": [
       "bool"
      ]
     },
     "execution_count": 15,
     "metadata": {},
     "output_type": "execute_result"
    }
   ],
   "source": [
    "type(is_today_sunny)"
   ]
  },
  {
   "cell_type": "markdown",
   "metadata": {},
   "source": [
    "#### 'Container' Variables"
   ]
  },
  {
   "cell_type": "markdown",
   "metadata": {},
   "source": [
    "**list**\n",
    "\n",
    "A collection of other variables of any type, denoted by `[ ... ]` and `,` between elements. For example:"
   ]
  },
  {
   "cell_type": "code",
   "execution_count": 18,
   "metadata": {},
   "outputs": [
    {
     "data": {
      "text/plain": [
       "[1, 2, 3]"
      ]
     },
     "execution_count": 18,
     "metadata": {},
     "output_type": "execute_result"
    }
   ],
   "source": [
    "my_list = [1, 2, 3]\n",
    "my_list"
   ]
  },
  {
   "cell_type": "code",
   "execution_count": 19,
   "metadata": {},
   "outputs": [
    {
     "data": {
      "text/plain": [
       "list"
      ]
     },
     "execution_count": 19,
     "metadata": {},
     "output_type": "execute_result"
    }
   ],
   "source": [
    "type(my_list)"
   ]
  },
  {
   "cell_type": "markdown",
   "metadata": {},
   "source": [
    "Python also supports varying types in the list as follows:"
   ]
  },
  {
   "cell_type": "code",
   "execution_count": 20,
   "metadata": {},
   "outputs": [
    {
     "data": {
      "text/plain": [
       "['text', 1, 1.1]"
      ]
     },
     "execution_count": 20,
     "metadata": {},
     "output_type": "execute_result"
    }
   ],
   "source": [
    "another_list = [\"text\", 1, 1.1]\n",
    "another_list"
   ]
  },
  {
   "cell_type": "code",
   "execution_count": 21,
   "metadata": {},
   "outputs": [
    {
     "data": {
      "text/plain": [
       "list"
      ]
     },
     "execution_count": 21,
     "metadata": {},
     "output_type": "execute_result"
    }
   ],
   "source": [
    "type(another_list)"
   ]
  },
  {
   "cell_type": "markdown",
   "metadata": {},
   "source": [
    "**tuple**\n",
    "\n",
    "This is similar to a list, but is denoted by `()`. There are important distinctions that we will cover later on."
   ]
  },
  {
   "cell_type": "code",
   "execution_count": 22,
   "metadata": {},
   "outputs": [
    {
     "data": {
      "text/plain": [
       "(1, 2)"
      ]
     },
     "execution_count": 22,
     "metadata": {},
     "output_type": "execute_result"
    }
   ],
   "source": [
    "coord = (1, 2)\n",
    "coord"
   ]
  },
  {
   "cell_type": "code",
   "execution_count": 23,
   "metadata": {},
   "outputs": [
    {
     "data": {
      "text/plain": [
       "tuple"
      ]
     },
     "execution_count": 23,
     "metadata": {},
     "output_type": "execute_result"
    }
   ],
   "source": [
    "type(coord)"
   ]
  },
  {
   "cell_type": "markdown",
   "metadata": {},
   "source": [
    "**dict**"
   ]
  },
  {
   "cell_type": "markdown",
   "metadata": {},
   "source": [
    "This is a mapping between a key and a value. In general the key can be anything (except a list) and the value is associated with it. Denoted by `{ ... }` and syntax of `k:v` for each element.\n",
    "\n",
    "For example:"
   ]
  },
  {
   "cell_type": "code",
   "execution_count": 24,
   "metadata": {},
   "outputs": [
    {
     "data": {
      "text/plain": [
       "{1: [1, 2, 3], 'string key': 1.4}"
      ]
     },
     "execution_count": 24,
     "metadata": {},
     "output_type": "execute_result"
    }
   ],
   "source": [
    "d = {\n",
    "    1: [1, 2, 3],\n",
    "    \"string key\": 1.4\n",
    "}\n",
    "d"
   ]
  },
  {
   "cell_type": "code",
   "execution_count": 25,
   "metadata": {},
   "outputs": [
    {
     "data": {
      "text/plain": [
       "dict"
      ]
     },
     "execution_count": 25,
     "metadata": {},
     "output_type": "execute_result"
    }
   ],
   "source": [
    "type(d)"
   ]
  },
  {
   "cell_type": "markdown",
   "metadata": {},
   "source": [
    "We can also 'nest' dictionaries. Which means we can put a dictionary as a value in another dictionary (note: not as a key)."
   ]
  },
  {
   "cell_type": "code",
   "execution_count": 28,
   "metadata": {},
   "outputs": [
    {
     "data": {
      "text/plain": [
       "{1: {1: 2, 2: 3}, 2: 3, 3: {'a': 1}}"
      ]
     },
     "execution_count": 28,
     "metadata": {},
     "output_type": "execute_result"
    }
   ],
   "source": [
    "other_d = {\n",
    "    1: {\n",
    "        1: 2,\n",
    "        2: 3\n",
    "    },\n",
    "    2: 3,\n",
    "    3: {\n",
    "        \"a\": 1\n",
    "    }\n",
    "}\n",
    "other_d"
   ]
  },
  {
   "cell_type": "markdown",
   "metadata": {},
   "source": [
    "### Printing\n",
    "Here we print out some elements. The `print` function is very useful to see what the value of something is.\n",
    "\n",
    "The syntax here is:\n",
    "- `print(var)`: This prints the variable, it can be of any type.\n",
    "- `print(var_a, var_b, var_c, ...)`: This prints these variables with spaces in between"
   ]
  },
  {
   "cell_type": "code",
   "execution_count": 30,
   "metadata": {},
   "outputs": [],
   "source": [
    "my_name = \"Simon\"\n",
    "this_year = 2024"
   ]
  },
  {
   "cell_type": "code",
   "execution_count": 31,
   "metadata": {},
   "outputs": [
    {
     "name": "stdout",
     "output_type": "stream",
     "text": [
      "Hello, World!\n",
      "My Name is Simon and the year is 2024\n"
     ]
    }
   ],
   "source": [
    "print(\"Hello, World!\")\n",
    "print(\"My Name is\", my_name, \"and the year is\", this_year)"
   ]
  },
  {
   "cell_type": "markdown",
   "metadata": {},
   "source": [
    "In Jupyter notebooks, the last statement in the cell automatically gets printed, so the print itself is unnecessary."
   ]
  },
  {
   "cell_type": "code",
   "execution_count": 32,
   "metadata": {},
   "outputs": [
    {
     "data": {
      "text/plain": [
       "'Hi there'"
      ]
     },
     "execution_count": 32,
     "metadata": {},
     "output_type": "execute_result"
    }
   ],
   "source": [
    "\"Hi there\""
   ]
  },
  {
   "cell_type": "code",
   "execution_count": 33,
   "metadata": {},
   "outputs": [
    {
     "data": {
      "text/plain": [
       "'But the last does'"
      ]
     },
     "execution_count": 33,
     "metadata": {},
     "output_type": "execute_result"
    }
   ],
   "source": [
    "\"The first line does not get printed\"\n",
    "\"But the last does\""
   ]
  },
  {
   "cell_type": "markdown",
   "metadata": {},
   "source": [
    "### Operations\n",
    "In general, variables are used to store data, which we then process or transform in some way. There are many different operations you can perform."
   ]
  },
  {
   "cell_type": "markdown",
   "metadata": {},
   "source": [
    "#### Math"
   ]
  },
  {
   "cell_type": "code",
   "execution_count": 34,
   "metadata": {},
   "outputs": [
    {
     "name": "stdout",
     "output_type": "stream",
     "text": [
      "13\n",
      "11\n",
      "24\n",
      "2.4\n",
      "2\n",
      "2\n",
      "248832\n"
     ]
    }
   ],
   "source": [
    "x = 12\n",
    "print(x + 1)    # add\n",
    "print(x - 1)    # subtract\n",
    "print(x * 2)    # multiply\n",
    "print(x / 5)    # divide\n",
    "print(x // 5)   # divide, round down\n",
    "print(x % 5)    # mod, remainder when dividing x by 5\n",
    "print(x ** 5)   # exponentiation"
   ]
  },
  {
   "cell_type": "markdown",
   "metadata": {},
   "source": [
    "### Types\n",
    "Operations can return different types, depending on their inputs. For example, $2/2$ will return the floating point value $1.0$"
   ]
  },
  {
   "cell_type": "code",
   "execution_count": 39,
   "metadata": {},
   "outputs": [
    {
     "name": "stdout",
     "output_type": "stream",
     "text": [
      "2 / 2         =  1.0\n",
      "2 * 2         =  4\n",
      "2.0 * 2       =  4.0\n",
      "2.1 / 3       =  0.7000000000000001\n"
     ]
    }
   ],
   "source": [
    "print(\"2 / 2         = \", 2 / 2)       # int / int = float\n",
    "print(\"2 * 2         = \", 2 * 2)       # int * int = int\n",
    "print(\"2.0 * 2       = \", 2.0 * 2)     # float * int = float\n",
    "print(\"2.1 / 3       = \", 2.1 / 3)     # float / int = float"
   ]
  },
  {
   "cell_type": "markdown",
   "metadata": {},
   "source": [
    "So, be careful with types, and make sure that the types in your code are that which you expect."
   ]
  },
  {
   "cell_type": "markdown",
   "metadata": {},
   "source": [
    "### Lists\n",
    "Lists are *container* variables, they store a collection (a sequence) of other variables. For instance, all the students in a class, the marks of a test, etc.\n",
    "\n",
    "We can create lists by using square brackets `[...]`, separating individual elements using commas (`,`). For instance,\n",
    "\n",
    "```python\n",
    "names = [\"John\", \"Mary\", \"Steve\"]\n",
    "```"
   ]
  },
  {
   "cell_type": "code",
   "execution_count": 47,
   "metadata": {},
   "outputs": [
    {
     "name": "stdout",
     "output_type": "stream",
     "text": [
      "[1, 2, 3, 4, 5]\n"
     ]
    }
   ],
   "source": [
    "integers = [1, 2, 3, 4, 5]\n",
    "print(integers)"
   ]
  },
  {
   "cell_type": "markdown",
   "metadata": {},
   "source": [
    "You can index individual elements in a list using integer indices. Note, the first element has index 0."
   ]
  },
  {
   "cell_type": "code",
   "execution_count": 48,
   "metadata": {},
   "outputs": [
    {
     "name": "stdout",
     "output_type": "stream",
     "text": [
      "integers[0] =  1\n",
      "integers[1] =  2\n",
      "integers[2] =  3\n"
     ]
    }
   ],
   "source": [
    "print(\"integers[0] = \", integers[0])\n",
    "print(\"integers[1] = \", integers[1])\n",
    "print(\"integers[2] = \", integers[2])"
   ]
  },
  {
   "cell_type": "markdown",
   "metadata": {},
   "source": [
    "Negative indices start counting from the end. Note, the last element has index -1"
   ]
  },
  {
   "cell_type": "code",
   "execution_count": 49,
   "metadata": {},
   "outputs": [
    {
     "name": "stdout",
     "output_type": "stream",
     "text": [
      "integers[-1] =  5\n",
      "integers[-2] =  4\n"
     ]
    }
   ],
   "source": [
    "# Negative indices\n",
    "print(\"integers[-1] = \", integers[-1]) # Last element\n",
    "print(\"integers[-2] = \", integers[-2]) # Second last element"
   ]
  },
  {
   "cell_type": "markdown",
   "metadata": {},
   "source": [
    "`mylist.append(item)` allows you to add items to a list"
   ]
  },
  {
   "cell_type": "code",
   "execution_count": 50,
   "metadata": {},
   "outputs": [
    {
     "name": "stdout",
     "output_type": "stream",
     "text": [
      "[1, 2, 3, 4, 5, 6]\n"
     ]
    }
   ],
   "source": [
    "integers.append(6)\n",
    "print(integers)"
   ]
  },
  {
   "cell_type": "code",
   "execution_count": 51,
   "metadata": {},
   "outputs": [
    {
     "name": "stdout",
     "output_type": "stream",
     "text": [
      "[1, 2, 3, 4, 5, 6, 'hi there']\n"
     ]
    }
   ],
   "source": [
    "# Can be of different types\n",
    "integers.append('hi there')\n",
    "print(integers)"
   ]
  },
  {
   "cell_type": "markdown",
   "metadata": {},
   "source": [
    "`mylist.pop(index)` allows you to remove an item at a specific index from the list."
   ]
  },
  {
   "cell_type": "code",
   "execution_count": 52,
   "metadata": {},
   "outputs": [
    {
     "name": "stdout",
     "output_type": "stream",
     "text": [
      "I popped 3 from the list at index 2 The list is now: [1, 2, 4, 5, 6, 'hi there']\n"
     ]
    }
   ],
   "source": [
    "index = 2\n",
    "item = integers.pop(index)\n",
    "print(\"I popped\", item, \"from the list at index\", index, \"The list is now:\", integers)"
   ]
  },
  {
   "cell_type": "markdown",
   "metadata": {},
   "source": [
    "You can also add lists using `+`, which concatenates them."
   ]
  },
  {
   "cell_type": "code",
   "execution_count": 49,
   "metadata": {},
   "outputs": [
    {
     "name": "stdout",
     "output_type": "stream",
     "text": [
      "list1 + list2 =  [1, 2, 'a', 'b']\n"
     ]
    }
   ],
   "source": [
    "# Adding lists\n",
    "list1 = [1, 2]\n",
    "list2 = ['a', 'b']\n",
    "print(\"list1 + list2 = \", list1 + list2)"
   ]
  },
  {
   "cell_type": "markdown",
   "metadata": {},
   "source": [
    "There are different list operations, and they can either change the underlying list, or leave it untouched, returning a new copy.\n",
    "\n",
    "For example, if we have a list `a`, then the following operations will all change the list `a`\n",
    "```\n",
    "a.append(x)\n",
    "a.sort()\n",
    "a.pop()\n",
    "```\n",
    "\n",
    "However, these will leave `a` exactly the same\n",
    "```\n",
    "b = a + [x]\n",
    "b = sorted(a)\n",
    "```\n",
    "\n",
    "\n",
    "Finally, if we say that `b = a`, and we change `a`, then we can also inadvertently change `b`! Look at the following example"
   ]
  },
  {
   "cell_type": "code",
   "execution_count": 53,
   "metadata": {},
   "outputs": [
    {
     "name": "stdout",
     "output_type": "stream",
     "text": [
      "At the start, a =  [1, 2]  b =  [1, 2]\n",
      "After appending 3 to `a`, we have that a =  [1, 2, 3] , b =  [1, 2, 3]\n",
      "After redefining `a`, we have that a =  [1, 2, 3, 4] , b =  [1, 2, 3]\n"
     ]
    }
   ],
   "source": [
    "a = [1, 2]\n",
    "b = a\n",
    "print(\"At the start, a = \", a, \" b = \", b)\n",
    "\n",
    "a.append(3)\n",
    "print(\"After appending 3 to `a`, we have that a = \", a, \", b = \", b)\n",
    "\n",
    "\n",
    "a = [1, 2, 3, 4]\n",
    "\n",
    "print(\"After redefining `a`, we have that a = \", a, \", b = \", b) # no change to b!"
   ]
  },
  {
   "cell_type": "markdown",
   "metadata": {},
   "source": [
    "The rule of thumb here is that:\n",
    "- In python, variables point to objects if we have `a = [1, 2]` and `b = a`, then `a` and `b` point to the same object.\n",
    "- If we change this object (e.g. using `a.append(x)`), we the value of `b` changes too, as we point to the same object.\n",
    "- If we instead redefine `a` (e.g. `a = [1, 2, 3, 4]`), then we let `a` point to a different object, but we do not change the original object. This is why `b` remains the same.\n",
    "\n",
    "\n",
    "This is a somewhat advanced concept, so do not worry about it too much. Just be cognisant of this idea."
   ]
  },
  {
   "cell_type": "markdown",
   "metadata": {},
   "source": [
    "#### Slicing\n",
    "In Python, slicing is a very useful operation to perform on lists. It effectively allows you to select a part of a list. The syntax is very similar to the above `[]` to select a single item, just slightly different.\n",
    "\n",
    "The main way slicing is performed is (for $a, b \\geq 0$):\n",
    "- `mylist[a:b]` -> This selects all elements of the list whose index i is $a \\leq i < b$, i.e. from `a` (inclusive) to `b` (exclusive).\n",
    "- `mylist[:b]`  -> Imagine `a = 0`, i.e. this selects all elements from the start of the list to just before `b`, i.e. the first `b` elements.\n",
    "- `mylist[a:]`  -> Imagine $b = \\infty$, so this selects everything from `a` to the end of the list\n",
    "\n",
    "\n",
    "There are a few others as well, that are maybe a bit more clear using examples. In this case, suppose $a, b \\geq 0$.\n",
    "- `mylist[-a:]`: Selects the last `a` elements\n",
    "- `mylist[:-a]`: Selects all elements, except the last `a`\n",
    "\n",
    "\n",
    "The following allows you to reverse a list:\n",
    "- `mylist[::-1]`"
   ]
  },
  {
   "cell_type": "code",
   "execution_count": 2,
   "metadata": {},
   "outputs": [
    {
     "name": "stdout",
     "output_type": "stream",
     "text": [
      "mylist =  [1, 2, 3, 4, 5]\n",
      "mylist[2:4] =  [3, 4]\n",
      "mylist[2:] =  [3, 4, 5]\n",
      "mylist[:4] =  [1, 2, 3, 4]\n"
     ]
    }
   ],
   "source": [
    "mylist = [1, 2, 3, 4, 5]\n",
    "print(\"mylist = \", mylist)\n",
    "print(\"mylist[2:4] = \", mylist[2:4])\n",
    "print(\"mylist[2:] = \", mylist[2:])\n",
    "print(\"mylist[:4] = \", mylist[:4])"
   ]
  },
  {
   "cell_type": "code",
   "execution_count": 3,
   "metadata": {},
   "outputs": [
    {
     "name": "stdout",
     "output_type": "stream",
     "text": [
      "mylist[-2:]  =  [4, 5]\n",
      "mylist[:-2]  =  [1, 2, 3]\n"
     ]
    }
   ],
   "source": [
    "print(\"mylist[-2:]  = \", mylist[-2:]) # Last Two elements\n",
    "print(\"mylist[:-2]  = \", mylist[:-2]) # Everything except the last 2"
   ]
  },
  {
   "cell_type": "markdown",
   "metadata": {},
   "source": [
    "### Strings\n",
    "\n",
    "Now, you can use many of the above operations on strings, notably slicing (using `[:]`), concatenation (`str_a + str_b`), etc.\n",
    "\n",
    "In addition, strings have a few other operations that could be useful"
   ]
  },
  {
   "cell_type": "code",
   "execution_count": 6,
   "metadata": {},
   "outputs": [
    {
     "name": "stdout",
     "output_type": "stream",
     "text": [
      "sent =  The quick brown fox jumps over the lazy dog\n"
     ]
    }
   ],
   "source": [
    "sent = 'The quick brown fox jumps over the lazy dog'\n",
    "print(\"sent = \", sent)"
   ]
  },
  {
   "cell_type": "code",
   "execution_count": 8,
   "metadata": {},
   "outputs": [
    {
     "name": "stdout",
     "output_type": "stream",
     "text": [
      "sent.lower() =  the quick brown fox jumps over the lazy dog\n",
      "sent.upper() =  THE QUICK BROWN FOX JUMPS OVER THE LAZY DOG\n"
     ]
    }
   ],
   "source": [
    "print(\"sent.lower() = \", sent.lower())\n",
    "print(\"sent.upper() = \", sent.upper())"
   ]
  },
  {
   "cell_type": "code",
   "execution_count": 10,
   "metadata": {},
   "outputs": [
    {
     "name": "stdout",
     "output_type": "stream",
     "text": [
      "repl_str =  The quick brown cow jumps over the lazy dog\n"
     ]
    }
   ],
   "source": [
    "repl_str = sent.replace(\"fox\", \"cow\")\n",
    "print(\"repl_str = \", repl_str)\n",
    "\n",
    "# Or equivalently:\n",
    "# print('sent.replace(\"fox\", \"cow\") = ', sent.replace(\"fox\", \"cow\"))"
   ]
  },
  {
   "cell_type": "code",
   "execution_count": 57,
   "metadata": {},
   "outputs": [
    {
     "name": "stdout",
     "output_type": "stream",
     "text": [
      "sent[:10] =  The quick \n"
     ]
    }
   ],
   "source": [
    "# Print first 10 characters (including white space) of sent\n",
    "print(\"sent[:10] = \", sent[:10])"
   ]
  },
  {
   "cell_type": "markdown",
   "metadata": {},
   "source": [
    "### Dictionaries\n",
    "Dictionaries are also containers, like lists. What makes them special is that they map between keys and values. Where as list has indices that are sequential integers, the indices in a dictionary (called keys) can be anything.\n",
    "\n",
    "How we define an empty dictionary is like this:"
   ]
  },
  {
   "cell_type": "code",
   "execution_count": 13,
   "metadata": {},
   "outputs": [
    {
     "name": "stdout",
     "output_type": "stream",
     "text": [
      "{}\n"
     ]
    }
   ],
   "source": [
    "my_dict = {}\n",
    "\n",
    "print(my_dict)"
   ]
  },
  {
   "cell_type": "code",
   "execution_count": 14,
   "metadata": {},
   "outputs": [
    {
     "name": "stdout",
     "output_type": "stream",
     "text": [
      "{'John': 25}\n"
     ]
    }
   ],
   "source": [
    "# We can also add in an element\n",
    "\n",
    "# Let's say john is 25 years old\n",
    "my_dict[\"John\"] = 25\n",
    "\n",
    "print(my_dict)"
   ]
  },
  {
   "cell_type": "code",
   "execution_count": 15,
   "metadata": {},
   "outputs": [
    {
     "data": {
      "text/plain": [
       "{'John': 25, 'Mary': 20, 'Steve': 30}"
      ]
     },
     "execution_count": 15,
     "metadata": {},
     "output_type": "execute_result"
    }
   ],
   "source": [
    "# We can also define a dictionary with items in it at the start:\n",
    "\n",
    "ages = {\n",
    "    \"John\": 25,\n",
    "    \"Mary\": 20,\n",
    "    \"Steve\": 30,\n",
    "}\n",
    "\n",
    "ages"
   ]
  },
  {
   "cell_type": "code",
   "execution_count": 16,
   "metadata": {},
   "outputs": [
    {
     "name": "stdout",
     "output_type": "stream",
     "text": [
      "The age of Steve is:  30\n"
     ]
    }
   ],
   "source": [
    "# We can access a dictionary by using the [] operator\n",
    "\n",
    "# e.g.\n",
    "print(\"The age of Steve is: \", ages[\"Steve\"])"
   ]
  },
  {
   "cell_type": "code",
   "execution_count": 17,
   "metadata": {},
   "outputs": [
    {
     "name": "stdout",
     "output_type": "stream",
     "text": [
      "The age of Albert is:  Not Found\n"
     ]
    }
   ],
   "source": [
    "# We can use `get` to give a default.\n",
    "print(\"The age of Albert is: \", ages.get(\"Albert\", \"Not Found\")) # Here, it will try to give the age of Albert, but return \"Not Found\" if \"Albert\" is not in the dictionary"
   ]
  },
  {
   "cell_type": "code",
   "execution_count": 53,
   "metadata": {},
   "outputs": [
    {
     "name": "stdout",
     "output_type": "stream",
     "text": [
      "list(ages.keys())   =  ['John', 'Mary', 'Steve']\n",
      "list(ages.values()) =  [25, 20, 30]\n",
      "list(ages.items())  =  [('John', 25), ('Mary', 20), ('Steve', 30)]\n"
     ]
    }
   ],
   "source": [
    "# We can also get the keys and values of a dictionary\n",
    "\n",
    "print(\"list(ages.keys())   = \", list(ages.keys()))\n",
    "print(\"list(ages.values()) = \", list(ages.values()))\n",
    "print(\"list(ages.items())  = \", list(ages.items()))"
   ]
  },
  {
   "cell_type": "markdown",
   "metadata": {},
   "source": [
    "### Other Data Structures\n",
    "Python contains numerous other data structures that can be quite useful. We will specifically cover `sets` and `tuples`. \n",
    "\n",
    "Sets are similar to lists, but they can only contain one of each item, and it is generally very fast to determine if an element is in a set or not.\n",
    "Tuples are also like lists, but they are *immutable*, so you cannot change a tuple after constructing it.\n"
   ]
  },
  {
   "cell_type": "code",
   "execution_count": 64,
   "metadata": {},
   "outputs": [
    {
     "name": "stdout",
     "output_type": "stream",
     "text": [
      "{1, 2, 3, 4, 5}\n"
     ]
    }
   ],
   "source": [
    "# Create a list from a set\n",
    "myset = set([1, 2, 3, 4, 5, 1, 2, 3, 1, 1, 1])\n",
    "print(myset)"
   ]
  },
  {
   "cell_type": "code",
   "execution_count": 65,
   "metadata": {},
   "outputs": [
    {
     "name": "stdout",
     "output_type": "stream",
     "text": [
      "True\n",
      "False\n"
     ]
    }
   ],
   "source": [
    "print(1 in myset)\n",
    "print(10 in myset)"
   ]
  },
  {
   "cell_type": "code",
   "execution_count": 66,
   "metadata": {},
   "outputs": [
    {
     "data": {
      "text/plain": [
       "{1, 2, 3, 4, 5, 123}"
      ]
     },
     "execution_count": 66,
     "metadata": {},
     "output_type": "execute_result"
    }
   ],
   "source": [
    "myset.add(123)\n",
    "myset"
   ]
  },
  {
   "cell_type": "code",
   "execution_count": 67,
   "metadata": {},
   "outputs": [
    {
     "name": "stdout",
     "output_type": "stream",
     "text": [
      "(1, 2, 3)\n"
     ]
    }
   ],
   "source": [
    "# A tuple can be created using the same syntax as a list, just with round brackets () instead of square ones []\n",
    "my_tuple = (1, 2, 3)\n",
    "print(my_tuple)"
   ]
  },
  {
   "cell_type": "code",
   "execution_count": 68,
   "metadata": {},
   "outputs": [
    {
     "ename": "TypeError",
     "evalue": "'tuple' object does not support item assignment",
     "output_type": "error",
     "traceback": [
      "\u001b[1;31m---------------------------------------------------------------------------\u001b[0m",
      "\u001b[1;31mTypeError\u001b[0m                                 Traceback (most recent call last)",
      "Cell \u001b[1;32mIn[68], line 2\u001b[0m\n\u001b[0;32m      1\u001b[0m \u001b[38;5;66;03m# We cannot change a tuple\u001b[39;00m\n\u001b[1;32m----> 2\u001b[0m \u001b[43mmy_tuple\u001b[49m\u001b[43m[\u001b[49m\u001b[38;5;241;43m1\u001b[39;49m\u001b[43m]\u001b[49m \u001b[38;5;241m+\u001b[39m\u001b[38;5;241m=\u001b[39m \u001b[38;5;241m2\u001b[39m\n",
      "\u001b[1;31mTypeError\u001b[0m: 'tuple' object does not support item assignment"
     ]
    }
   ],
   "source": [
    "# We cannot change a tuple\n",
    "my_tuple[1] += 2"
   ]
  },
  {
   "cell_type": "code",
   "execution_count": 69,
   "metadata": {},
   "outputs": [
    {
     "name": "stdout",
     "output_type": "stream",
     "text": [
      "(1, 4, 3)\n"
     ]
    }
   ],
   "source": [
    "# But we can redefine it\n",
    "my_tuple = (my_tuple[0], my_tuple[1] + 2, my_tuple[2])\n",
    "print(my_tuple)"
   ]
  },
  {
   "cell_type": "code",
   "execution_count": 70,
   "metadata": {},
   "outputs": [
    {
     "data": {
      "text/plain": [
       "(1, 2, 3, 4)"
      ]
     },
     "execution_count": 70,
     "metadata": {},
     "output_type": "execute_result"
    }
   ],
   "source": [
    "# We can also create a tuple using the `tuple` function\n",
    "tuple([1, 2, 3, 4])"
   ]
  },
  {
   "cell_type": "markdown",
   "metadata": {},
   "source": [
    "### Ifs and Conditionals\n",
    "In programming, we often want to make decisions, and behave differently based on some conditions.\n",
    "Conditions are simply boolean variables, which are either True or False.\n",
    "\n",
    "For example, if we had a number `n` and we want to print this out. If `n` is `1`, we want to say: \"You won 1 prize\", whereas if `n` is larger than `1` we want to say: `You won {n} prizes`\n",
    "\n",
    "This can be done using the `if` construct. It works as follows (note the indentation):\n",
    "\n",
    "```\n",
    "if condition:\n",
    "    <code when condition is true>\n",
    "else:\n",
    "    <code when condition is false>\n",
    "```\n",
    "Note two things:\n",
    "- There is indentation after the if, so for multiple lines inside that block, each line must have the same indentation.\n",
    "- The `else` is optional\n",
    "\n",
    "For instance, in the above example:\n",
    "```\n",
    "if n == 1:\n",
    "    print(\"You won 1 prize\")\n",
    "else:\n",
    "    print(\"You won \" + n + \" prizes\")\n",
    "```\n",
    "\n",
    "\n",
    "There is also the `elif` construct (short for `else if`), which functions as a conditional `else`. That code block will only execute if the above condition was `False`, and the current condition is `True`.\n",
    "```\n",
    "if n == 1:\n",
    "    print(\"You won 1 prize\")\n",
    "elif n == 0:\n",
    "    print(\"You did not win any prizes\")\n",
    "else:\n",
    "    print(\"You won \" + n + \" prizes\")\n",
    "```"
   ]
  },
  {
   "cell_type": "code",
   "execution_count": 55,
   "metadata": {},
   "outputs": [
    {
     "name": "stdout",
     "output_type": "stream",
     "text": [
      "You have 2 guests\n"
     ]
    }
   ],
   "source": [
    "# For instance\n",
    "guests = ['John', 'Mary']\n",
    "length = len(guests)\n",
    "if length == 0:\n",
    "    print(\"You have no guests\")\n",
    "elif length == 1:\n",
    "    print(\"You have 1 guest\")\n",
    "else:\n",
    "    print(\"You have\", length, \"guests\")"
   ]
  },
  {
   "cell_type": "code",
   "execution_count": 56,
   "metadata": {
    "tags": []
   },
   "outputs": [],
   "source": [
    "x = 1\n",
    "if x % 2 == 0:\n",
    "    print(\"X is even!\")\n",
    "    \n",
    "# Do not have an else here"
   ]
  },
  {
   "cell_type": "markdown",
   "metadata": {},
   "source": [
    "#### Boolean Conditions\n",
    "Each condition in Python evaluates to a **boolean** value -- either `True` or `False`.\n",
    "For instance,\n",
    "```python\n",
    "1 == 1          # True\n",
    "'a' == 'b'      # False\n",
    "```"
   ]
  },
  {
   "cell_type": "code",
   "execution_count": null,
   "metadata": {},
   "outputs": [
    {
     "name": "stdout",
     "output_type": "stream",
     "text": [
      "1 == 1: True\n",
      "1 == 2: False\n"
     ]
    }
   ],
   "source": [
    "print(\"1 == 1:\", 1 == 1)\n",
    "print(\"1 == 2:\", 1 == 2)"
   ]
  },
  {
   "cell_type": "markdown",
   "metadata": {},
   "source": [
    "#### Combining Different Boolean Conditions\n",
    "Often we have multiple conditions and want to do something only under certain conditions. To do this, we can use the combination operators `and`, `or` and `not`.\n",
    "\n",
    "They work as follows:\n",
    "\n",
    "`and`: `a and b` is only True if both `a` and `b` are true. Otherwise it is False\n",
    "`or`: `a or b` is True if at least one of `a` and `b` are true. It is only False if both are false\n",
    "`not`: `not a` is True if `a` is False, and vice versa."
   ]
  },
  {
   "cell_type": "code",
   "execution_count": null,
   "metadata": {},
   "outputs": [
    {
     "name": "stdout",
     "output_type": "stream",
     "text": [
      "==== AND ===\n",
      "True and False:   False\n",
      "False and True:   False\n",
      "False and False:  False\n",
      "True and True:    True\n",
      "\n",
      "==== OR ===\n",
      "True or False:   True\n",
      "False or True:   True\n",
      "False or False:  False\n",
      "True or True:    True\n",
      "\n",
      "==== NOT ===\n",
      "not True:    False\n",
      "not False:   True\n"
     ]
    }
   ],
   "source": [
    "# Showing this off\n",
    "print(\"==== AND ===\")\n",
    "print(\"True and False:  \", True and False)\n",
    "print(\"False and True:  \", False and True)\n",
    "print(\"False and False: \", False and False)\n",
    "print(\"True and True:   \", True and True)\n",
    "print(\"\\n==== OR ===\")\n",
    "print(\"True or False:  \", True or False)\n",
    "print(\"False or True:  \", False or  True)\n",
    "print(\"False or False: \", False or  False)\n",
    "print(\"True or True:   \", True or True)\n",
    "\n",
    "print(\"\\n==== NOT ===\")\n",
    "print(\"not True:   \", not True)\n",
    "print(\"not False:  \", not False)"
   ]
  },
  {
   "cell_type": "markdown",
   "metadata": {},
   "source": [
    "You can also combine these in arbitrary ways. For instance, let `weather` be a variable containing 'rainy' or 'sunny' and `going_outside` be either True or False, indicating if we are going outside today.\n",
    "\n",
    "Then, we can have something like this:\n",
    "```python\n",
    "if (weather == 'rainy') and going_outside: \n",
    "    print(\"We must put on a jacket\")\n",
    "```"
   ]
  },
  {
   "cell_type": "markdown",
   "metadata": {},
   "source": [
    "## Errors, Help and Documentation\n",
    "\n",
    "Generally, errors happen quite often, especially when one is busy with prototyping.\n",
    "\n",
    "Here we cover some common errors, and how to deal with them generally.\n"
   ]
  },
  {
   "cell_type": "markdown",
   "metadata": {},
   "source": [
    "### Help\n",
    "When you are not sure how something works, or how to approach a problem, there are a few different options you could take:\n",
    "- Look at the documentation of the program (either online, using the `help(method)` or using `method??`)\n",
    "- Googling, looking at Stack Overflow, etc."
   ]
  },
  {
   "cell_type": "markdown",
   "metadata": {},
   "source": [
    "### Errors\n",
    "Errors often happen, and it is useful to know how to deal with them. Here are a few common errors:\n"
   ]
  },
  {
   "cell_type": "markdown",
   "metadata": {},
   "source": [
    "#### Runtime Errors\n",
    "Runtime errors happen when you run the code, and something bad happens\n",
    "##### Naming/Undefined Variables\n",
    "Variables must be defined before they are used, and an error will happen if this is not the case."
   ]
  },
  {
   "cell_type": "code",
   "execution_count": null,
   "metadata": {},
   "outputs": [
    {
     "ename": "NameError",
     "evalue": "name 'name' is not defined",
     "output_type": "error",
     "traceback": [
      "\u001b[0;31m---------------------------------------------------------------------------\u001b[0m",
      "\u001b[0;31mNameError\u001b[0m                                 Traceback (most recent call last)",
      "\u001b[1;32m/home/michael/uni/wits/2022/Tutoring/workshops/intro_python/content/lecture_1_basic_python.ipynb Cell 51\u001b[0m in \u001b[0;36m<cell line: 2>\u001b[0;34m()\u001b[0m\n\u001b[1;32m      <a href='vscode-notebook-cell:/home/michael/uni/wits/2022/Tutoring/workshops/intro_python/content/lecture_1_basic_python.ipynb#Y203sZmlsZQ%3D%3D?line=0'>1</a>\u001b[0m \u001b[39m# Variables must be defined before they are used\u001b[39;00m\n\u001b[0;32m----> <a href='vscode-notebook-cell:/home/michael/uni/wits/2022/Tutoring/workshops/intro_python/content/lecture_1_basic_python.ipynb#Y203sZmlsZQ%3D%3D?line=1'>2</a>\u001b[0m \u001b[39mprint\u001b[39m(\u001b[39m\"\u001b[39m\u001b[39mHey there, my name is \u001b[39m\u001b[39m\"\u001b[39m, name)\n",
      "\u001b[0;31mNameError\u001b[0m: name 'name' is not defined"
     ]
    }
   ],
   "source": [
    "# Variables must be defined before they are used\n",
    "print(\"Hey there, my name is \", name)"
   ]
  },
  {
   "cell_type": "code",
   "execution_count": null,
   "metadata": {},
   "outputs": [
    {
     "name": "stdout",
     "output_type": "stream",
     "text": [
      "Hey there, my name is  John\n"
     ]
    }
   ],
   "source": [
    "# Fix\n",
    "name = \"John\"\n",
    "print(\"Hey there, my name is \", name)"
   ]
  },
  {
   "cell_type": "code",
   "execution_count": null,
   "metadata": {},
   "outputs": [
    {
     "ename": "NameError",
     "evalue": "name 'NAME' is not defined",
     "output_type": "error",
     "traceback": [
      "\u001b[0;31m---------------------------------------------------------------------------\u001b[0m",
      "\u001b[0;31mNameError\u001b[0m                                 Traceback (most recent call last)",
      "\u001b[1;32m/home/michael/uni/wits/2022/Tutoring/workshops/intro_python/content/lecture_1_basic_python.ipynb Cell 54\u001b[0m in \u001b[0;36m<cell line: 2>\u001b[0;34m()\u001b[0m\n\u001b[1;32m      <a href='vscode-notebook-cell:/home/michael/uni/wits/2022/Tutoring/workshops/intro_python/content/lecture_1_basic_python.ipynb#Y211sZmlsZQ%3D%3D?line=0'>1</a>\u001b[0m \u001b[39m# Variables are also case sensitive -- `NAME` does not exist, we only defined `name``\u001b[39;00m\n\u001b[0;32m----> <a href='vscode-notebook-cell:/home/michael/uni/wits/2022/Tutoring/workshops/intro_python/content/lecture_1_basic_python.ipynb#Y211sZmlsZQ%3D%3D?line=1'>2</a>\u001b[0m \u001b[39mprint\u001b[39m(\u001b[39m\"\u001b[39m\u001b[39mHey there, my name is \u001b[39m\u001b[39m\"\u001b[39m, NAME)\n",
      "\u001b[0;31mNameError\u001b[0m: name 'NAME' is not defined"
     ]
    }
   ],
   "source": [
    "# Variables are also case sensitive -- `NAME` does not exist, we only defined `name`\n",
    "print(\"Hey there, my name is \", NAME)"
   ]
  },
  {
   "cell_type": "code",
   "execution_count": null,
   "metadata": {},
   "outputs": [
    {
     "ename": "TypeError",
     "evalue": "list.append() takes exactly one argument (0 given)",
     "output_type": "error",
     "traceback": [
      "\u001b[0;31m---------------------------------------------------------------------------\u001b[0m",
      "\u001b[0;31mTypeError\u001b[0m                                 Traceback (most recent call last)",
      "\u001b[1;32m/home/michael/uni/wits/2022/Tutoring/workshops/intro_python/content/lecture_1_basic_python.ipynb Cell 55\u001b[0m in \u001b[0;36m<cell line: 3>\u001b[0;34m()\u001b[0m\n\u001b[1;32m      <a href='vscode-notebook-cell:/home/michael/uni/wits/2022/Tutoring/workshops/intro_python/content/lecture_1_basic_python.ipynb#Y216sZmlsZQ%3D%3D?line=0'>1</a>\u001b[0m \u001b[39m# Here we try to add nothing to a list -- this is an error.\u001b[39;00m\n\u001b[1;32m      <a href='vscode-notebook-cell:/home/michael/uni/wits/2022/Tutoring/workshops/intro_python/content/lecture_1_basic_python.ipynb#Y216sZmlsZQ%3D%3D?line=1'>2</a>\u001b[0m my_list \u001b[39m=\u001b[39m []\n\u001b[0;32m----> <a href='vscode-notebook-cell:/home/michael/uni/wits/2022/Tutoring/workshops/intro_python/content/lecture_1_basic_python.ipynb#Y216sZmlsZQ%3D%3D?line=2'>3</a>\u001b[0m my_list\u001b[39m.\u001b[39;49mappend()\n",
      "\u001b[0;31mTypeError\u001b[0m: list.append() takes exactly one argument (0 given)"
     ]
    }
   ],
   "source": [
    "# Here we try to add nothing to a list -- this is an error.\n",
    "my_list = []\n",
    "my_list.append()"
   ]
  },
  {
   "cell_type": "code",
   "execution_count": null,
   "metadata": {},
   "outputs": [
    {
     "ename": "KeyError",
     "evalue": "'C'",
     "output_type": "error",
     "traceback": [
      "\u001b[0;31m---------------------------------------------------------------------------\u001b[0m",
      "\u001b[0;31mKeyError\u001b[0m                                  Traceback (most recent call last)",
      "\u001b[1;32m/home/michael/uni/wits/2022/Tutoring/workshops/intro_python/content/lecture_1_basic_python.ipynb Cell 56\u001b[0m in \u001b[0;36m<cell line: 3>\u001b[0;34m()\u001b[0m\n\u001b[1;32m      <a href='vscode-notebook-cell:/home/michael/uni/wits/2022/Tutoring/workshops/intro_python/content/lecture_1_basic_python.ipynb#Y220sZmlsZQ%3D%3D?line=0'>1</a>\u001b[0m my_dictionary \u001b[39m=\u001b[39m {\u001b[39m'\u001b[39m\u001b[39mA\u001b[39m\u001b[39m'\u001b[39m: \u001b[39m0\u001b[39m, \u001b[39m'\u001b[39m\u001b[39mB\u001b[39m\u001b[39m'\u001b[39m: \u001b[39m1\u001b[39m}\n\u001b[0;32m----> <a href='vscode-notebook-cell:/home/michael/uni/wits/2022/Tutoring/workshops/intro_python/content/lecture_1_basic_python.ipynb#Y220sZmlsZQ%3D%3D?line=2'>3</a>\u001b[0m \u001b[39mprint\u001b[39m(\u001b[39m\"\u001b[39m\u001b[39mThe position of \u001b[39m\u001b[39m'\u001b[39m\u001b[39mC\u001b[39m\u001b[39m'\u001b[39m\u001b[39m in the alphabet =\u001b[39m\u001b[39m\"\u001b[39m, my_dictionary[\u001b[39m\"\u001b[39;49m\u001b[39mC\u001b[39;49m\u001b[39m\"\u001b[39;49m])\n",
      "\u001b[0;31mKeyError\u001b[0m: 'C'"
     ]
    }
   ],
   "source": [
    "my_dictionary = {'A': 0, 'B': 1}\n",
    "\n",
    "# Here we are trying to get the value for a key that does not exist in a dictionary!\n",
    "print(\"The position of 'C' in the alphabet =\", my_dictionary[\"C\"])"
   ]
  },
  {
   "cell_type": "code",
   "execution_count": null,
   "metadata": {},
   "outputs": [
    {
     "name": "stdout",
     "output_type": "stream",
     "text": [
      "Not Found\n"
     ]
    }
   ],
   "source": [
    "# Solution, use `get` instead:\n",
    "print(my_dictionary.get(\"C\", \"Not Found\"))"
   ]
  },
  {
   "cell_type": "code",
   "execution_count": null,
   "metadata": {},
   "outputs": [
    {
     "name": "stdout",
     "output_type": "stream",
     "text": [
      "The key 'C' is not found\n"
     ]
    }
   ],
   "source": [
    "# Or you can also use an if:\n",
    "\n",
    "if 'C' in my_dictionary:\n",
    "    print(my_dictionary['C'])\n",
    "else:\n",
    "    print(\"The key 'C' is not found\")"
   ]
  },
  {
   "cell_type": "markdown",
   "metadata": {},
   "source": [
    "#### Syntax Errors\n",
    "Syntax errors happen when you have some statements that are considered invalid by the Python language. These statements cannot be understood and an error will be thrown.\n",
    "\n",
    "These happen **very** often, but they are often easy to fix. Here are some examples"
   ]
  },
  {
   "cell_type": "code",
   "execution_count": null,
   "metadata": {},
   "outputs": [
    {
     "ename": "SyntaxError",
     "evalue": "unexpected EOF while parsing (2718113202.py, line 2)",
     "output_type": "error",
     "traceback": [
      "\u001b[0;36m  Input \u001b[0;32mIn [12]\u001b[0;36m\u001b[0m\n\u001b[0;31m    print(\"Hey there\"\u001b[0m\n\u001b[0m                     ^\u001b[0m\n\u001b[0;31mSyntaxError\u001b[0m\u001b[0;31m:\u001b[0m unexpected EOF while parsing\n"
     ]
    }
   ],
   "source": [
    "# Not having enough brackets -- the closing ) is missing.\n",
    "print(\"Hey there\""
   ]
  },
  {
   "cell_type": "code",
   "execution_count": null,
   "metadata": {},
   "outputs": [
    {
     "ename": "SyntaxError",
     "evalue": "invalid syntax (2563110823.py, line 2)",
     "output_type": "error",
     "traceback": [
      "\u001b[0;36m  Input \u001b[0;32mIn [14]\u001b[0;36m\u001b[0m\n\u001b[0;31m    is_one_equal_to_one = (1 = 1)\u001b[0m\n\u001b[0m                             ^\u001b[0m\n\u001b[0;31mSyntaxError\u001b[0m\u001b[0;31m:\u001b[0m invalid syntax\n"
     ]
    }
   ],
   "source": [
    "# (1 = 1) is an error. We are trying to set the value of 1 = 1. What we actually want is to compare the values, by using 1 == 1\n",
    "is_one_equal_to_one = (1 = 1)"
   ]
  },
  {
   "cell_type": "markdown",
   "metadata": {},
   "source": [
    "#### Logic Errors\n",
    "(Credit to the previous year's notes)\n",
    "Logic errors can happen when your code runs, but it produces the incorrect output.\n",
    "For instance:"
   ]
  },
  {
   "cell_type": "code",
   "execution_count": null,
   "metadata": {},
   "outputs": [],
   "source": [
    "number_1 = 3\n",
    "number_2 = 2\n",
    "sum_of_two_numbers = 3 * 2 # Logic error -- We meant to use the plus (+) operator, but instead used times (*). This will run fine, but it will produce an incorrect result."
   ]
  },
  {
   "cell_type": "markdown",
   "metadata": {},
   "source": [
    "### Functions\n",
    "Now, in the above, we have used quite a lot of functions, such as `len`, `zip`, `enumerate`, `print`, etc. We can define our own functions too.\n",
    "\n",
    "Some reasons why you would want to do this:\n",
    "- Avoid Repetition. In the same way that loops allowed you to avoid copy-pasting code, functions can too.\n",
    "    - If you need to change something, change it in one place instead of 100s\n",
    "- Clear code that is easier to understand (and mark)\n",
    "\n",
    "\n",
    "#### What is a function\n",
    "A function is defined as follows:\n",
    "```\n",
    "def my_function_name(arg1, arg2):\n",
    "    things \n",
    "    ...\n",
    "    \n",
    "    return ...\n",
    "```\n",
    "\n",
    "- The first part is the function name `my_function_name`. This is what you will call later on.\n",
    "- Then, you have arguments (`arg1, arg2`). These are things that you give to the function that it can use. Not all functions need arguments, but most useful ones do.\n",
    "- Finally the `return`. This is what the function gives you back. For example, `len` returns an integer length, so when you say `number_of_elements = len(mylist)`, you are \"catching\" what it returns (or \"throws\").\n",
    "\n",
    "\n",
    "\n",
    "Let's look at a few examples."
   ]
  },
  {
   "cell_type": "code",
   "execution_count": 20,
   "metadata": {
    "tags": []
   },
   "outputs": [],
   "source": [
    "# Define a function\n",
    "def square(x):\n",
    "    return x ** 2"
   ]
  },
  {
   "cell_type": "code",
   "execution_count": 21,
   "metadata": {},
   "outputs": [
    {
     "name": "stdout",
     "output_type": "stream",
     "text": [
      "square(2) =  4\n",
      "25\n"
     ]
    }
   ],
   "source": [
    "print(\"square(2) = \", square(2))\n",
    "\n",
    "x = 5\n",
    "print(square(x))"
   ]
  },
  {
   "cell_type": "code",
   "execution_count": 22,
   "metadata": {
    "tags": []
   },
   "outputs": [],
   "source": [
    "import math\n",
    "def solution_of_quadratic(a, b, c):\n",
    "    # Returns the solutions of a quadratic a * x^2 + b*x + c\n",
    "\n",
    "    \n",
    "    delta = math.sqrt(b - 4 * a * c)\n",
    "    root1 = (-b + delta) / (a * 2)\n",
    "    root2 = (-b - delta) / (a * 2)\n",
    "    \n",
    "    return root1, root2"
   ]
  },
  {
   "cell_type": "code",
   "execution_count": 31,
   "metadata": {},
   "outputs": [
    {
     "name": "stdout",
     "output_type": "stream",
     "text": [
      "roots =  (0.7071067811865476, -0.7071067811865476)  roots[0] =  0.7071067811865476  roots[1] =  -0.7071067811865476\n"
     ]
    }
   ],
   "source": [
    "# Call as follows:\n",
    "roots = solution_of_quadratic(2, 0, -1)\n",
    "print(\"roots = \", roots, \" roots[0] = \", roots[0], \" roots[1] = \", roots[1])"
   ]
  },
  {
   "cell_type": "code",
   "execution_count": 33,
   "metadata": {},
   "outputs": [
    {
     "name": "stdout",
     "output_type": "stream",
     "text": [
      "roots1 =  0.7071067811865476  root2 =  -0.7071067811865476\n"
     ]
    }
   ],
   "source": [
    "# OR\n",
    "root1, root2 = solution_of_quadratic(2, 0, -1)\n",
    "print(\"roots1 = \", root1, \" root2 = \", root2)"
   ]
  },
  {
   "cell_type": "code",
   "execution_count": 34,
   "metadata": {
    "tags": [
     "raises-exception"
    ]
   },
   "outputs": [
    {
     "ename": "ValueError",
     "evalue": "not enough values to unpack (expected 3, got 2)",
     "output_type": "error",
     "traceback": [
      "\u001b[1;31m---------------------------------------------------------------------------\u001b[0m",
      "\u001b[1;31mValueError\u001b[0m                                Traceback (most recent call last)",
      "Cell \u001b[1;32mIn[34], line 3\u001b[0m\n\u001b[0;32m      1\u001b[0m \u001b[38;5;66;03m# Note, this fails. The function is \"throwing\" 2 variables, but we are catching 3\u001b[39;00m\n\u001b[1;32m----> 3\u001b[0m root1, root2, root3 \u001b[38;5;241m=\u001b[39m solution_of_quadratic(\u001b[38;5;241m2\u001b[39m, \u001b[38;5;241m0\u001b[39m, \u001b[38;5;241m-\u001b[39m\u001b[38;5;241m1\u001b[39m)\n",
      "\u001b[1;31mValueError\u001b[0m: not enough values to unpack (expected 3, got 2)"
     ]
    }
   ],
   "source": [
    "# Note, this fails. The function is \"throwing\" 2 variables, but we are catching 3\n",
    "\n",
    "root1, root2, root3 = solution_of_quadratic(2, 0, -1)"
   ]
  },
  {
   "cell_type": "markdown",
   "metadata": {},
   "source": [
    "### Important Note\n",
    "Now, it is important to note that the variable name **inside** the function does not need to correspond to the variable name **outside** the function.\n",
    "\n",
    "\n",
    "So, for our `square` example above, the following are equivalent:\n",
    "\n",
    "```\n",
    "square(2)\n",
    "\n",
    "x = 2\n",
    "square(x)\n",
    "\n",
    "\n",
    "y = 2\n",
    "square(y)\n",
    "```\n",
    "\n",
    "\n",
    "\n",
    "You can also call functions with what is referred to as \"keyword arguments\". This is used as follows:\n",
    "\n",
    "```\n",
    "square(x=2)\n",
    "\n",
    "x = 2\n",
    "square(x=x)\n",
    "\n",
    "y = 2\n",
    "square(x=y)\n",
    "```\n",
    "\n",
    "\n",
    "\n",
    "### Scope\n",
    "Generally, when you reassign a variable inside a function, that is **not** propagated outside the function. For instance:"
   ]
  },
  {
   "cell_type": "code",
   "execution_count": null,
   "metadata": {},
   "outputs": [
    {
     "name": "stdout",
     "output_type": "stream",
     "text": [
      "x before 0\n",
      "x after 0\n"
     ]
    }
   ],
   "source": [
    "x = 0\n",
    "def add_one(x):\n",
    "    x = x + 1\n",
    "\n",
    "print(\"x before\", x)\n",
    "add_one(x)\n",
    "print(\"x after\", x) # See, no change."
   ]
  },
  {
   "cell_type": "markdown",
   "metadata": {},
   "source": [
    "Hence, it is usually preferred if you return everything that must be changed. Like:"
   ]
  },
  {
   "cell_type": "code",
   "execution_count": null,
   "metadata": {},
   "outputs": [
    {
     "name": "stdout",
     "output_type": "stream",
     "text": [
      "x before 0\n",
      "x after 1\n"
     ]
    }
   ],
   "source": [
    "x = 0\n",
    "def add_one(x):\n",
    "    x = x + 1\n",
    "    return x\n",
    "\n",
    "print(\"x before\", x)\n",
    "x = add_one(x)\n",
    "print(\"x after\", x) # Added one, because we returned the updated value, and \"caught\" it"
   ]
  },
  {
   "attachments": {},
   "cell_type": "markdown",
   "metadata": {},
   "source": [
    "Be careful, as before with lists, we could inadvertently change an object if we pass it to a function. Consider the following example:"
   ]
  },
  {
   "cell_type": "code",
   "execution_count": null,
   "metadata": {},
   "outputs": [
    {
     "name": "stdout",
     "output_type": "stream",
     "text": [
      "[1, 2, 3] after the function call\n"
     ]
    }
   ],
   "source": [
    "a = [1, 2]\n",
    "def sum_list(array):\n",
    "    array.append(3)\n",
    "    return sum(array)\n",
    "sum_list(a)  # we pass a reference to `a` here, so any changes to it in the function change `a` outside of the function. This is not always intended!\n",
    "# Remember, reassignments, e.g. `a = a + [3]` create a new object and do not change the current one.\n",
    "print(a, 'after the function call')"
   ]
  },
  {
   "cell_type": "markdown",
   "metadata": {},
   "source": [
    "### Importing\n",
    "Now, for all of the above, we have used our own code. Often, however, we make use of other people's code to do something useful. One example is mathematics, e.g. the `sin` function. In python, this is in the `math` library.\n",
    "\n",
    "To use any library, we have this (usually at the top of the file / notebook)\n",
    "\n",
    "```\n",
    "import math\n",
    "```\n",
    "\n",
    "And we use this as follows:\n",
    "```\n",
    "math.sin(1)\n",
    "```\n",
    "\n",
    "You can also import code like:\n",
    "```\n",
    "from math import sin\n",
    "# use as sin() instead of math.sin()\n",
    "```\n",
    "\n",
    "Or, although this is generally not recommended as it can cause conflicts and headaches when debugging.\n",
    "```\n",
    "from math import *\n",
    "\n",
    "# use as sin()\n",
    "```"
   ]
  },
  {
   "cell_type": "code",
   "execution_count": 54,
   "metadata": {},
   "outputs": [
    {
     "name": "stdout",
     "output_type": "stream",
     "text": [
      "math.sin(0.5) =  0.479425538604203\n"
     ]
    }
   ],
   "source": [
    "import math\n",
    "print(\"math.sin(0.5) = \", math.sin(0.5))"
   ]
  },
  {
   "cell_type": "markdown",
   "metadata": {},
   "source": [
    "There are generally lots of very useful packages that you can use for specific purposes. I am going to cover only a few common ones here, but you can search for something like:\n",
    "\n",
    "> Python package to do X\n",
    "\n",
    "and that will often result in a package you can install (using e.g. `pip install <package_name>`) and import and use."
   ]
  },
  {
   "attachments": {},
   "cell_type": "markdown",
   "metadata": {},
   "source": [
    "## Caveats\n",
    "There are a couple of additional caveats in Python. This is not crucial, but helps to know.\n",
    "1) All variables in Python are an object\n",
    "2) Many python methods can be applied to all or most objects. E.g. `str()`, `type()`, etc. \n",
    "3) Some objects are mutable, in that you can change the underlying object (e.g. `list`, `dict`, etc.), whereas others are not (e.g. `tuple`). To change immutable objects, we must instead create a new object with the correct value.\n",
    "\n",
    "And, Jupyter notebook has some additional oddities. In particular, if you run a cell, all of the variables and functions defined in that cell will be available for any other cell. For instance, if you run cell 3 and then cell 1, cell 1 can use the variables of cell 3. However, this is bad practice, as in general, a notebook should work when run from the first cell to the last one, in order. If we change the value of the variable in a later cell, and run it, the latest value will remain. This is true even if we subsequently delete a cell. As a sanity check, whenever a weird problem happens, it makes sense to restart the notebook kernel (at the top in the navigation bar), just to make sure that an odd scoping issue is not the cause of this problem."
   ]
  },
  {
   "cell_type": "markdown",
   "metadata": {},
   "source": [
    "## Conclusion\n",
    "In this lecture we covered some basic Python features, specifically:\n",
    "- Variables\n",
    "- Mathematical Operations\n",
    "- Lists, Strings and Dictionaries\n",
    "- Errors\n",
    "- Functions and importing external modules\n",
    "\n",
    "\n",
    "\n",
    "These concepts will be solidified in the lab sessions."
   ]
  }
 ],
 "metadata": {
  "celltoolbar": "Tags",
  "kernelspec": {
   "display_name": "Python 3 (ipykernel)",
   "language": "python",
   "name": "python3"
  },
  "language_info": {
   "codemirror_mode": {
    "name": "ipython",
    "version": 3
   },
   "file_extension": ".py",
   "mimetype": "text/x-python",
   "name": "python",
   "nbconvert_exporter": "python",
   "pygments_lexer": "ipython3",
   "version": "3.12.1"
  },
  "toc": {
   "base_numbering": 1,
   "nav_menu": {},
   "number_sections": true,
   "sideBar": true,
   "skip_h1_title": false,
   "title_cell": "Table of Contents",
   "title_sidebar": "Contents",
   "toc_cell": true,
   "toc_position": {},
   "toc_section_display": true,
   "toc_window_display": true
  },
  "vscode": {
   "interpreter": {
    "hash": "eebe757eb7d406a90383b624177d33f4db747b9aa071027f2671d7ed6d401b33"
   }
  }
 },
 "nbformat": 4,
 "nbformat_minor": 4
}
