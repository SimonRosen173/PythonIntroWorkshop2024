{
 "cells": [
  {
   "cell_type": "markdown",
   "metadata": {},
   "source": [
    "# Lecture 2 - Loops\n",
    "\n",
    "This lecture covers loops and more complex list/dictionary operations. This is quite important and will be used very often"
   ]
  },
  {
   "cell_type": "markdown",
   "metadata": {},
   "source": [
    "### Loops\n",
    "\n",
    "Now, suppose you have to print the numbers from 1 - 10, how do you do that? Loops!\n",
    "\n",
    "Loops allow you to define some code that you want to run multiple times, potentially with different values.\n",
    "\n",
    "There are two main types of loops, `for` and `while` loops. You can do everything with either, but one may be more convenient in some situations."
   ]
  },
  {
   "attachments": {},
   "cell_type": "markdown",
   "metadata": {},
   "source": [
    "#### For Loops\n",
    "A `for` loop allows you to iterate over a list and do something for each item.\n",
    "An example is:\n",
    "```\n",
    "for item in mylist:\n",
    "    print(item)\n",
    "```\n",
    "\n",
    "\n",
    "**If you have programmed in other languages**:\n",
    "This is somewhat different to for loops in other languages. For instance, in C++ we would have `for (int i=0; i < 10; ++i){}`. In Python, `for` is closer to a `for each` loop in other languages, or e.g. `for (int i: vec) {}` in C++. In Python, we can use a for loop to iterate over all of the elements of an iterator, e.g. a list. See [here](https://www.quora.com/How-is-Loops-in-Python-different-from-other-programming-languages) for more information if you are interested."
   ]
  },
  {
   "cell_type": "code",
   "execution_count": 1,
   "metadata": {},
   "outputs": [
    {
     "name": "stdout",
     "output_type": "stream",
     "text": [
      "[1, 2, 3, 4, 5]\n",
      "Item =  1\n",
      "Item =  2\n",
      "Item =  3\n",
      "Item =  4\n",
      "Item =  5\n",
      "The sum of all items in mylist is  15\n"
     ]
    }
   ],
   "source": [
    "mylist = [1, 2, 3, 4, 5]\n",
    "print(mylist)\n",
    "total = 0\n",
    "for item in mylist:\n",
    "    print(\"Item = \", item)\n",
    "    total = total + item\n",
    "print(\"The sum of all items in mylist is \", total)"
   ]
  },
  {
   "cell_type": "markdown",
   "metadata": {},
   "source": [
    "#### Range\n",
    "The `range` function is a way to obtain a list of numbers between two values\n",
    "\n",
    "\n",
    "The syntax is:\n",
    "- `range(a)`: returns [0, 1, 2, ..., a-1] \n",
    "  - `a` is exclusive\n",
    "- `range(a, b)`: returns [a, a+1, ..., b-1]\n",
    "  - `b` is exclusive\n",
    "- `range(b, a, -1)`: returns [b, b-1, b-2, ...,  a+1] (assuming $b > a$) \n",
    "  - `a` is exclusive"
   ]
  },
  {
   "cell_type": "code",
   "execution_count": null,
   "metadata": {},
   "outputs": [
    {
     "data": {
      "text/plain": [
       "range(0, 10)"
      ]
     },
     "metadata": {},
     "output_type": "display_data"
    }
   ],
   "source": [
    "range(10)"
   ]
  },
  {
   "cell_type": "markdown",
   "metadata": {},
   "source": [
    "Hey, what's that? It's hard to see now, but if we convert it to a list, it is better"
   ]
  },
  {
   "cell_type": "code",
   "execution_count": null,
   "metadata": {},
   "outputs": [
    {
     "data": {
      "text/plain": [
       "[0, 1, 2, 3, 4, 5, 6, 7, 8, 9]"
      ]
     },
     "metadata": {},
     "output_type": "display_data"
    }
   ],
   "source": [
    "list(range(10))"
   ]
  },
  {
   "cell_type": "markdown",
   "metadata": {},
   "source": [
    "Ok, great, just as we expected. Now, this `range` construct is useful for us to perform a wide range of tasks"
   ]
  },
  {
   "cell_type": "code",
   "execution_count": 2,
   "metadata": {},
   "outputs": [
    {
     "name": "stdout",
     "output_type": "stream",
     "text": [
      "Sum of first 100 squares: 338350\n"
     ]
    }
   ],
   "source": [
    "# What is the sum of the first 100 squares?\n",
    "sum_of_squares = 0\n",
    "for number in range(1, 101): # By default, it starts at zero and goes up to the end - 1. We want to start at one, and end at 100\n",
    "    sum_of_squares += number ** 2\n",
    "print(\"Sum of first 100 squares:\", sum_of_squares)"
   ]
  },
  {
   "cell_type": "code",
   "execution_count": 4,
   "metadata": {
    "tags": []
   },
   "outputs": [],
   "source": [
    "my_list = ['John', \"Mary\", \"Dave\", \"Bob\"]\n",
    "# Which index is equal to Mary?\n",
    "# Multiple Solutions"
   ]
  },
  {
   "cell_type": "code",
   "execution_count": 5,
   "metadata": {},
   "outputs": [
    {
     "name": "stdout",
     "output_type": "stream",
     "text": [
      "Mary's index = 1\n"
     ]
    }
   ],
   "source": [
    "# Solution 1 - list.index method:\n",
    "print(\"Mary's index =\", my_list.index(\"Mary\"))"
   ]
  },
  {
   "cell_type": "code",
   "execution_count": 33,
   "metadata": {},
   "outputs": [
    {
     "name": "stdout",
     "output_type": "stream",
     "text": [
      "range(len(my_list)) =  [0, 1, 2, 3]\n",
      "Item at index 0 = John\n",
      "Item at index 1 = Mary\n",
      "Mary's Index = 1\n"
     ]
    }
   ],
   "source": [
    "# Solution 2 - Loops:\n",
    "print(\"range(len(my_list)) = \", list(range(len(my_list))))\n",
    "for i in range(len(my_list)):\n",
    "    item_at_index_i = my_list[i]\n",
    "    print(\"Item at index\", i, \"=\", item_at_index_i)\n",
    "    if item_at_index_i == 'Mary':\n",
    "        break # Stop the loop early\n",
    "\n",
    "print(\"Mary's Index =\", i)"
   ]
  },
  {
   "cell_type": "code",
   "execution_count": 7,
   "metadata": {},
   "outputs": [
    {
     "name": "stdout",
     "output_type": "stream",
     "text": [
      "enumerate(my_list) =  [(0, 'John'), (1, 'Mary'), (2, 'Dave'), (3, 'Bob')]\n"
     ]
    }
   ],
   "source": [
    "# Solution 3 - Enumerate\n",
    "# firstly, what is an enumerate\n",
    "print(\"enumerate(my_list) = \", list(enumerate(my_list))) # Again use list() to make it easy to see"
   ]
  },
  {
   "cell_type": "markdown",
   "metadata": {},
   "source": [
    "Using `enumerate` can give you access to the indices and items in a list in a super convenient way."
   ]
  },
  {
   "cell_type": "code",
   "execution_count": 29,
   "metadata": {},
   "outputs": [
    {
     "name": "stdout",
     "output_type": "stream",
     "text": [
      "Item at 0 = John\n",
      "Item at 1 = Mary\n",
      "Item at 2 = Dave\n",
      "Item at 3 = Bob\n"
     ]
    }
   ],
   "source": [
    "for index, item in enumerate(my_list):\n",
    "    print(\"Item at\", index, \"=\", item)"
   ]
  },
  {
   "cell_type": "code",
   "execution_count": 30,
   "metadata": {},
   "outputs": [
    {
     "name": "stdout",
     "output_type": "stream",
     "text": [
      "zip(names, birth_months) =  [('John', 'May'), ('Mary', 'January'), ('Bob', 'December')]\n"
     ]
    }
   ],
   "source": [
    "# Zipping\n",
    "# What if you had two lists to iterate over\n",
    "names = ['John', 'Mary', 'Bob']\n",
    "birth_months = ['May', 'January', 'December']\n",
    "# First of all, what is a zip?\n",
    "print(\"zip(names, birth_months) = \", list(zip(names, birth_months))) # Again use list() to make it easy to see"
   ]
  },
  {
   "cell_type": "markdown",
   "metadata": {},
   "source": [
    "`zip`, then provides a way of iterating through two lists in parallel."
   ]
  },
  {
   "cell_type": "code",
   "execution_count": 14,
   "metadata": {},
   "outputs": [
    {
     "name": "stdout",
     "output_type": "stream",
     "text": [
      "John was born in  May\n",
      "Mary was born in  January\n",
      "Bob was born in  December\n"
     ]
    }
   ],
   "source": [
    "for name, bmonth in zip(names, birth_months):\n",
    "    print(name, \"was born in \", bmonth)"
   ]
  },
  {
   "cell_type": "markdown",
   "metadata": {},
   "source": [
    "### List Comprehensions\n",
    "Python provides a very useful feature to create lists, namely, [list comprehensions](https://realpython.com/list-comprehension-python/). This allows you to create a list in one line. However, this is never compulsory, and anything you can do with a list comprehension, you can do with a for loop."
   ]
  },
  {
   "cell_type": "code",
   "execution_count": 15,
   "metadata": {
    "tags": []
   },
   "outputs": [],
   "source": [
    "# Standard For\n",
    "list_a = []\n",
    "for i in range(10):\n",
    "    list_a.append(i ** 2)"
   ]
  },
  {
   "cell_type": "code",
   "execution_count": 16,
   "metadata": {},
   "outputs": [
    {
     "name": "stdout",
     "output_type": "stream",
     "text": [
      "list_a =  [0, 1, 4, 9, 16, 25, 36, 49, 64, 81]\n",
      "list_b =  [0, 1, 4, 9, 16, 25, 36, 49, 64, 81]\n"
     ]
    }
   ],
   "source": [
    "# List comprehension\n",
    "list_b = [i ** 2 for i in range(10)]\n",
    "\n",
    "\n",
    "print(\"list_a = \", list_a)\n",
    "print(\"list_b = \", list_b)\n",
    "\n",
    "\n",
    "assert list_a == list_b"
   ]
  },
  {
   "cell_type": "code",
   "execution_count": 17,
   "metadata": {},
   "outputs": [
    {
     "data": {
      "text/plain": [
       "[[1, 2, 3, 4, 5, 6, 7, 8, 9, 10, 11, 12],\n",
       " [2, 4, 6, 8, 10, 12, 14, 16, 18, 20, 22, 24],\n",
       " [3, 6, 9, 12, 15, 18, 21, 24, 27, 30, 33, 36],\n",
       " [4, 8, 12, 16, 20, 24, 28, 32, 36, 40, 44, 48],\n",
       " [5, 10, 15, 20, 25, 30, 35, 40, 45, 50, 55, 60],\n",
       " [6, 12, 18, 24, 30, 36, 42, 48, 54, 60, 66, 72],\n",
       " [7, 14, 21, 28, 35, 42, 49, 56, 63, 70, 77, 84],\n",
       " [8, 16, 24, 32, 40, 48, 56, 64, 72, 80, 88, 96],\n",
       " [9, 18, 27, 36, 45, 54, 63, 72, 81, 90, 99, 108],\n",
       " [10, 20, 30, 40, 50, 60, 70, 80, 90, 100, 110, 120],\n",
       " [11, 22, 33, 44, 55, 66, 77, 88, 99, 110, 121, 132],\n",
       " [12, 24, 36, 48, 60, 72, 84, 96, 108, 120, 132, 144]]"
      ]
     },
     "execution_count": 17,
     "metadata": {},
     "output_type": "execute_result"
    }
   ],
   "source": [
    "# Can do multidimensional as well.\n",
    "\n",
    "times_table = [[i * j for j in range(1, 12 + 1)] for i in range(1, 12 + 1)]\n",
    "times_table"
   ]
  },
  {
   "cell_type": "code",
   "execution_count": 18,
   "metadata": {},
   "outputs": [
    {
     "data": {
      "text/plain": [
       "[1, 2, 3, 2, 4, 6, 3, 6, 9]"
      ]
     },
     "execution_count": 18,
     "metadata": {},
     "output_type": "execute_result"
    }
   ],
   "source": [
    "# Or using multiple variables, which will go over all combinations:\n",
    "\n",
    "times_table_flat = [i * j for j in range(1, 4) for i in range(1, 4)]\n",
    "times_table_flat"
   ]
  },
  {
   "cell_type": "markdown",
   "metadata": {},
   "source": [
    "### While Loops\n",
    "These are loops that iterate while a specific condition is `True`. The syntax is similar to `ifs`\n",
    "\n",
    "```\n",
    "while condition:\n",
    "    <loop code>\n",
    "```\n"
   ]
  },
  {
   "cell_type": "code",
   "execution_count": 19,
   "metadata": {},
   "outputs": [
    {
     "name": "stdout",
     "output_type": "stream",
     "text": [
      "Even number 1 = 0\n",
      "Even number 2 = 2\n",
      "Even number 3 = 4\n",
      "Even number 4 = 6\n",
      "Even number 5 = 8\n",
      "Even number 6 = 10\n",
      "Even number 7 = 12\n",
      "Even number 8 = 14\n",
      "Even number 9 = 16\n",
      "Even number 10 = 18\n"
     ]
    }
   ],
   "source": [
    "# An example, iterate until you've found 10 even numbers.\n",
    "number_of_even_numbers = 0\n",
    "i = 0\n",
    "while number_of_even_numbers < 10:\n",
    "    if i % 2 == 0:\n",
    "        number_of_even_numbers += 1\n",
    "        print(\"Even number\",  number_of_even_numbers, \"=\", i)\n",
    "    i += 1"
   ]
  },
  {
   "cell_type": "markdown",
   "metadata": {},
   "source": [
    "### Nested Loops\n",
    "Now, loops can be inside other loops, and this can be stacked arbitrarily deeply."
   ]
  },
  {
   "cell_type": "code",
   "execution_count": null,
   "metadata": {},
   "outputs": [
    {
     "name": "stdout",
     "output_type": "stream",
     "text": [
      "[('John', 42, 'fruit'), ('John', 42, 'vegetable'), ('John', -12, 'fruit'), ('John', -12, 'vegetable'), ('Mary', 42, 'fruit'), ('Mary', 42, 'vegetable'), ('Mary', -12, 'fruit'), ('Mary', -12, 'vegetable'), ('Steve', 42, 'fruit'), ('Steve', 42, 'vegetable'), ('Steve', -12, 'fruit'), ('Steve', -12, 'vegetable')]\n"
     ]
    }
   ],
   "source": [
    "# Example, Find the cartesian product of these 3 lists\n",
    "\n",
    "names = ['John', 'Mary', 'Steve']\n",
    "numbers = [42, -12]\n",
    "foods = ['fruit', 'vegetable']\n",
    "\n",
    "cartesian_prod = [] # initialise it empty\n",
    "for name in names:\n",
    "    for number in numbers:\n",
    "        for food in foods:\n",
    "            cartesian_prod.append((name, number, food))\n",
    "\n",
    "print(cartesian_prod)"
   ]
  },
  {
   "cell_type": "markdown",
   "metadata": {},
   "source": [
    "### Looping with Dictionaries and containers\n",
    "\n",
    "We can also easily loop over the items of dictionaries.\n",
    "#### Dictionary Comprehensions\n",
    "First, let us look at another useful aspect of Python -- dictionary comprehensions. These are similar to list comprehensions, just using the dictionary syntax"
   ]
  },
  {
   "cell_type": "code",
   "execution_count": 1,
   "metadata": {},
   "outputs": [
    {
     "data": {
      "text/plain": [
       "'a'"
      ]
     },
     "execution_count": 1,
     "metadata": {},
     "output_type": "execute_result"
    }
   ],
   "source": [
    "# First - a nice function `chr`, the ascii character value for a specific integer.\n",
    "chr(97)"
   ]
  },
  {
   "cell_type": "code",
   "execution_count": 3,
   "metadata": {},
   "outputs": [
    {
     "data": {
      "text/plain": [
       "'z'"
      ]
     },
     "execution_count": 3,
     "metadata": {},
     "output_type": "execute_result"
    }
   ],
   "source": [
    "chr(97 + 25)"
   ]
  },
  {
   "cell_type": "code",
   "execution_count": 21,
   "metadata": {},
   "outputs": [],
   "source": [
    "letters_to_indices = {chr(i + 97): i for i in range(10)}"
   ]
  },
  {
   "cell_type": "code",
   "execution_count": 22,
   "metadata": {},
   "outputs": [
    {
     "data": {
      "text/plain": [
       "{'a': 0,\n",
       " 'b': 1,\n",
       " 'c': 2,\n",
       " 'd': 3,\n",
       " 'e': 4,\n",
       " 'f': 5,\n",
       " 'g': 6,\n",
       " 'h': 7,\n",
       " 'i': 8,\n",
       " 'j': 9}"
      ]
     },
     "execution_count": 22,
     "metadata": {},
     "output_type": "execute_result"
    }
   ],
   "source": [
    "letters_to_indices"
   ]
  },
  {
   "cell_type": "markdown",
   "metadata": {},
   "source": [
    "#### We can also loop over dictionaries easily"
   ]
  },
  {
   "cell_type": "code",
   "execution_count": 40,
   "metadata": {},
   "outputs": [
    {
     "name": "stdout",
     "output_type": "stream",
     "text": [
      "key= a | value= 0\n",
      "key= b | value= 1\n",
      "key= c | value= 2\n",
      "key= d | value= 3\n",
      "key= e | value= 4\n",
      "key= f | value= 5\n",
      "key= g | value= 6\n",
      "key= h | value= 7\n",
      "key= i | value= 8\n",
      "key= j | value= 9\n"
     ]
    }
   ],
   "source": [
    "for key, value in letters_to_indices.items():\n",
    "    print(\"key=\", key, \"|\", \"value=\", value)"
   ]
  },
  {
   "cell_type": "code",
   "execution_count": 41,
   "metadata": {},
   "outputs": [
    {
     "name": "stdout",
     "output_type": "stream",
     "text": [
      "key= a  | value= 0\n",
      "key= b  | value= 1\n",
      "key= c  | value= 2\n",
      "key= d  | value= 3\n",
      "key= e  | value= 4\n",
      "key= f  | value= 5\n",
      "key= g  | value= 6\n",
      "key= h  | value= 7\n",
      "key= i  | value= 8\n",
      "key= j  | value= 9\n"
     ]
    }
   ],
   "source": [
    "for key in letters_to_indices:\n",
    "    print(\"key=\", key, \" | value=\", letters_to_indices[key])"
   ]
  },
  {
   "cell_type": "markdown",
   "metadata": {},
   "source": [
    "#### You can also use `enumerate`, `zip`, etc. with dictionary iterators too!"
   ]
  },
  {
   "cell_type": "markdown",
   "metadata": {},
   "source": [
    "### Other list/iterator operations\n",
    "We have many other operations that can be used with lists.\n",
    "- `reversed(x)` -> Reverses `x`\n",
    "- `sorted(x)`   -> Returns a sorted list\n",
    "\n",
    "#### Warning\n",
    "Be careful when using iterators like those returned by functions like `enumerate, zip, reversed`, etc. They can only be used once. Consider this example:"
   ]
  },
  {
   "cell_type": "code",
   "execution_count": 25,
   "metadata": {},
   "outputs": [
    {
     "name": "stdout",
     "output_type": "stream",
     "text": [
      "Loop 1 1\n",
      "Loop 1 2\n",
      "Loop 1 3\n",
      "Loop 1 4\n",
      "Loop 1 5\n",
      "--\n",
      "Loop 2 1\n",
      "Loop 2 2\n",
      "Loop 2 3\n",
      "Loop 2 4\n",
      "Loop 2 5\n"
     ]
    }
   ],
   "source": [
    "numbers = [1, 2, 3, 4, 5]\n",
    "for num in numbers:\n",
    "    print(\"Loop 1\", num)\n",
    "print(\"--\")\n",
    "for num in numbers:\n",
    "    print(\"Loop 2\", num)"
   ]
  },
  {
   "cell_type": "code",
   "execution_count": 26,
   "metadata": {},
   "outputs": [
    {
     "name": "stdout",
     "output_type": "stream",
     "text": [
      "Loop 1 (0, 1)\n",
      "Loop 1 (1, 2)\n",
      "Loop 1 (2, 3)\n",
      "Loop 1 (3, 4)\n",
      "Loop 1 (4, 5)\n",
      "--\n"
     ]
    }
   ],
   "source": [
    "numbers = enumerate([1, 2, 3, 4, 5])\n",
    "for num in numbers:\n",
    "    print(\"Loop 1\", num)\n",
    "print(\"--\")\n",
    "# See, the second loop never happens! Iterators are one use only\n",
    "for num in numbers:\n",
    "    print(\"Loop 2\", num)"
   ]
  },
  {
   "cell_type": "code",
   "execution_count": 27,
   "metadata": {},
   "outputs": [
    {
     "name": "stdout",
     "output_type": "stream",
     "text": [
      "Loop 1 5\n",
      "Loop 1 4\n",
      "Loop 1 3\n",
      "Loop 1 2\n",
      "Loop 1 1\n",
      "--\n",
      "Loop 2 5\n",
      "Loop 2 4\n",
      "Loop 2 3\n",
      "Loop 2 2\n",
      "Loop 2 1\n"
     ]
    }
   ],
   "source": [
    "numbers = [1, 2, 3, 4, 5]\n",
    "numbers = numbers[::-1] # reverse using indexing\n",
    "for num in numbers:\n",
    "    print(\"Loop 1\", num)\n",
    "print(\"--\")\n",
    "# Both loops work\n",
    "for num in numbers:\n",
    "    print(\"Loop 2\", num)"
   ]
  },
  {
   "cell_type": "code",
   "execution_count": 28,
   "metadata": {},
   "outputs": [
    {
     "name": "stdout",
     "output_type": "stream",
     "text": [
      "Loop 1 5\n",
      "Loop 1 4\n",
      "Loop 1 3\n",
      "Loop 1 2\n",
      "Loop 1 1\n",
      "--\n"
     ]
    }
   ],
   "source": [
    "numbers = [1, 2, 3, 4, 5]\n",
    "numbers = reversed(numbers) # reverse using the `reversed` function\n",
    "for num in numbers:\n",
    "    print(\"Loop 1\", num)\n",
    "print(\"--\")\n",
    "# Only the first loop works!\n",
    "for num in numbers:\n",
    "    print(\"Loop 2\", num)"
   ]
  },
  {
   "cell_type": "markdown",
   "metadata": {},
   "source": [
    "## Conclusion\n",
    "In this lecture we covered loops, allowing us to iterate over structures, or perform repeated tasks. In particular, we covered:\n",
    "- For Loops\n",
    "- List Comprehensions\n",
    "- While Loops\n",
    "- Looping over containers\n",
    "- Container functions, like `sorted`, `enumerate`, `zip`, etc."
   ]
  },
  {
   "cell_type": "code",
   "execution_count": null,
   "metadata": {},
   "outputs": [],
   "source": []
  }
 ],
 "metadata": {
  "kernelspec": {
   "display_name": "Python 3 (ipykernel)",
   "language": "python",
   "name": "python3"
  },
  "language_info": {
   "codemirror_mode": {
    "name": "ipython",
    "version": 3
   },
   "file_extension": ".py",
   "mimetype": "text/x-python",
   "name": "python",
   "nbconvert_exporter": "python",
   "pygments_lexer": "ipython3",
   "version": "3.12.1"
  },
  "vscode": {
   "interpreter": {
    "hash": "eebe757eb7d406a90383b624177d33f4db747b9aa071027f2671d7ed6d401b33"
   }
  }
 },
 "nbformat": 4,
 "nbformat_minor": 4
}
