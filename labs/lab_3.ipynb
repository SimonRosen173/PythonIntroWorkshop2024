{
 "cells": [
  {
   "cell_type": "markdown",
   "id": "b62ecb3a-198b-4a7e-9703-fa4d5daa2025",
   "metadata": {},
   "source": [
    "# Lab 3.1 - NumPy"
   ]
  },
  {
   "cell_type": "markdown",
   "id": "40c5ae3b-36d6-4f76-937c-e44ca883a624",
   "metadata": {},
   "source": [
    "## 1. NumPy"
   ]
  },
  {
   "cell_type": "code",
   "execution_count": null,
   "id": "264b0940-0fc8-4fe7-9f96-e3636749db98",
   "metadata": {},
   "outputs": [],
   "source": [
    "# RUN THIS\n",
    "import numpy as np"
   ]
  },
  {
   "cell_type": "markdown",
   "id": "02a86fb1-1d14-43a1-b18e-3ec67beddf2b",
   "metadata": {},
   "source": [
    "### 1.1 Creating Arrays"
   ]
  },
  {
   "cell_type": "markdown",
   "id": "e7b28cf6-779b-4d61-9cc1-c9344f8078a5",
   "metadata": {},
   "source": [
    "1. Create a NumPy array from the list `l` and name it `arr`."
   ]
  },
  {
   "cell_type": "code",
   "execution_count": null,
   "id": "819fb1ef-2ae1-4638-9279-7a694ee5eecb",
   "metadata": {},
   "outputs": [],
   "source": [
    "l = [1,2,3]\n",
    "arr = ..."
   ]
  },
  {
   "cell_type": "markdown",
   "id": "1bc3cd28-5de0-4d94-a0b8-ecc481c71cc0",
   "metadata": {},
   "source": [
    "2. Create a 1 dimensional array `arr` of length 10 with all elements set to 1."
   ]
  },
  {
   "cell_type": "code",
   "execution_count": null,
   "id": "3c591b2b-9ee8-467c-896d-3288da952804",
   "metadata": {},
   "outputs": [],
   "source": [
    "arr = ..."
   ]
  },
  {
   "cell_type": "markdown",
   "id": "122f3068-5008-40b3-9ee8-128aca34ba1c",
   "metadata": {},
   "source": [
    "3. Create a 1 dimensional array`arr` of length 4 with all elements set randomly using `np.random.rand()`."
   ]
  },
  {
   "cell_type": "code",
   "execution_count": null,
   "id": "25dd8426-fff9-4f76-98be-40d188f0720a",
   "metadata": {},
   "outputs": [],
   "source": [
    "arr = ..."
   ]
  },
  {
   "cell_type": "markdown",
   "id": "0e451c8e-f4f3-4e3a-9de3-9489e7e8ac77",
   "metadata": {},
   "source": [
    "4. Create a 2 dimensional array `arr` of size 10x10 with all elements set to 0."
   ]
  },
  {
   "cell_type": "code",
   "execution_count": null,
   "id": "fcdcaa80-6c1e-4d02-97ac-73d7662707d5",
   "metadata": {},
   "outputs": [],
   "source": [
    "arr = ..."
   ]
  },
  {
   "cell_type": "markdown",
   "id": "3132a0cc-9812-4092-89a8-bb26a8652faf",
   "metadata": {},
   "source": [
    "5. Create a multi-dimensional array `arr` of size 4x4x3 with all the elements set to 0. After doing so print the shape of `arr`."
   ]
  },
  {
   "cell_type": "code",
   "execution_count": null,
   "id": "0dca040d-5e3a-40dc-8f77-4174c2f8d233",
   "metadata": {},
   "outputs": [],
   "source": [
    "arr = ..."
   ]
  },
  {
   "cell_type": "markdown",
   "id": "682fa937-acc2-4629-9d3e-4367d898aab5",
   "metadata": {},
   "source": [
    "6. Create a 2D array `arr` of size 4x4 containing the integers 0 - 16 arranged such that the numbers sequently increase from left to right and top to bottom.\n",
    "\n",
    "Array values\n",
    "```\n",
    "0 1 2 3\n",
    "4 5 6 7\n",
    "8 9 10 11\n",
    "12 13 14 15\n",
    "```\n",
    "\n",
    "Hint: Use `arange()` and `reshape()`"
   ]
  },
  {
   "cell_type": "code",
   "execution_count": null,
   "id": "39ee036a-cd3e-4c66-95a7-aadde3b88112",
   "metadata": {},
   "outputs": [],
   "source": [
    "arr = ..."
   ]
  },
  {
   "cell_type": "markdown",
   "id": "cf74f827-d0bf-47ca-b31a-c8a30de46dd6",
   "metadata": {},
   "source": [
    "### 1.2 Indexing Arrays"
   ]
  },
  {
   "cell_type": "markdown",
   "id": "c094b0dd-44e8-44c7-9531-8237256b0af3",
   "metadata": {},
   "source": [
    "1. Create a NumPy array `arr` from the list `l` and index and print the second element."
   ]
  },
  {
   "cell_type": "code",
   "execution_count": null,
   "id": "5b6d50b7-28c5-413b-93cf-ce162eff944e",
   "metadata": {},
   "outputs": [],
   "source": [
    "l = [1,2,3,4]\n",
    "arr = ...\n",
    "..."
   ]
  },
  {
   "cell_type": "markdown",
   "id": "f17725b8-5b66-42c2-b077-1157eaf57f1c",
   "metadata": {},
   "source": [
    "2. Create a 2D NumPy array `arr` from the list `l2d` and index and print the element at index (2,1)."
   ]
  },
  {
   "cell_type": "code",
   "execution_count": null,
   "id": "ec76cdef-52b1-40f8-91d5-7b35b9aeead9",
   "metadata": {},
   "outputs": [],
   "source": [
    "l2d = [[1,2,3], [4, 5, 6], [7, 8, 9]]\n",
    "arr2d = ...\n",
    "..."
   ]
  },
  {
   "cell_type": "markdown",
   "id": "e8382a91-3597-41d1-8a2f-c6d7ea80e97e",
   "metadata": {},
   "source": [
    "3. Using the above array `arr2d` index and print all of row 2. Hint: Use slicing."
   ]
  },
  {
   "cell_type": "code",
   "execution_count": null,
   "id": "2f8b8d3a-a22d-4da3-a66a-0322a1e21c4f",
   "metadata": {},
   "outputs": [],
   "source": []
  },
  {
   "cell_type": "markdown",
   "id": "ac4b572c-90e4-4d06-a0a8-e62e6dfd978e",
   "metadata": {},
   "source": [
    "4. Create a 2D NumPy array `arr` with the following values and format:\n",
    "```\n",
    "1 2 3 4\n",
    "5 6 7 8\n",
    "9 10 11 12\n",
    "13 14 15 16\n",
    "```\n",
    "\n",
    "Given this NumPy array index and print:\n",
    "```\n",
    "1 2 3\n",
    "5 6 7\n",
    "```\n",
    "using slicing"
   ]
  },
  {
   "cell_type": "code",
   "execution_count": null,
   "id": "2ceb9970-0b1c-49cb-8412-16b9ed98483b",
   "metadata": {},
   "outputs": [],
   "source": [
    "arr = ..."
   ]
  },
  {
   "cell_type": "markdown",
   "id": "1bffb8e1-ffdb-41d0-9e1b-05745494a65f",
   "metadata": {},
   "source": [
    "### 1.3 Operations"
   ]
  },
  {
   "cell_type": "markdown",
   "id": "b9047bec-06d7-4fe2-88cb-13e0d246c6ca",
   "metadata": {},
   "source": [
    "1. Given the NumPy array `arr`, find and print the: <br>\n",
    "a) Min <br>\n",
    "b) Max <br>\n",
    "c) Mean <br>\n",
    "d) Standard Deviation <br>\n",
    "e) Sum <br>\n",
    "\n",
    "Useful resource: [NumPy Array Docs](https://numpy.org/doc/stable/reference/generated/numpy.ndarray.html). Note: Just look at the 'methods' section of that page."
   ]
  },
  {
   "cell_type": "code",
   "execution_count": null,
   "id": "9a5d1d16-c5fa-4096-b2e8-ba343b5cb66f",
   "metadata": {},
   "outputs": [],
   "source": [
    "# RUN THIS FIRST\n",
    "arr = np.random.randn(100, 100, 100)\n",
    "arr.shape"
   ]
  },
  {
   "cell_type": "markdown",
   "id": "cd66eaf1-cb0f-4c8f-8298-7224f3014274",
   "metadata": {},
   "source": [
    "a) "
   ]
  },
  {
   "cell_type": "code",
   "execution_count": null,
   "id": "fc4da5db-d611-40c4-a58b-5232829da3ef",
   "metadata": {},
   "outputs": [],
   "source": []
  },
  {
   "cell_type": "markdown",
   "id": "38680e88-8975-45f2-92d4-5c41849d3b5e",
   "metadata": {},
   "source": [
    "b) "
   ]
  },
  {
   "cell_type": "code",
   "execution_count": null,
   "id": "702f15a5-7c0a-42f9-bd43-39afbf8cf446",
   "metadata": {},
   "outputs": [],
   "source": []
  },
  {
   "cell_type": "markdown",
   "id": "770f5a4c-2c5c-4b69-bc80-f7d9271e7d32",
   "metadata": {},
   "source": [
    "c) "
   ]
  },
  {
   "cell_type": "code",
   "execution_count": null,
   "id": "d74415a5-e755-4baf-a280-49ec15e10571",
   "metadata": {},
   "outputs": [],
   "source": []
  },
  {
   "cell_type": "markdown",
   "id": "aa7db6e2-3c27-4e0d-a18f-85701ff99cc1",
   "metadata": {},
   "source": [
    "d)"
   ]
  },
  {
   "cell_type": "code",
   "execution_count": null,
   "id": "4587b70d-a4ba-4768-8a8f-3e644785aaf2",
   "metadata": {},
   "outputs": [],
   "source": []
  },
  {
   "cell_type": "markdown",
   "id": "e0b04288-ce0e-46b7-aeba-ccc464c60f1d",
   "metadata": {},
   "source": [
    "e) "
   ]
  },
  {
   "cell_type": "code",
   "execution_count": null,
   "id": "94e5764d-ea9b-417a-98b6-32bfdce5519d",
   "metadata": {},
   "outputs": [],
   "source": []
  },
  {
   "cell_type": "markdown",
   "id": "277ebe5b-f08f-4180-b204-e3086f2000e6",
   "metadata": {},
   "source": [
    "#### Operations Over a Specific Axis"
   ]
  },
  {
   "cell_type": "markdown",
   "id": "5a920136-1101-4a48-beb9-7b023f830e72",
   "metadata": {},
   "source": [
    "2. Given the NumPy array `arr`, take the sum over the first axis (i.e., axis 0)"
   ]
  },
  {
   "cell_type": "code",
   "execution_count": null,
   "id": "631226d7-4598-4e2b-82d6-2cd48afd9d61",
   "metadata": {},
   "outputs": [],
   "source": [
    "arr = np.random.randn(10, 10, 10)\n",
    "\n",
    "arr_sum = ...\n",
    "print(arr_sum)\n",
    "\n",
    "assert arr_sum.shape == (10, 10), \"sum was taken over the wrong axis\""
   ]
  },
  {
   "cell_type": "markdown",
   "id": "22eb3b6b-0325-48c2-a294-8675d0fa6ef4",
   "metadata": {},
   "source": [
    "## 2. Pandas"
   ]
  },
  {
   "cell_type": "code",
   "execution_count": null,
   "id": "ed407dcf-a545-4fc5-b072-b3a08628ff1c",
   "metadata": {},
   "outputs": [],
   "source": [
    "import pandas as pd\n",
    "import seaborn as sns"
   ]
  },
  {
   "cell_type": "markdown",
   "id": "96b8dd8d-26df-4f20-bea0-92483a58b109",
   "metadata": {},
   "source": [
    "### 2.1 Basics"
   ]
  },
  {
   "cell_type": "code",
   "execution_count": null,
   "id": "d97f47b8-0a67-4b74-b57f-d7abe8dc5932",
   "metadata": {},
   "outputs": [],
   "source": [
    "# RUN THIS\n",
    "df = sns.load_dataset(\"iris\")"
   ]
  },
  {
   "cell_type": "markdown",
   "id": "256e50a1-84c1-4b33-89a2-d17130a7ad96",
   "metadata": {},
   "source": [
    "1. Show the top rows of the DataFrame `df` using `head()`"
   ]
  },
  {
   "cell_type": "code",
   "execution_count": null,
   "id": "6e599d03-8a38-4431-adab-c74fbec4f7af",
   "metadata": {},
   "outputs": [],
   "source": []
  },
  {
   "cell_type": "markdown",
   "id": "9746da01-ba90-4382-9621-626925b62450",
   "metadata": {},
   "source": [
    "2. Print the shape of `df`"
   ]
  },
  {
   "cell_type": "code",
   "execution_count": null,
   "id": "6a63b047-f6f4-47f9-8d51-dd210bb82b92",
   "metadata": {},
   "outputs": [],
   "source": []
  },
  {
   "cell_type": "markdown",
   "id": "a7dd1915-c9c1-4351-b2fc-5a05b876d3b2",
   "metadata": {},
   "source": [
    "3. Index and show the column titled \"sepal_length\""
   ]
  },
  {
   "cell_type": "code",
   "execution_count": null,
   "id": "1c2b11b7-8328-4863-9bf5-84ae2a19a16e",
   "metadata": {},
   "outputs": [],
   "source": []
  },
  {
   "cell_type": "markdown",
   "id": "d4160a3f-707b-46b5-bc82-fe4696edc745",
   "metadata": {},
   "source": [
    "4. Use `describe` to show important stats about the DataFrame"
   ]
  },
  {
   "cell_type": "code",
   "execution_count": null,
   "id": "7e2415e6-0126-42ac-89df-bd19facfeaec",
   "metadata": {},
   "outputs": [],
   "source": []
  },
  {
   "cell_type": "markdown",
   "id": "fdd428b2-b187-49bb-8b02-9e979ab84595",
   "metadata": {},
   "source": [
    "5. Index and show the element in `df` at row 1 and column 2. Hint: Use `iloc`."
   ]
  },
  {
   "cell_type": "code",
   "execution_count": null,
   "id": "de782ea2-ae1b-4877-ae53-98e2b4090171",
   "metadata": {},
   "outputs": [],
   "source": []
  },
  {
   "cell_type": "markdown",
   "id": "ae1bd6e1-9bf6-43bf-a80e-e0342113a7ea",
   "metadata": {},
   "source": [
    "6. Index and show the element in df with index 3 and in column \"petal_width\". Hint: use `loc`."
   ]
  },
  {
   "cell_type": "code",
   "execution_count": null,
   "id": "6adb76b5-c7b8-4c16-ad3e-59b0935c638f",
   "metadata": {},
   "outputs": [],
   "source": []
  },
  {
   "cell_type": "markdown",
   "id": "f8e31d82-b4f1-44d9-b846-daabc0e15730",
   "metadata": {},
   "source": [
    "## 2. Matplotlib"
   ]
  },
  {
   "cell_type": "code",
   "execution_count": null,
   "id": "3a97db94-3fa2-48d5-b623-a6be89b2da27",
   "metadata": {},
   "outputs": [],
   "source": [
    "# RUN THIS\n",
    "import matplotlib.pyplot as plt"
   ]
  },
  {
   "cell_type": "markdown",
   "id": "0fa6a466-648a-4ce9-adb2-a62b5a9a4d09",
   "metadata": {},
   "source": [
    "1. Create a line graph using the NumPy arrays `x` and `y`."
   ]
  },
  {
   "cell_type": "code",
   "execution_count": null,
   "id": "e8656bb3-6ab8-494a-ae59-b80809ae2ef5",
   "metadata": {},
   "outputs": [],
   "source": [
    "x = np.arange(10)\n",
    "y = x * 2\n",
    "\n",
    "..."
   ]
  },
  {
   "cell_type": "markdown",
   "id": "c1034a8c-dde9-41d1-b047-f7cd56327d6c",
   "metadata": {},
   "source": [
    "2. Create a scatter plot using the NumPy arrays `x` and `y`. Specify the label for the x-axis as `x`, the label for the y-axis as `y` and the title as \"Scatter Plot\"."
   ]
  },
  {
   "cell_type": "code",
   "execution_count": null,
   "id": "b44a2805-8806-4d5a-8d57-13e208b29942",
   "metadata": {},
   "outputs": [],
   "source": [
    "x = np.random.randint(0, 100, 100)\n",
    "y = np.random.randint(0, 100, 100)\n",
    "\n",
    "..."
   ]
  },
  {
   "cell_type": "markdown",
   "id": "8b4bf7a4-7333-430b-a818-3d261f32bcb2",
   "metadata": {},
   "source": [
    "### Seaborn"
   ]
  },
  {
   "cell_type": "code",
   "execution_count": null,
   "id": "738fce94-218a-447b-aa21-78dbfb61b184",
   "metadata": {},
   "outputs": [],
   "source": [
    "# RUN THIS\n",
    "import seaborn as sns\n",
    "sns.set_theme()"
   ]
  },
  {
   "cell_type": "markdown",
   "id": "419e0ad7-c185-4caf-b62e-61a7e5114477",
   "metadata": {},
   "source": [
    "1. Use seaborn to create a scatter plot visualising `sepal_length` (x-axis) vs `sepal_width` (y-axis), for the dataframe `df`."
   ]
  },
  {
   "cell_type": "code",
   "execution_count": null,
   "id": "1b7d614e-d883-4750-b478-f48989f3dc42",
   "metadata": {},
   "outputs": [],
   "source": [
    "df = sns.load_dataset('iris')\n",
    "..."
   ]
  }
 ],
 "metadata": {
  "kernelspec": {
   "display_name": "Python 3 (ipykernel)",
   "language": "python",
   "name": "python3"
  },
  "language_info": {
   "codemirror_mode": {
    "name": "ipython",
    "version": 3
   },
   "file_extension": ".py",
   "mimetype": "text/x-python",
   "name": "python",
   "nbconvert_exporter": "python",
   "pygments_lexer": "ipython3",
   "version": "3.12.1"
  }
 },
 "nbformat": 4,
 "nbformat_minor": 5
}
