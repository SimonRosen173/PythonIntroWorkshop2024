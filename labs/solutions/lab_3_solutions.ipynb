{
 "cells": [
  {
   "cell_type": "markdown",
   "id": "b62ecb3a-198b-4a7e-9703-fa4d5daa2025",
   "metadata": {},
   "source": [
    "# Lab 3.1 - NumPy"
   ]
  },
  {
   "cell_type": "markdown",
   "id": "40c5ae3b-36d6-4f76-937c-e44ca883a624",
   "metadata": {},
   "source": [
    "## 1. NumPy"
   ]
  },
  {
   "cell_type": "code",
   "execution_count": 25,
   "id": "264b0940-0fc8-4fe7-9f96-e3636749db98",
   "metadata": {},
   "outputs": [],
   "source": [
    "# RUN THIS\n",
    "import numpy as np"
   ]
  },
  {
   "cell_type": "markdown",
   "id": "02a86fb1-1d14-43a1-b18e-3ec67beddf2b",
   "metadata": {},
   "source": [
    "### 1.1 Creating Arrays"
   ]
  },
  {
   "cell_type": "markdown",
   "id": "e7b28cf6-779b-4d61-9cc1-c9344f8078a5",
   "metadata": {},
   "source": [
    "1. Create a NumPy array from the list `l` and name it `arr`."
   ]
  },
  {
   "cell_type": "code",
   "execution_count": 59,
   "id": "819fb1ef-2ae1-4638-9279-7a694ee5eecb",
   "metadata": {},
   "outputs": [
    {
     "data": {
      "text/plain": [
       "('array([1, 2, 3])', '[1 2 3]')"
      ]
     },
     "execution_count": 59,
     "metadata": {},
     "output_type": "execute_result"
    }
   ],
   "source": [
    "l = [1,2,3]\n",
    "arr = np.array(l)\n",
    "repr(arr), str(arr)"
   ]
  },
  {
   "cell_type": "markdown",
   "id": "1bc3cd28-5de0-4d94-a0b8-ecc481c71cc0",
   "metadata": {},
   "source": [
    "2. Create a 1 dimensional array `arr` of length 10 with all elements set to 1."
   ]
  },
  {
   "cell_type": "code",
   "execution_count": 34,
   "id": "3c591b2b-9ee8-467c-896d-3288da952804",
   "metadata": {},
   "outputs": [
    {
     "data": {
      "text/plain": [
       "array([1., 1., 1., 1., 1., 1., 1., 1., 1., 1.])"
      ]
     },
     "execution_count": 34,
     "metadata": {},
     "output_type": "execute_result"
    }
   ],
   "source": [
    "arr = np.ones(10)\n",
    "arr"
   ]
  },
  {
   "cell_type": "markdown",
   "id": "122f3068-5008-40b3-9ee8-128aca34ba1c",
   "metadata": {},
   "source": [
    "3. Create a 1 dimensional array`arr` of length 4 with all elements set randomly using `np.random.rand()`."
   ]
  },
  {
   "cell_type": "code",
   "execution_count": 35,
   "id": "25dd8426-fff9-4f76-98be-40d188f0720a",
   "metadata": {},
   "outputs": [
    {
     "data": {
      "text/plain": [
       "array([0.2563428 , 0.89142811, 0.73134136, 0.75367382, 0.66335633,\n",
       "       0.34308923, 0.60696524, 0.26536168, 0.75576092, 0.67135357])"
      ]
     },
     "execution_count": 35,
     "metadata": {},
     "output_type": "execute_result"
    }
   ],
   "source": [
    "arr = np.random.rand(10)\n",
    "arr"
   ]
  },
  {
   "cell_type": "markdown",
   "id": "0e451c8e-f4f3-4e3a-9de3-9489e7e8ac77",
   "metadata": {},
   "source": [
    "4. Create a 2 dimensional array `arr` of size 10x10 with all elements set to 0."
   ]
  },
  {
   "cell_type": "code",
   "execution_count": 36,
   "id": "fcdcaa80-6c1e-4d02-97ac-73d7662707d5",
   "metadata": {},
   "outputs": [
    {
     "data": {
      "text/plain": [
       "array([[0., 0., 0., 0., 0., 0., 0., 0., 0., 0.],\n",
       "       [0., 0., 0., 0., 0., 0., 0., 0., 0., 0.],\n",
       "       [0., 0., 0., 0., 0., 0., 0., 0., 0., 0.],\n",
       "       [0., 0., 0., 0., 0., 0., 0., 0., 0., 0.],\n",
       "       [0., 0., 0., 0., 0., 0., 0., 0., 0., 0.],\n",
       "       [0., 0., 0., 0., 0., 0., 0., 0., 0., 0.],\n",
       "       [0., 0., 0., 0., 0., 0., 0., 0., 0., 0.],\n",
       "       [0., 0., 0., 0., 0., 0., 0., 0., 0., 0.],\n",
       "       [0., 0., 0., 0., 0., 0., 0., 0., 0., 0.],\n",
       "       [0., 0., 0., 0., 0., 0., 0., 0., 0., 0.]])"
      ]
     },
     "execution_count": 36,
     "metadata": {},
     "output_type": "execute_result"
    }
   ],
   "source": [
    "arr = np.zeros((10,10))\n",
    "arr"
   ]
  },
  {
   "cell_type": "markdown",
   "id": "3132a0cc-9812-4092-89a8-bb26a8652faf",
   "metadata": {},
   "source": [
    "5. Create a multi-dimensional array `arr` of size 4x4x3 with all the elements set to 0. After doing so print the shape of `arr`."
   ]
  },
  {
   "cell_type": "code",
   "execution_count": 37,
   "id": "0dca040d-5e3a-40dc-8f77-4174c2f8d233",
   "metadata": {},
   "outputs": [
    {
     "data": {
      "text/plain": [
       "(4, 4, 3)"
      ]
     },
     "execution_count": 37,
     "metadata": {},
     "output_type": "execute_result"
    }
   ],
   "source": [
    "arr = np.zeros((4,4,3))\n",
    "arr.shape"
   ]
  },
  {
   "cell_type": "markdown",
   "id": "682fa937-acc2-4629-9d3e-4367d898aab5",
   "metadata": {},
   "source": [
    "6. Create a 2D array `arr` of size 4x4 containing the integers 0 - 16 arranged such that the numbers sequently increase from left to right and top to bottom.\n",
    "\n",
    "Array values\n",
    "```\n",
    "0 1 2 3\n",
    "4 5 6 7\n",
    "8 9 10 11\n",
    "12 13 14 15\n",
    "```\n",
    "\n",
    "Hint: Use `arange()` and `reshape()`"
   ]
  },
  {
   "cell_type": "code",
   "execution_count": 38,
   "id": "39ee036a-cd3e-4c66-95a7-aadde3b88112",
   "metadata": {},
   "outputs": [
    {
     "data": {
      "text/plain": [
       "array([[ 0,  1,  2,  3],\n",
       "       [ 4,  5,  6,  7],\n",
       "       [ 8,  9, 10, 11],\n",
       "       [12, 13, 14, 15]])"
      ]
     },
     "execution_count": 38,
     "metadata": {},
     "output_type": "execute_result"
    }
   ],
   "source": [
    "arr = np.arange(16).reshape((4,4))\n",
    "arr"
   ]
  },
  {
   "cell_type": "markdown",
   "id": "cf74f827-d0bf-47ca-b31a-c8a30de46dd6",
   "metadata": {},
   "source": [
    "### 1.2 Indexing Arrays"
   ]
  },
  {
   "cell_type": "markdown",
   "id": "c094b0dd-44e8-44c7-9531-8237256b0af3",
   "metadata": {},
   "source": [
    "1. Create a NumPy array `arr` from the list `l` and index and print the second element."
   ]
  },
  {
   "cell_type": "code",
   "execution_count": 15,
   "id": "5b6d50b7-28c5-413b-93cf-ce162eff944e",
   "metadata": {},
   "outputs": [
    {
     "data": {
      "text/plain": [
       "2"
      ]
     },
     "execution_count": 15,
     "metadata": {},
     "output_type": "execute_result"
    }
   ],
   "source": [
    "l = [1,2,3,4]\n",
    "arr = np.array(l)\n",
    "arr[1]"
   ]
  },
  {
   "cell_type": "markdown",
   "id": "f17725b8-5b66-42c2-b077-1157eaf57f1c",
   "metadata": {},
   "source": [
    "2. Create a 2D NumPy array `arr` from the list `l2d` and index and print the element at index (2,1)."
   ]
  },
  {
   "cell_type": "code",
   "execution_count": 16,
   "id": "ec76cdef-52b1-40f8-91d5-7b35b9aeead9",
   "metadata": {},
   "outputs": [
    {
     "data": {
      "text/plain": [
       "8"
      ]
     },
     "execution_count": 16,
     "metadata": {},
     "output_type": "execute_result"
    }
   ],
   "source": [
    "l2d = [[1,2,3], [4, 5, 6], [7, 8, 9]]\n",
    "arr2d = np.array(l2d)\n",
    "arr2d[2,1]"
   ]
  },
  {
   "cell_type": "markdown",
   "id": "e8382a91-3597-41d1-8a2f-c6d7ea80e97e",
   "metadata": {},
   "source": [
    "3. Using the above array `arr2d` index and print all of row 2. Hint: Use slicing."
   ]
  },
  {
   "cell_type": "code",
   "execution_count": 17,
   "id": "2f8b8d3a-a22d-4da3-a66a-0322a1e21c4f",
   "metadata": {},
   "outputs": [
    {
     "data": {
      "text/plain": [
       "array([4, 5, 6])"
      ]
     },
     "execution_count": 17,
     "metadata": {},
     "output_type": "execute_result"
    }
   ],
   "source": [
    "arr2d[1, :]"
   ]
  },
  {
   "cell_type": "markdown",
   "id": "ac4b572c-90e4-4d06-a0a8-e62e6dfd978e",
   "metadata": {},
   "source": [
    "4. Create a 2D NumPy array `arr` with the following values and format:\n",
    "```\n",
    "1 2 3 4\n",
    "5 6 7 8\n",
    "9 10 11 12\n",
    "13 14 15 16\n",
    "```\n",
    "\n",
    "Given this NumPy array index and print:\n",
    "```\n",
    "1 2 3\n",
    "5 6 7\n",
    "```\n",
    "using slicing"
   ]
  },
  {
   "cell_type": "code",
   "execution_count": 42,
   "id": "2ceb9970-0b1c-49cb-8412-16b9ed98483b",
   "metadata": {},
   "outputs": [
    {
     "data": {
      "text/plain": [
       "array([[1, 2, 3],\n",
       "       [5, 6, 7]])"
      ]
     },
     "execution_count": 42,
     "metadata": {},
     "output_type": "execute_result"
    }
   ],
   "source": [
    "arr = np.arange(1, 17).reshape(4,4)\n",
    "arr[:2, :3]"
   ]
  },
  {
   "cell_type": "markdown",
   "id": "1bffb8e1-ffdb-41d0-9e1b-05745494a65f",
   "metadata": {},
   "source": [
    "### 1.3 Operations"
   ]
  },
  {
   "cell_type": "markdown",
   "id": "b9047bec-06d7-4fe2-88cb-13e0d246c6ca",
   "metadata": {},
   "source": [
    "1. Given the NumPy array `arr`, find and print the: <br>\n",
    "a) Min <br>\n",
    "b) Max <br>\n",
    "c) Mean <br>\n",
    "d) Standard Deviation <br>\n",
    "e) Sum <br>\n",
    "\n",
    "Useful resource: [NumPy Array Docs](https://numpy.org/doc/stable/reference/generated/numpy.ndarray.html). Note: Just look at the 'methods' section of that page."
   ]
  },
  {
   "cell_type": "code",
   "execution_count": 5,
   "id": "9a5d1d16-c5fa-4096-b2e8-ba343b5cb66f",
   "metadata": {},
   "outputs": [
    {
     "data": {
      "text/plain": [
       "(100, 100, 100)"
      ]
     },
     "execution_count": 5,
     "metadata": {},
     "output_type": "execute_result"
    }
   ],
   "source": [
    "# RUN THIS FIRST\n",
    "arr = np.random.randn(100, 100, 100)\n",
    "arr.shape"
   ]
  },
  {
   "cell_type": "markdown",
   "id": "cd66eaf1-cb0f-4c8f-8298-7224f3014274",
   "metadata": {},
   "source": [
    "a) "
   ]
  },
  {
   "cell_type": "code",
   "execution_count": 6,
   "id": "fc4da5db-d611-40c4-a58b-5232829da3ef",
   "metadata": {},
   "outputs": [
    {
     "data": {
      "text/plain": [
       "-4.993682499335477"
      ]
     },
     "execution_count": 6,
     "metadata": {},
     "output_type": "execute_result"
    }
   ],
   "source": [
    "arr.min()"
   ]
  },
  {
   "cell_type": "markdown",
   "id": "38680e88-8975-45f2-92d4-5c41849d3b5e",
   "metadata": {},
   "source": [
    "b) "
   ]
  },
  {
   "cell_type": "code",
   "execution_count": 7,
   "id": "702f15a5-7c0a-42f9-bd43-39afbf8cf446",
   "metadata": {},
   "outputs": [
    {
     "data": {
      "text/plain": [
       "4.547276071764942"
      ]
     },
     "execution_count": 7,
     "metadata": {},
     "output_type": "execute_result"
    }
   ],
   "source": [
    "arr.max()"
   ]
  },
  {
   "cell_type": "markdown",
   "id": "770f5a4c-2c5c-4b69-bc80-f7d9271e7d32",
   "metadata": {},
   "source": [
    "c) "
   ]
  },
  {
   "cell_type": "code",
   "execution_count": 8,
   "id": "d74415a5-e755-4baf-a280-49ec15e10571",
   "metadata": {},
   "outputs": [
    {
     "data": {
      "text/plain": [
       "-0.0007384168420185215"
      ]
     },
     "execution_count": 8,
     "metadata": {},
     "output_type": "execute_result"
    }
   ],
   "source": [
    "arr.mean()"
   ]
  },
  {
   "cell_type": "markdown",
   "id": "aa7db6e2-3c27-4e0d-a18f-85701ff99cc1",
   "metadata": {},
   "source": [
    "d)"
   ]
  },
  {
   "cell_type": "code",
   "execution_count": 9,
   "id": "4587b70d-a4ba-4768-8a8f-3e644785aaf2",
   "metadata": {},
   "outputs": [
    {
     "data": {
      "text/plain": [
       "1.0000661078675281"
      ]
     },
     "execution_count": 9,
     "metadata": {},
     "output_type": "execute_result"
    }
   ],
   "source": [
    "arr.std()"
   ]
  },
  {
   "cell_type": "markdown",
   "id": "e0b04288-ce0e-46b7-aeba-ccc464c60f1d",
   "metadata": {},
   "source": [
    "e) "
   ]
  },
  {
   "cell_type": "code",
   "execution_count": 10,
   "id": "94e5764d-ea9b-417a-98b6-32bfdce5519d",
   "metadata": {},
   "outputs": [
    {
     "data": {
      "text/plain": [
       "-738.4168420185215"
      ]
     },
     "execution_count": 10,
     "metadata": {},
     "output_type": "execute_result"
    }
   ],
   "source": [
    "arr.sum()"
   ]
  },
  {
   "cell_type": "markdown",
   "id": "277ebe5b-f08f-4180-b204-e3086f2000e6",
   "metadata": {},
   "source": [
    "#### Operations Over a Specific Axis"
   ]
  },
  {
   "cell_type": "markdown",
   "id": "5a920136-1101-4a48-beb9-7b023f830e72",
   "metadata": {},
   "source": [
    "2. Given the NumPy array `arr`, take the sum over the first axis (i.e., axis 0)"
   ]
  },
  {
   "cell_type": "code",
   "execution_count": 24,
   "id": "631226d7-4598-4e2b-82d6-2cd48afd9d61",
   "metadata": {},
   "outputs": [
    {
     "name": "stdout",
     "output_type": "stream",
     "text": [
      "[[-5.85014242e+00  2.80718428e+00 -1.07762111e+00 -3.52261887e+00\n",
      "  -4.60862084e+00  1.93059674e-01  5.02053436e+00  6.65379983e-01\n",
      "   1.64678239e+00  4.67207001e-01]\n",
      " [ 3.00919912e-01  1.91178699e+00  3.11690758e+00  9.67252740e-01\n",
      "   3.16187660e+00 -6.05846907e+00 -1.19759360e+00 -1.46496014e+00\n",
      "  -1.28489450e+00 -1.38248157e+00]\n",
      " [-3.82437361e+00 -2.83799666e-01  1.02274652e+00  8.51402782e-01\n",
      "  -1.35064509e+00 -8.94084848e-01 -9.00797744e-01 -5.26200954e+00\n",
      "  -1.98686946e-01 -3.24042865e+00]\n",
      " [ 3.05844973e+00 -6.16904916e-01  2.82954845e+00 -1.00252508e+00\n",
      "   9.45184378e-01  2.11729491e+00 -1.09204140e+00  5.89122549e-02\n",
      "  -1.82951681e+00 -3.33936174e-01]\n",
      " [-4.15357840e+00 -2.36919537e+00  1.63963922e+00 -5.67430723e+00\n",
      "   2.94051213e+00 -1.77134746e+00  2.74688770e+00 -3.53930082e-01\n",
      "  -5.25209840e+00 -4.84578026e+00]\n",
      " [ 2.32925444e-01 -1.75005863e+00  2.34634245e-01 -1.36155890e+00\n",
      "   1.87469356e+00  3.62805024e+00  1.12621071e+00  1.14657010e+01\n",
      "   2.16804439e+00  3.08580103e-03]\n",
      " [-3.54475601e+00 -2.15233650e+00 -3.19000624e+00  7.26978076e-01\n",
      "  -1.03805218e+00 -1.97229878e+00  1.03682386e+00 -4.12171674e+00\n",
      "  -6.01593469e+00  3.72198207e-01]\n",
      " [-3.68888522e+00  3.72609376e+00  3.47397339e-01  3.01978134e+00\n",
      "  -1.74041128e+00 -6.02681043e-01  2.03736307e+00  3.03686613e+00\n",
      "   3.07617592e-01 -5.09077855e-01]\n",
      " [-3.13035524e+00  8.14316504e-01 -2.96915561e+00  6.74281805e+00\n",
      "   1.42086976e+00 -4.18728533e-01 -5.52403752e-02  2.63448341e+00\n",
      "  -1.56561177e+00 -4.51654429e-01]\n",
      " [-4.69806411e-01  8.29028232e-02  5.77746883e+00 -3.17406631e+00\n",
      "   3.68004038e+00 -2.29766064e+00  4.38013215e+00  1.00902780e-02\n",
      "  -3.06581671e+00 -3.96838214e-01]]\n"
     ]
    }
   ],
   "source": [
    "arr = np.random.randn(10, 10, 10)\n",
    "\n",
    "arr_sum = arr.sum(axis=0)\n",
    "print(arr_sum)\n",
    "\n",
    "assert arr_sum.shape == (10, 10), \"sum was taken over the wrong axis\""
   ]
  },
  {
   "cell_type": "markdown",
   "id": "46d69552-c16f-40ea-8ed2-2dca1be541c3",
   "metadata": {},
   "source": [
    "### 1.4 Advanced Indexing "
   ]
  },
  {
   "cell_type": "markdown",
   "id": "7e55557e-db77-44d0-8226-0a61afa1ea2d",
   "metadata": {},
   "source": [
    "1. Given the NumPy array `a` <br>\n",
    "    a. Index and print the elements greater than 0 <br>\n",
    "    b. Take the sum of the elements greater than 0"
   ]
  },
  {
   "cell_type": "code",
   "execution_count": 34,
   "id": "9457cfa5-ade5-45b7-9475-b3ceaca6b464",
   "metadata": {},
   "outputs": [
    {
     "name": "stdout",
     "output_type": "stream",
     "text": [
      "array([[ 7,  0, -4, -2, -9],\n",
      "       [ 2, -4, -4, -7, -8],\n",
      "       [-2, -7, -4, -3, -4],\n",
      "       [-6,  2, -6,  4, -4],\n",
      "       [-2,  3,  8, -6,  5]])\n"
     ]
    }
   ],
   "source": [
    "# RUN THIS FIRST\n",
    "\n",
    "# Create an array of shape 5x5, whose elements are integers randomly sampled from the range [-10, 10)\n",
    "a = np.random.randint(-10, 10, (5,5))  \n",
    "print(repr(a))  # Trick to show `a` as NumPy array rather than as list"
   ]
  },
  {
   "cell_type": "markdown",
   "id": "a4c6a67c-8280-4e42-8986-19ccac28081a",
   "metadata": {},
   "source": [
    "a)"
   ]
  },
  {
   "cell_type": "code",
   "execution_count": 35,
   "id": "606860fc-61f2-4c3e-8d6d-e6939265c766",
   "metadata": {},
   "outputs": [
    {
     "name": "stdout",
     "output_type": "stream",
     "text": [
      "[7 2 2 4 3 8 5]\n"
     ]
    }
   ],
   "source": [
    "print(a[a>0])"
   ]
  },
  {
   "cell_type": "markdown",
   "id": "65f6618a-eaaf-40f6-883e-667a68d4b7c0",
   "metadata": {},
   "source": [
    "b)"
   ]
  },
  {
   "cell_type": "code",
   "execution_count": 36,
   "id": "7218176f-a7e2-460f-b666-c820b929dd66",
   "metadata": {},
   "outputs": [
    {
     "data": {
      "text/plain": [
       "31"
      ]
     },
     "execution_count": 36,
     "metadata": {},
     "output_type": "execute_result"
    }
   ],
   "source": [
    "a[a>0].sum()"
   ]
  },
  {
   "cell_type": "markdown",
   "id": "22eb3b6b-0325-48c2-a294-8675d0fa6ef4",
   "metadata": {},
   "source": [
    "## 2. Pandas"
   ]
  },
  {
   "cell_type": "markdown",
   "id": "ef265d05-0fbb-439f-9451-e0e70f307900",
   "metadata": {},
   "source": [
    "#### 2.1 Importing"
   ]
  },
  {
   "cell_type": "markdown",
   "id": "af43f1ec-5bcd-49ac-85a1-f9534d7f7728",
   "metadata": {},
   "source": [
    "1. Use `import pandas as pd` and `import seaborn as sns` to import the two packages we will be using for this portion of the lab and later on."
   ]
  },
  {
   "cell_type": "code",
   "execution_count": 37,
   "id": "ed407dcf-a545-4fc5-b072-b3a08628ff1c",
   "metadata": {},
   "outputs": [],
   "source": [
    "import pandas as pd\n",
    "import seaborn as sns"
   ]
  },
  {
   "cell_type": "markdown",
   "id": "96b8dd8d-26df-4f20-bea0-92483a58b109",
   "metadata": {},
   "source": [
    "### 2.2 Basics"
   ]
  },
  {
   "cell_type": "code",
   "execution_count": 39,
   "id": "d97f47b8-0a67-4b74-b57f-d7abe8dc5932",
   "metadata": {},
   "outputs": [],
   "source": [
    "df = sns.load_dataset(\"iris\")"
   ]
  },
  {
   "cell_type": "markdown",
   "id": "256e50a1-84c1-4b33-89a2-d17130a7ad96",
   "metadata": {},
   "source": [
    "1. Show the top rows of the DataFrame `df` using `head()`"
   ]
  },
  {
   "cell_type": "code",
   "execution_count": 40,
   "id": "6e599d03-8a38-4431-adab-c74fbec4f7af",
   "metadata": {},
   "outputs": [
    {
     "data": {
      "text/html": [
       "<div>\n",
       "<style scoped>\n",
       "    .dataframe tbody tr th:only-of-type {\n",
       "        vertical-align: middle;\n",
       "    }\n",
       "\n",
       "    .dataframe tbody tr th {\n",
       "        vertical-align: top;\n",
       "    }\n",
       "\n",
       "    .dataframe thead th {\n",
       "        text-align: right;\n",
       "    }\n",
       "</style>\n",
       "<table border=\"1\" class=\"dataframe\">\n",
       "  <thead>\n",
       "    <tr style=\"text-align: right;\">\n",
       "      <th></th>\n",
       "      <th>sepal_length</th>\n",
       "      <th>sepal_width</th>\n",
       "      <th>petal_length</th>\n",
       "      <th>petal_width</th>\n",
       "      <th>species</th>\n",
       "    </tr>\n",
       "  </thead>\n",
       "  <tbody>\n",
       "    <tr>\n",
       "      <th>0</th>\n",
       "      <td>5.1</td>\n",
       "      <td>3.5</td>\n",
       "      <td>1.4</td>\n",
       "      <td>0.2</td>\n",
       "      <td>setosa</td>\n",
       "    </tr>\n",
       "    <tr>\n",
       "      <th>1</th>\n",
       "      <td>4.9</td>\n",
       "      <td>3.0</td>\n",
       "      <td>1.4</td>\n",
       "      <td>0.2</td>\n",
       "      <td>setosa</td>\n",
       "    </tr>\n",
       "    <tr>\n",
       "      <th>2</th>\n",
       "      <td>4.7</td>\n",
       "      <td>3.2</td>\n",
       "      <td>1.3</td>\n",
       "      <td>0.2</td>\n",
       "      <td>setosa</td>\n",
       "    </tr>\n",
       "    <tr>\n",
       "      <th>3</th>\n",
       "      <td>4.6</td>\n",
       "      <td>3.1</td>\n",
       "      <td>1.5</td>\n",
       "      <td>0.2</td>\n",
       "      <td>setosa</td>\n",
       "    </tr>\n",
       "    <tr>\n",
       "      <th>4</th>\n",
       "      <td>5.0</td>\n",
       "      <td>3.6</td>\n",
       "      <td>1.4</td>\n",
       "      <td>0.2</td>\n",
       "      <td>setosa</td>\n",
       "    </tr>\n",
       "  </tbody>\n",
       "</table>\n",
       "</div>"
      ],
      "text/plain": [
       "   sepal_length  sepal_width  petal_length  petal_width species\n",
       "0           5.1          3.5           1.4          0.2  setosa\n",
       "1           4.9          3.0           1.4          0.2  setosa\n",
       "2           4.7          3.2           1.3          0.2  setosa\n",
       "3           4.6          3.1           1.5          0.2  setosa\n",
       "4           5.0          3.6           1.4          0.2  setosa"
      ]
     },
     "execution_count": 40,
     "metadata": {},
     "output_type": "execute_result"
    }
   ],
   "source": [
    "df.head()"
   ]
  },
  {
   "cell_type": "markdown",
   "id": "9746da01-ba90-4382-9621-626925b62450",
   "metadata": {},
   "source": [
    "2. Print the shape of `df`"
   ]
  },
  {
   "cell_type": "code",
   "execution_count": 41,
   "id": "6a63b047-f6f4-47f9-8d51-dd210bb82b92",
   "metadata": {},
   "outputs": [
    {
     "data": {
      "text/plain": [
       "(150, 5)"
      ]
     },
     "execution_count": 41,
     "metadata": {},
     "output_type": "execute_result"
    }
   ],
   "source": [
    "df.shape"
   ]
  },
  {
   "cell_type": "markdown",
   "id": "a7dd1915-c9c1-4351-b2fc-5a05b876d3b2",
   "metadata": {},
   "source": [
    "3. Index and show the column titled \"sepal_length\""
   ]
  },
  {
   "cell_type": "code",
   "execution_count": 42,
   "id": "1c2b11b7-8328-4863-9bf5-84ae2a19a16e",
   "metadata": {},
   "outputs": [
    {
     "data": {
      "text/plain": [
       "0      5.1\n",
       "1      4.9\n",
       "2      4.7\n",
       "3      4.6\n",
       "4      5.0\n",
       "      ... \n",
       "145    6.7\n",
       "146    6.3\n",
       "147    6.5\n",
       "148    6.2\n",
       "149    5.9\n",
       "Name: sepal_length, Length: 150, dtype: float64"
      ]
     },
     "execution_count": 42,
     "metadata": {},
     "output_type": "execute_result"
    }
   ],
   "source": [
    "df[\"sepal_length\"]"
   ]
  },
  {
   "cell_type": "markdown",
   "id": "d4160a3f-707b-46b5-bc82-fe4696edc745",
   "metadata": {},
   "source": [
    "4. Use `describe` to show important stats about the DataFrame"
   ]
  },
  {
   "cell_type": "code",
   "execution_count": 43,
   "id": "7e2415e6-0126-42ac-89df-bd19facfeaec",
   "metadata": {},
   "outputs": [
    {
     "data": {
      "text/html": [
       "<div>\n",
       "<style scoped>\n",
       "    .dataframe tbody tr th:only-of-type {\n",
       "        vertical-align: middle;\n",
       "    }\n",
       "\n",
       "    .dataframe tbody tr th {\n",
       "        vertical-align: top;\n",
       "    }\n",
       "\n",
       "    .dataframe thead th {\n",
       "        text-align: right;\n",
       "    }\n",
       "</style>\n",
       "<table border=\"1\" class=\"dataframe\">\n",
       "  <thead>\n",
       "    <tr style=\"text-align: right;\">\n",
       "      <th></th>\n",
       "      <th>sepal_length</th>\n",
       "      <th>sepal_width</th>\n",
       "      <th>petal_length</th>\n",
       "      <th>petal_width</th>\n",
       "    </tr>\n",
       "  </thead>\n",
       "  <tbody>\n",
       "    <tr>\n",
       "      <th>count</th>\n",
       "      <td>150.000000</td>\n",
       "      <td>150.000000</td>\n",
       "      <td>150.000000</td>\n",
       "      <td>150.000000</td>\n",
       "    </tr>\n",
       "    <tr>\n",
       "      <th>mean</th>\n",
       "      <td>5.843333</td>\n",
       "      <td>3.057333</td>\n",
       "      <td>3.758000</td>\n",
       "      <td>1.199333</td>\n",
       "    </tr>\n",
       "    <tr>\n",
       "      <th>std</th>\n",
       "      <td>0.828066</td>\n",
       "      <td>0.435866</td>\n",
       "      <td>1.765298</td>\n",
       "      <td>0.762238</td>\n",
       "    </tr>\n",
       "    <tr>\n",
       "      <th>min</th>\n",
       "      <td>4.300000</td>\n",
       "      <td>2.000000</td>\n",
       "      <td>1.000000</td>\n",
       "      <td>0.100000</td>\n",
       "    </tr>\n",
       "    <tr>\n",
       "      <th>25%</th>\n",
       "      <td>5.100000</td>\n",
       "      <td>2.800000</td>\n",
       "      <td>1.600000</td>\n",
       "      <td>0.300000</td>\n",
       "    </tr>\n",
       "    <tr>\n",
       "      <th>50%</th>\n",
       "      <td>5.800000</td>\n",
       "      <td>3.000000</td>\n",
       "      <td>4.350000</td>\n",
       "      <td>1.300000</td>\n",
       "    </tr>\n",
       "    <tr>\n",
       "      <th>75%</th>\n",
       "      <td>6.400000</td>\n",
       "      <td>3.300000</td>\n",
       "      <td>5.100000</td>\n",
       "      <td>1.800000</td>\n",
       "    </tr>\n",
       "    <tr>\n",
       "      <th>max</th>\n",
       "      <td>7.900000</td>\n",
       "      <td>4.400000</td>\n",
       "      <td>6.900000</td>\n",
       "      <td>2.500000</td>\n",
       "    </tr>\n",
       "  </tbody>\n",
       "</table>\n",
       "</div>"
      ],
      "text/plain": [
       "       sepal_length  sepal_width  petal_length  petal_width\n",
       "count    150.000000   150.000000    150.000000   150.000000\n",
       "mean       5.843333     3.057333      3.758000     1.199333\n",
       "std        0.828066     0.435866      1.765298     0.762238\n",
       "min        4.300000     2.000000      1.000000     0.100000\n",
       "25%        5.100000     2.800000      1.600000     0.300000\n",
       "50%        5.800000     3.000000      4.350000     1.300000\n",
       "75%        6.400000     3.300000      5.100000     1.800000\n",
       "max        7.900000     4.400000      6.900000     2.500000"
      ]
     },
     "execution_count": 43,
     "metadata": {},
     "output_type": "execute_result"
    }
   ],
   "source": [
    "df.describe()"
   ]
  },
  {
   "cell_type": "markdown",
   "id": "fdd428b2-b187-49bb-8b02-9e979ab84595",
   "metadata": {},
   "source": [
    "5. Index and show the element in `df` at row 1 and column 2. Hint: Use `iloc`."
   ]
  },
  {
   "cell_type": "code",
   "execution_count": 45,
   "id": "de782ea2-ae1b-4877-ae53-98e2b4090171",
   "metadata": {},
   "outputs": [
    {
     "data": {
      "text/plain": [
       "3.5"
      ]
     },
     "execution_count": 45,
     "metadata": {},
     "output_type": "execute_result"
    }
   ],
   "source": [
    "df.iloc[0, 1]"
   ]
  },
  {
   "cell_type": "markdown",
   "id": "ae1bd6e1-9bf6-43bf-a80e-e0342113a7ea",
   "metadata": {},
   "source": [
    "6. Index and show the element in df with index 3 and in column \"petal_width\". Hint: use `loc`."
   ]
  },
  {
   "cell_type": "code",
   "execution_count": 46,
   "id": "6adb76b5-c7b8-4c16-ad3e-59b0935c638f",
   "metadata": {},
   "outputs": [
    {
     "data": {
      "text/plain": [
       "0.2"
      ]
     },
     "execution_count": 46,
     "metadata": {},
     "output_type": "execute_result"
    }
   ],
   "source": [
    "df.loc[3, \"petal_width\"]"
   ]
  },
  {
   "cell_type": "markdown",
   "id": "f8e31d82-b4f1-44d9-b846-daabc0e15730",
   "metadata": {},
   "source": [
    "## 2. Matplotlib"
   ]
  },
  {
   "cell_type": "code",
   "execution_count": 3,
   "id": "3a97db94-3fa2-48d5-b623-a6be89b2da27",
   "metadata": {},
   "outputs": [],
   "source": [
    "# RUN THIS\n",
    "import matplotlib.pyplot as plt"
   ]
  },
  {
   "cell_type": "markdown",
   "id": "0fa6a466-648a-4ce9-adb2-a62b5a9a4d09",
   "metadata": {},
   "source": [
    "1. Create a line graph using the NumPy arrays `x` and `y`."
   ]
  },
  {
   "cell_type": "code",
   "execution_count": 48,
   "id": "e8656bb3-6ab8-494a-ae59-b80809ae2ef5",
   "metadata": {},
   "outputs": [
    {
     "data": {
      "text/plain": [
       "[<matplotlib.lines.Line2D at 0x244522bf3a0>]"
      ]
     },
     "execution_count": 48,
     "metadata": {},
     "output_type": "execute_result"
    },
    {
     "data": {
      "image/png": "[encoded data removed]",
      "text/plain": [
       "<Figure size 640x480 with 1 Axes>"
      ]
     },
     "metadata": {},
     "output_type": "display_data"
    }
   ],
   "source": [
    "x = np.arange(10)\n",
    "y = x * 2\n",
    "\n",
    "plt.plot(x, y)"
   ]
  },
  {
   "cell_type": "markdown",
   "id": "c1034a8c-dde9-41d1-b047-f7cd56327d6c",
   "metadata": {},
   "source": [
    "2. Create a scatter plot using the NumPy arrays `x` and `y`. Specify the label for the x-axis as `x`, the label for the y-axis as `y` and the title as \"Scatter Plot\"."
   ]
  },
  {
   "cell_type": "code",
   "execution_count": 54,
   "id": "b44a2805-8806-4d5a-8d57-13e208b29942",
   "metadata": {},
   "outputs": [
    {
     "data": {
      "text/plain": [
       "Text(0.5, 1.0, 'Scatter Plot')"
      ]
     },
     "execution_count": 54,
     "metadata": {},
     "output_type": "execute_result"
    },
    {
     "data": {
      "image/png": "[encoded data removed]",
      "text/plain": [
       "<Figure size 640x480 with 1 Axes>"
      ]
     },
     "metadata": {},
     "output_type": "display_data"
    }
   ],
   "source": [
    "x = np.random.randint(0, 100, 100)\n",
    "y = np.random.randint(0, 100, 100)\n",
    "\n",
    "# YOUR CODE\n",
    "plt.scatter(x, y)\n",
    "plt.xlabel(\"x\")\n",
    "plt.xlabel(\"y\")\n",
    "plt.title(\"Scatter Plot\")"
   ]
  },
  {
   "cell_type": "markdown",
   "id": "8b4bf7a4-7333-430b-a818-3d261f32bcb2",
   "metadata": {},
   "source": [
    "### Seaborn"
   ]
  },
  {
   "cell_type": "code",
   "execution_count": 2,
   "id": "738fce94-218a-447b-aa21-78dbfb61b184",
   "metadata": {},
   "outputs": [],
   "source": [
    "# RUN THIS\n",
    "import seaborn as sns\n",
    "sns.set_theme()"
   ]
  },
  {
   "cell_type": "markdown",
   "id": "419e0ad7-c185-4caf-b62e-61a7e5114477",
   "metadata": {},
   "source": [
    "1. Use seaborn to create a scatter plot visualising `sepal_length` (x-axis) vs `sepal_width` (y-axis), for the dataframe `df`."
   ]
  },
  {
   "cell_type": "code",
   "execution_count": 7,
   "id": "1b7d614e-d883-4750-b478-f48989f3dc42",
   "metadata": {},
   "outputs": [
    {
     "data": {
      "text/plain": [
       "<AxesSubplot: xlabel='sepal_length', ylabel='sepal_width'>"
      ]
     },
     "execution_count": 7,
     "metadata": {},
     "output_type": "execute_result"
    },
    {
     "data": {
      "image/png": "[encoded data removed]",
      "text/plain": [
       "<Figure size 640x480 with 1 Axes>"
      ]
     },
     "metadata": {},
     "output_type": "display_data"
    }
   ],
   "source": [
    "df = sns.load_dataset('iris')\n",
    "sns.scatterplot(df, x=\"sepal_length\", y=\"sepal_width\")"
   ]
  },
  {
   "cell_type": "code",
   "execution_count": null,
   "id": "8f347e7f-9d98-4dbb-ad03-3f8cdb3af333",
   "metadata": {},
   "outputs": [],
   "source": []
  }
 ],
 "metadata": {
  "kernelspec": {
   "display_name": "Python 3 (ipykernel)",
   "language": "python",
   "name": "python3"
  },
  "language_info": {
   "codemirror_mode": {
    "name": "ipython",
    "version": 3
   },
   "file_extension": ".py",
   "mimetype": "text/x-python",
   "name": "python",
   "nbconvert_exporter": "python",
   "pygments_lexer": "ipython3",
   "version": "3.10.9"
  }
 },
 "nbformat": 4,
 "nbformat_minor": 5
}
