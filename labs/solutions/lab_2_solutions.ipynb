{
 "cells": [
  {
   "cell_type": "markdown",
   "id": "71eed9cd-866a-4be8-a10e-499b4ba1b010",
   "metadata": {},
   "source": [
    "# Lab 2 \n",
    "Loops, List Comprehensions & Dictionary Comprehensions"
   ]
  },
  {
   "cell_type": "markdown",
   "id": "9c46a26a-39cf-4fea-b712-bf09996dfb79",
   "metadata": {},
   "source": [
    "## 1. For Loops"
   ]
  },
  {
   "cell_type": "markdown",
   "id": "968ec1b2-2bd6-42f3-939a-002e565f888f",
   "metadata": {},
   "source": [
    "1. Write a for loop that prints the numbers from 1 to 5."
   ]
  },
  {
   "cell_type": "code",
   "execution_count": 1,
   "id": "af83ff46-4a73-4d5b-b034-a25724f7b8e3",
   "metadata": {},
   "outputs": [
    {
     "name": "stdout",
     "output_type": "stream",
     "text": [
      "1\n",
      "2\n",
      "3\n",
      "4\n",
      "5\n"
     ]
    }
   ],
   "source": [
    "for i in range(1, 6):\n",
    "    print(i)"
   ]
  },
  {
   "cell_type": "markdown",
   "id": "2b60e679-b5e9-4730-815c-490c7315dd3f",
   "metadata": {},
   "source": [
    "2. Write a for loop that prints the numbers from 5 to 10 in reverse order."
   ]
  },
  {
   "cell_type": "raw",
   "id": "b708662f-8d86-45d5-954a-838c4eb69147",
   "metadata": {},
   "source": [
    "DESIRED OUTPUT:\n",
    "10\n",
    "9\n",
    "8\n",
    "7\n",
    "6\n",
    "5"
   ]
  },
  {
   "cell_type": "code",
   "execution_count": 7,
   "id": "8b4ae7f1-5e1e-4914-95ab-9e4f91d9ebf9",
   "metadata": {},
   "outputs": [
    {
     "name": "stdout",
     "output_type": "stream",
     "text": [
      "10\n",
      "9\n",
      "8\n",
      "7\n",
      "6\n",
      "5\n"
     ]
    }
   ],
   "source": [
    "for i in range(10, 4, -1):\n",
    "    print(i)"
   ]
  },
  {
   "cell_type": "markdown",
   "id": "3b221270-8f0d-4a4f-b961-8bb97d38367b",
   "metadata": {},
   "source": [
    "3. Write a for loop that iterates over a list of strings `words` and prints each string."
   ]
  },
  {
   "cell_type": "code",
   "execution_count": 25,
   "id": "5d3c3656-2674-452b-911e-0aeb4a67996d",
   "metadata": {},
   "outputs": [
    {
     "name": "stdout",
     "output_type": "stream",
     "text": [
      "apple\n",
      "banana\n",
      "cherry\n",
      "grape\n"
     ]
    }
   ],
   "source": [
    "words = [\"apple\", \"banana\", \"cherry\", \"grape\"]\n",
    "for word in words:\n",
    "    print(word)"
   ]
  },
  {
   "cell_type": "markdown",
   "id": "aef036e6-7b0d-45d6-828e-5f551b8dd207",
   "metadata": {},
   "source": [
    "4. Write a for loop that iterates over a list of strings `words` and prints each string along with its index. Note: use `enumerate()`."
   ]
  },
  {
   "cell_type": "code",
   "execution_count": 24,
   "id": "2a1b6528-f494-4d02-917e-c1eeb4e5eff4",
   "metadata": {},
   "outputs": [
    {
     "name": "stdout",
     "output_type": "stream",
     "text": [
      "0 apple\n",
      "1 banana\n",
      "2 cherry\n",
      "3 grape\n"
     ]
    }
   ],
   "source": [
    "words = [\"apple\", \"banana\", \"cherry\", \"grape\"]\n",
    "for i, word in enumerate(words):\n",
    "    print(i, word)"
   ]
  },
  {
   "cell_type": "markdown",
   "id": "3c94426d-9ba7-49d2-8ee2-40fd331463bb",
   "metadata": {},
   "source": [
    "5. Write a for loop that iterates over the elements of `words` and prints each element until it encounters the element 'cherry' where the loop should be prematurely terminated. Note that it should print 'cherry' then terminate the loop."
   ]
  },
  {
   "cell_type": "raw",
   "id": "ebf3709b-f36c-4fae-b46e-ce6869b84b72",
   "metadata": {},
   "source": [
    "DESIRED OUTPUT:\n",
    "apple\n",
    "banana\n",
    "cherry"
   ]
  },
  {
   "cell_type": "code",
   "execution_count": 27,
   "id": "6cc627b9-61db-422d-9d0d-6c149db2f2fe",
   "metadata": {},
   "outputs": [
    {
     "name": "stdout",
     "output_type": "stream",
     "text": [
      "apple\n",
      "banana\n",
      "cherry\n"
     ]
    }
   ],
   "source": [
    "words = [\"apple\", \"banana\", \"cherry\", \"grape\"]\n",
    "for word in words:\n",
    "    print(word)\n",
    "    if word == \"cherry\":\n",
    "        break"
   ]
  },
  {
   "cell_type": "markdown",
   "id": "8b85a4c0-78a3-4913-963e-45aba38c7692",
   "metadata": {},
   "source": [
    "6. Write a for loop that **concurrently** loops over two lists `list1` and `list2` and for each iteration prints the elements from both lists in the format \"{i} - {j}\" where i is the current element of `list1` and j is the current element of `list2`. Hint: use `zip()`."
   ]
  },
  {
   "cell_type": "raw",
   "id": "241ab148-00c7-44e6-9b2a-4c87c7fb9dfd",
   "metadata": {},
   "source": [
    "DESIRED OUTPUT:\n",
    "1 - a\n",
    "2 - b\n",
    "3 - c\n",
    "4 - d\n",
    "5 - e"
   ]
  },
  {
   "cell_type": "code",
   "execution_count": 4,
   "id": "793bb7bf-146f-4bb6-9148-71393debd867",
   "metadata": {},
   "outputs": [
    {
     "name": "stdout",
     "output_type": "stream",
     "text": [
      "1 - a\n",
      "2 - b\n",
      "3 - c\n",
      "4 - d\n",
      "5 - e\n"
     ]
    }
   ],
   "source": [
    "list1 = [1, 2, 3, 4, 5]\n",
    "list2 = [\"a\", \"b\", \"c\", \"d\", \"e\"]\n",
    "\n",
    "for i, j in zip(list1, list2):\n",
    "    print(f\"{i} - {j}\")"
   ]
  },
  {
   "cell_type": "markdown",
   "id": "fd7fe519-6aab-473a-b6d9-1d1f71786b22",
   "metadata": {},
   "source": [
    "7. \\[Optional Challenge\\] Write a for loop that extends the previous question to also print the current index of the two elements being printed in the format \"{index}: {i} - {j}\". Hint: use both `zip` and `enumerate` "
   ]
  },
  {
   "cell_type": "raw",
   "id": "43e06419-0019-402b-811a-79e31b5c2b2d",
   "metadata": {},
   "source": [
    "DESIRED OUTPUT:\n",
    "0: 1 - a\n",
    "1: 2 - b\n",
    "2: 3 - c\n",
    "3: 4 - d\n",
    "4: 5 - e"
   ]
  },
  {
   "cell_type": "code",
   "execution_count": 8,
   "id": "ac802855-e470-4f87-862f-9a91d3bece3c",
   "metadata": {},
   "outputs": [
    {
     "name": "stdout",
     "output_type": "stream",
     "text": [
      "0: 1 - a\n",
      "1: 2 - b\n",
      "2: 3 - c\n",
      "3: 4 - d\n",
      "4: 5 - e\n"
     ]
    }
   ],
   "source": [
    "list1 = [1, 2, 3, 4, 5]\n",
    "list2 = [\"a\", \"b\", \"c\", \"d\", \"e\"]\n",
    "\n",
    "for ind, (i, j) in enumerate(zip(list1, list2)):\n",
    "    print(f\"{ind}: {i} - {j}\")"
   ]
  },
  {
   "cell_type": "markdown",
   "id": "b74bb287-cb52-4947-9d36-5232552db107",
   "metadata": {},
   "source": [
    "8. Write a for loop that prints the values of `l` in ascending order. Hint: Use `sorted()`"
   ]
  },
  {
   "cell_type": "code",
   "execution_count": 14,
   "id": "2910e2bd-e98e-43f6-861a-faa4f9c9a66b",
   "metadata": {},
   "outputs": [
    {
     "name": "stdout",
     "output_type": "stream",
     "text": [
      "1\n",
      "2\n",
      "3\n",
      "4\n"
     ]
    }
   ],
   "source": [
    "l = [3,4,2,1]\n",
    "for val in sorted(l):\n",
    "    print(val)"
   ]
  },
  {
   "cell_type": "markdown",
   "id": "89d3fa19-23fd-4d7d-9b0e-f256aaa6d052",
   "metadata": {},
   "source": [
    "9. Write a function called `sum_list` that takes in a list of numbers as an argument and returns the sum of the elements of the list. Note: Use a for loop and do not use the inbuilt method `sum`."
   ]
  },
  {
   "cell_type": "code",
   "execution_count": 9,
   "id": "b00da91f-498f-4ced-89f2-d6d71967d650",
   "metadata": {},
   "outputs": [
    {
     "name": "stdout",
     "output_type": "stream",
     "text": [
      "sum_list([1, 2, 3]) = 6\n"
     ]
    }
   ],
   "source": [
    "def sum_list(l):\n",
    "    result = 0\n",
    "    for el in l:\n",
    "        result += el\n",
    "    return result\n",
    "\n",
    "# DO NOT CHANGE\n",
    "test_list = [1,2,3]\n",
    "func_result = sum_list(test_list)\n",
    "print(f\"sum_list({test_list}) = {func_result}\")\n",
    "\n",
    "assert func_result == 6, \"Function does not return correct output\""
   ]
  },
  {
   "cell_type": "markdown",
   "id": "2c486291-4585-4107-9337-f1c339052622",
   "metadata": {},
   "source": [
    "10. Write a for loop that prints all the keys in the dictionary `d`."
   ]
  },
  {
   "cell_type": "code",
   "execution_count": 14,
   "id": "cf544fff-69ed-4315-9e6f-4a06668d6e5f",
   "metadata": {},
   "outputs": [
    {
     "name": "stdout",
     "output_type": "stream",
     "text": [
      "dog\n",
      "cat\n",
      "rat\n"
     ]
    }
   ],
   "source": [
    "d = {\"dog\" : \"canine\", \"cat\" : \"feline\", \"rat\" : \"rodent\"}\n",
    "for key in d:\n",
    "    print(key)"
   ]
  },
  {
   "cell_type": "code",
   "execution_count": 15,
   "id": "eb5447bd-eb69-47de-9fb5-20081d32d48a",
   "metadata": {},
   "outputs": [
    {
     "name": "stdout",
     "output_type": "stream",
     "text": [
      "dog\n",
      "cat\n",
      "rat\n"
     ]
    }
   ],
   "source": [
    "# OR \n",
    "for key in d.keys():\n",
    "    print(key)"
   ]
  },
  {
   "cell_type": "markdown",
   "id": "1d6b6f37-32ef-4afa-8db5-21222567f3b0",
   "metadata": {},
   "source": [
    "11. Write a for loop that prints all the values in the dictionary `d`"
   ]
  },
  {
   "cell_type": "code",
   "execution_count": 16,
   "id": "571a5c58-e8c5-4400-a7db-4ff5285b211a",
   "metadata": {},
   "outputs": [
    {
     "name": "stdout",
     "output_type": "stream",
     "text": [
      "canine\n",
      "feline\n",
      "rodent\n"
     ]
    }
   ],
   "source": [
    "d = {\"dog\" : \"canine\", \"cat\" : \"feline\", \"rat\" : \"rodent\"}\n",
    "for val in d.values():\n",
    "    print(val)"
   ]
  },
  {
   "cell_type": "markdown",
   "id": "8f37242f-ad22-4adf-9b2e-cc831de8f9df",
   "metadata": {},
   "source": [
    "12. Write a for loop that prints all the key value pairs in the dictionary `d` in the format \"{key} - {value}\"."
   ]
  },
  {
   "cell_type": "code",
   "execution_count": 17,
   "id": "13039431-e7d2-4a56-8fff-c2e5c51356c7",
   "metadata": {},
   "outputs": [
    {
     "name": "stdout",
     "output_type": "stream",
     "text": [
      "dog - canine\n",
      "cat - feline\n",
      "rat - rodent\n"
     ]
    }
   ],
   "source": [
    "d = {\"dog\" : \"canine\", \"cat\" : \"feline\", \"rat\" : \"rodent\"}\n",
    "for key, val in d.items():\n",
    "    print(f\"{key} - {val}\")"
   ]
  },
  {
   "cell_type": "markdown",
   "id": "16ccac27-b499-4677-8a08-cfa5c752757f",
   "metadata": {},
   "source": [
    "13. Write a for loop that prints all the values in the set `s`."
   ]
  },
  {
   "cell_type": "code",
   "execution_count": 22,
   "id": "2b7f7a98-046b-4350-b9c7-ae9c130d2425",
   "metadata": {},
   "outputs": [
    {
     "name": "stdout",
     "output_type": "stream",
     "text": [
      "cat\n",
      "mouse\n",
      "dog\n"
     ]
    }
   ],
   "source": [
    "s = {'dog', 'cat', 'mouse'}\n",
    "for val in s:\n",
    "    print(val)"
   ]
  },
  {
   "cell_type": "markdown",
   "id": "f6290501-495e-4366-9f6e-7b1a2e550a5e",
   "metadata": {},
   "source": [
    "14. \\[Optional Challenge\\] Given the 2D list `l2d`, use a nested for loop to loop over each element of the list and print its index and value. The index and value should be printed in the format: \"{j},{i} - {val}\" where j is the outer index, i is the inner index and val is the value. "
   ]
  },
  {
   "cell_type": "code",
   "execution_count": 3,
   "id": "208bcb88-a18e-4c70-9a58-796599a5a829",
   "metadata": {},
   "outputs": [
    {
     "name": "stdout",
     "output_type": "stream",
     "text": [
      "0,0 - 1\n",
      "0,1 - 2\n",
      "1,0 - 3\n",
      "1,1 - 4\n"
     ]
    }
   ],
   "source": [
    "l2d = [[1,2],[3,4]]\n",
    "for j in range(len(l2d)):\n",
    "    for i in range(len(l2d[j])):\n",
    "        print(f\"{j},{i} - {l2d[j][i]}\")"
   ]
  },
  {
   "cell_type": "markdown",
   "id": "e9ceca1c-93d9-4d60-ad12-80bcb1e17eab",
   "metadata": {},
   "source": [
    "## 2. While Loops"
   ]
  },
  {
   "cell_type": "markdown",
   "id": "50938d6a-0916-4248-bca3-5096fb3f9bfc",
   "metadata": {},
   "source": [
    "1. Write a `while` loop that prints the numbers from 1 to 5."
   ]
  },
  {
   "cell_type": "code",
   "execution_count": 4,
   "id": "043df552-c03f-4c0c-a4ce-83f6959eb17e",
   "metadata": {},
   "outputs": [
    {
     "name": "stdout",
     "output_type": "stream",
     "text": [
      "1\n",
      "2\n",
      "3\n",
      "4\n",
      "5\n"
     ]
    }
   ],
   "source": [
    "i = 1\n",
    "while i < 6:\n",
    "    print(i)\n",
    "    i += 1"
   ]
  },
  {
   "cell_type": "markdown",
   "id": "4d4bb78d-36e9-4045-820d-8872e16816af",
   "metadata": {},
   "source": [
    "2. Write a while loop that doubles the variable `x` until it is greater than 512. At each iteration print the value of `x` after it has been doubled."
   ]
  },
  {
   "cell_type": "code",
   "execution_count": 8,
   "id": "70ee6a1c-2d49-4517-8d46-b35cdaf4f164",
   "metadata": {},
   "outputs": [
    {
     "name": "stdout",
     "output_type": "stream",
     "text": [
      "4\n",
      "8\n",
      "16\n",
      "32\n",
      "64\n",
      "128\n",
      "256\n",
      "512\n",
      "1024\n"
     ]
    }
   ],
   "source": [
    "x = 2\n",
    "\n",
    "# Your code here\n",
    "while x <= 512:\n",
    "    x *= 2\n",
    "    print(x)"
   ]
  },
  {
   "cell_type": "markdown",
   "id": "7becc941-152b-4876-8ee2-61cb44689cd2",
   "metadata": {},
   "source": [
    "## 3. List Comprehensions"
   ]
  },
  {
   "cell_type": "markdown",
   "id": "bd4b48d8-ee3a-46f7-83c7-1fadb1384196",
   "metadata": {},
   "source": [
    "1. Write a list comprehension that generates a list of squares of numbers from 1 to 10."
   ]
  },
  {
   "cell_type": "code",
   "execution_count": 19,
   "id": "245db38a-921e-4737-ad5c-0102f5afb2df",
   "metadata": {},
   "outputs": [
    {
     "name": "stdout",
     "output_type": "stream",
     "text": [
      "[1, 4, 9, 16, 25, 36, 49, 64, 81, 100]\n"
     ]
    }
   ],
   "source": [
    "squared_numbers = [i**2 for i in range(1, 11)]\n",
    "print(squared_numbers)\n",
    "assert squared_numbers == [1, 4, 9, 16, 25, 36, 49, 64, 81, 100], \"The list comprehension is incorrect\""
   ]
  },
  {
   "cell_type": "markdown",
   "id": "183525cc-6bd4-4b74-bc0b-e24ddb256de5",
   "metadata": {},
   "source": [
    "2. Write a list comprehension that generates a list of the first letter of each string in the list `words`"
   ]
  },
  {
   "cell_type": "code",
   "execution_count": 18,
   "id": "5dec9983-3672-4004-81d7-b45489730472",
   "metadata": {},
   "outputs": [
    {
     "name": "stdout",
     "output_type": "stream",
     "text": [
      "['a', 'b', 'c']\n"
     ]
    }
   ],
   "source": [
    "words = [\"apple\", \"banana\", \"cherry\"]\n",
    "first_letters = [word[0] for word in words]\n",
    "print(first_letters)\n",
    "assert first_letters == ['a', 'b', 'c'], \"The list comprehension is incorrect\""
   ]
  },
  {
   "cell_type": "markdown",
   "id": "b5419dba-9e08-4201-89c7-ddfa1113e945",
   "metadata": {},
   "source": [
    "3. Write a list comprehension that creates a 2D list of size 4 x 4. Each element in the 2D list must be the value 1. "
   ]
  },
  {
   "cell_type": "code",
   "execution_count": 21,
   "id": "731e283d-ff57-46ea-b187-ccc069719834",
   "metadata": {},
   "outputs": [
    {
     "name": "stdout",
     "output_type": "stream",
     "text": [
      "[[1, 1, 1, 1], [1, 1, 1, 1], [1, 1, 1, 1], [1, 1, 1, 1]]\n"
     ]
    }
   ],
   "source": [
    "ones = [[1 for _ in range(4)] for _ in range(4)]\n",
    "print(ones)\n",
    "assert ones == [[1, 1, 1, 1], [1, 1, 1, 1], [1, 1, 1, 1], [1, 1, 1, 1]], \"The list comprehension is incorrect\""
   ]
  },
  {
   "cell_type": "markdown",
   "id": "308e15e2-68ee-4c28-931b-bb36c9edee46",
   "metadata": {},
   "source": [
    "## 4. Dictionary Comprehensions"
   ]
  },
  {
   "cell_type": "markdown",
   "id": "ba4cc8b9-01e0-4368-94a3-c3425c94cebf",
   "metadata": {},
   "source": [
    "1. Write a dictionary comprehension that generates a dictionary where the keys are the elements of list `l` and the values are the squares of each element of that list. An example key value pair would be \"2:4\"."
   ]
  },
  {
   "cell_type": "code",
   "execution_count": 22,
   "id": "e80db864-1395-416e-88b0-2437fce0e3cd",
   "metadata": {},
   "outputs": [
    {
     "name": "stdout",
     "output_type": "stream",
     "text": [
      "{1: 1, 2: 4, 3: 9, 4: 16}\n"
     ]
    }
   ],
   "source": [
    "l = [1,2,3,4]\n",
    "d = {el:el**2 for el in l}\n",
    "print(d)\n",
    "\n",
    "assert d == {1: 1, 2: 4, 3: 9, 4: 16}, \"The dictionary comprehension is incorrect\""
   ]
  },
  {
   "cell_type": "markdown",
   "id": "a3f53e4c-f263-46b3-b0b6-98c34fff7145",
   "metadata": {},
   "source": [
    "2. Write a dictionary comprehension that generates a dictionary where the keys are the elements of `l1` and the values are the corresponding elements of `l2`. Hint: use `zip()`"
   ]
  },
  {
   "cell_type": "code",
   "execution_count": 23,
   "id": "2bebbfa5-93f7-4640-b7fe-8e5bc5d217f9",
   "metadata": {},
   "outputs": [
    {
     "name": "stdout",
     "output_type": "stream",
     "text": [
      "{1: 'a', 2: 'b', 3: 'c', 4: 'd'}\n"
     ]
    }
   ],
   "source": [
    "l1 = [1,2,3,4]\n",
    "l2 = [\"a\", \"b\", \"c\", \"d\"]\n",
    "\n",
    "d = {val:key for val, key in zip(l1, l2)}\n",
    "print(d)\n",
    "\n",
    "assert d == {1: 'a', 2: 'b', 3: 'c', 4: 'd'}, \"The dictionary comprehension is incorrect\""
   ]
  }
 ],
 "metadata": {
  "kernelspec": {
   "display_name": "Python 3 (ipykernel)",
   "language": "python",
   "name": "python3"
  },
  "language_info": {
   "codemirror_mode": {
    "name": "ipython",
    "version": 3
   },
   "file_extension": ".py",
   "mimetype": "text/x-python",
   "name": "python",
   "nbconvert_exporter": "python",
   "pygments_lexer": "ipython3",
   "version": "3.10.9"
  }
 },
 "nbformat": 4,
 "nbformat_minor": 5
}
