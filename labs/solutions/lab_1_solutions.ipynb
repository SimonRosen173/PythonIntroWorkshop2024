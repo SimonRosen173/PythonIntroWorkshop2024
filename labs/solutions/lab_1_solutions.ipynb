{
 "cells": [
  {
   "cell_type": "markdown",
   "id": "2330d7b9-7cb3-41cd-9e14-0cbb3bbcccd2",
   "metadata": {},
   "source": [
    "# Lab 1"
   ]
  },
  {
   "cell_type": "markdown",
   "id": "e0a2bff9-5e60-41c7-abc8-57058ce44e68",
   "metadata": {},
   "source": [
    "# Intro to Python"
   ]
  },
  {
   "cell_type": "markdown",
   "id": "32ff5fca-6769-4471-a937-d2e88f43831f",
   "metadata": {},
   "source": [
    "## Imports"
   ]
  },
  {
   "cell_type": "code",
   "execution_count": 1,
   "id": "0f90e914-b984-4fa0-9c6f-a70fc0d59a9f",
   "metadata": {},
   "outputs": [],
   "source": [
    "import math"
   ]
  },
  {
   "cell_type": "markdown",
   "id": "eb093fb1-e03e-46b2-8192-91c46c85bf54",
   "metadata": {},
   "source": [
    "## Preliminaries"
   ]
  },
  {
   "cell_type": "markdown",
   "id": "72e8205c-c258-498b-b980-5c1f09acea62",
   "metadata": {},
   "source": [
    "### Assert"
   ]
  },
  {
   "cell_type": "markdown",
   "id": "9684e0bd-1673-443e-b0f9-2392a9651cd3",
   "metadata": {},
   "source": [
    "<div style=\"border-style: solid; border-width: 2px; border-color: #808080; padding: 20px; border-radius: 5px;\">\n",
    "    <h3> Assert </h3>\n",
    "    <code>assert</code> is a useful keyword for debugging. It lets you test if a condition is true and if not it returns an error. An `assert` won't do anything if the condition is not True. It will be used in the lab to check some of your answers. If there is an assert in the cell and the cell does not raise an error when run, then your answer is correct or partially correct. Note that this assert cannot check if you have printed the answer correctly.<br>\n",
    "    <strong>Syntax:</strong><br>\n",
    "    <code>assert {condition}, {string message shown when condition is false}</code>\n",
    "</div>"
   ]
  },
  {
   "cell_type": "markdown",
   "id": "1b82daae-4548-4768-a561-f98681bbe341",
   "metadata": {},
   "source": [
    "The following raises an `AssertionError` because `x != 5`"
   ]
  },
  {
   "cell_type": "code",
   "execution_count": 2,
   "id": "e784c9b0-9cc3-4110-b79e-d5ad88738047",
   "metadata": {},
   "outputs": [
    {
     "ename": "AssertionError",
     "evalue": "x is not equal to 5",
     "output_type": "error",
     "traceback": [
      "\u001b[1;31m---------------------------------------------------------------------------\u001b[0m",
      "\u001b[1;31mAssertionError\u001b[0m                            Traceback (most recent call last)",
      "Cell \u001b[1;32mIn[2], line 2\u001b[0m\n\u001b[0;32m      1\u001b[0m x \u001b[38;5;241m=\u001b[39m \u001b[38;5;241m4\u001b[39m\n\u001b[1;32m----> 2\u001b[0m \u001b[38;5;28;01massert\u001b[39;00m x \u001b[38;5;241m==\u001b[39m \u001b[38;5;241m5\u001b[39m, \u001b[38;5;124m\"\u001b[39m\u001b[38;5;124mx is not equal to 5\u001b[39m\u001b[38;5;124m\"\u001b[39m\n",
      "\u001b[1;31mAssertionError\u001b[0m: x is not equal to 5"
     ]
    }
   ],
   "source": [
    "x = 4\n",
    "assert x == 5, \"x is not equal to 5\""
   ]
  },
  {
   "cell_type": "markdown",
   "id": "7f6cf448-8110-4865-b44e-046114b8aa32",
   "metadata": {},
   "source": [
    "The following does not raise an error because `x == 5`."
   ]
  },
  {
   "cell_type": "code",
   "execution_count": 3,
   "id": "537af7d6-efbf-4d8d-adc9-64952a85af64",
   "metadata": {},
   "outputs": [],
   "source": [
    "x = 5\n",
    "assert x == 5, \"x is not equal to 5\""
   ]
  },
  {
   "cell_type": "markdown",
   "id": "6466696c-ed66-4200-a9f3-789b88f194b3",
   "metadata": {},
   "source": [
    "## 1. Basic Variables and Operations"
   ]
  },
  {
   "cell_type": "markdown",
   "id": "f7336f0d-af5f-49eb-836e-714ea8414395",
   "metadata": {},
   "source": [
    "### Variables"
   ]
  },
  {
   "cell_type": "markdown",
   "id": "d37e9ae4-6090-4507-b8f4-4f7cda255d95",
   "metadata": {},
   "source": [
    "1) Assign an integer value to `var1` and print it."
   ]
  },
  {
   "cell_type": "code",
   "execution_count": 10,
   "id": "21ae7a83-6dde-482b-ba3a-d1e26a746682",
   "metadata": {},
   "outputs": [
    {
     "name": "stdout",
     "output_type": "stream",
     "text": [
      "1\n"
     ]
    }
   ],
   "source": [
    "var1 = 1 \n",
    "print(var1)\n",
    "\n",
    "assert type(var1) == int, \"var1 is of wrong type\""
   ]
  },
  {
   "cell_type": "markdown",
   "id": "f336734f-d213-4c18-9c13-afe7133487b5",
   "metadata": {},
   "source": [
    "2. Assign a float value to `var2` and print it"
   ]
  },
  {
   "cell_type": "code",
   "execution_count": 5,
   "id": "9e187d11-f63e-41e7-951c-3d5680707603",
   "metadata": {},
   "outputs": [
    {
     "name": "stdout",
     "output_type": "stream",
     "text": [
      "0.1\n"
     ]
    }
   ],
   "source": [
    "var2 = 0.1 \n",
    "print(var2) \n",
    "\n",
    "assert type(var2) == float, \"var2 is of wrong type\""
   ]
  },
  {
   "cell_type": "markdown",
   "id": "eb8b1521-aff2-41ff-b761-ef6582420a41",
   "metadata": {},
   "source": [
    "3. Assign a bool value to `var3` and print it"
   ]
  },
  {
   "cell_type": "code",
   "execution_count": 6,
   "id": "d0198604-f3c5-4d17-b43b-cdaf978d2fe8",
   "metadata": {},
   "outputs": [
    {
     "name": "stdout",
     "output_type": "stream",
     "text": [
      "True\n"
     ]
    }
   ],
   "source": [
    "var3 = True  \n",
    "print(var3)\n",
    "\n",
    "assert type(var3) == bool, \"var3 is of wrong type\""
   ]
  },
  {
   "cell_type": "markdown",
   "id": "d49d7635-d87c-451d-8706-8e50360d1dc8",
   "metadata": {},
   "source": [
    "4. Assign any string value to `var4` and print it"
   ]
  },
  {
   "cell_type": "code",
   "execution_count": 7,
   "id": "c1fb294d-b954-4338-9f83-2163a5ab3922",
   "metadata": {},
   "outputs": [
    {
     "name": "stdout",
     "output_type": "stream",
     "text": [
      "string\n"
     ]
    }
   ],
   "source": [
    "var4 = \"string\"\n",
    "print(var4)\n",
    "\n",
    "assert type(var4) == str, \"var4 is of wrong type\""
   ]
  },
  {
   "cell_type": "markdown",
   "id": "61336fa1-ffc8-457d-bf32-446b4e2691ee",
   "metadata": {},
   "source": [
    "### Operations"
   ]
  },
  {
   "cell_type": "markdown",
   "id": "72aed79e-5417-4fab-b55d-d5f9bee81d36",
   "metadata": {},
   "source": [
    "5. Print the following operations on `x` and `y` <br>\n",
    "  a. `x` plus `y` <br>\n",
    "  b. `x` minus `y` <br>\n",
    "  c. `x` times `y` converted to int <br>\n",
    "  d. `x` divided by 2 <br>\n",
    "  e. floor of `x` divided by 2, without using math.floor <br>\n",
    "  f. `x` to the power of 5 <br>\n",
    "  g. `x` mod `y` <br>\n",
    "  h. Natural log of `x`  (Hint: look at docs for [math module](https://docs.python.org/3/library/math.html))"
   ]
  },
  {
   "cell_type": "code",
   "execution_count": 20,
   "id": "70b10dd4-eb08-4b24-b3b7-546a116c7586",
   "metadata": {},
   "outputs": [],
   "source": [
    "# RUN THIS CELL BEFORE EVERYTHING ELSE\n",
    "x = 4\n",
    "y = 7.4"
   ]
  },
  {
   "cell_type": "markdown",
   "id": "7cbf0998-c78c-467a-83cc-5038ba5e4577",
   "metadata": {},
   "source": [
    "a)"
   ]
  },
  {
   "cell_type": "code",
   "execution_count": 12,
   "id": "450c651e-1987-47e7-b581-edc45d1c69bc",
   "metadata": {},
   "outputs": [
    {
     "name": "stdout",
     "output_type": "stream",
     "text": [
      "11.4\n"
     ]
    }
   ],
   "source": [
    "print(x+y)"
   ]
  },
  {
   "cell_type": "markdown",
   "id": "33425f3e-2ef2-4256-b7da-48ab839aa0c0",
   "metadata": {},
   "source": [
    "b)"
   ]
  },
  {
   "cell_type": "code",
   "execution_count": 13,
   "id": "480cc0a1-29dd-47d5-8afc-3e5de1f7e00d",
   "metadata": {},
   "outputs": [
    {
     "name": "stdout",
     "output_type": "stream",
     "text": [
      "-3.4000000000000004\n"
     ]
    }
   ],
   "source": [
    "print(x-y)"
   ]
  },
  {
   "cell_type": "markdown",
   "id": "a58cdb43-8718-4743-8555-5d4bcc4ca313",
   "metadata": {},
   "source": [
    "c) "
   ]
  },
  {
   "cell_type": "code",
   "execution_count": 14,
   "id": "fba2d9f3-8341-4e9f-b5b1-bb8adc4caf21",
   "metadata": {},
   "outputs": [
    {
     "name": "stdout",
     "output_type": "stream",
     "text": [
      "29\n"
     ]
    }
   ],
   "source": [
    "print(int(x*y))"
   ]
  },
  {
   "cell_type": "markdown",
   "id": "2cbe52ad-83b1-4533-85fa-9349be214a2d",
   "metadata": {},
   "source": [
    "d)"
   ]
  },
  {
   "cell_type": "code",
   "execution_count": 15,
   "id": "a75467c8-ec86-4521-9413-f64980d9cf6f",
   "metadata": {},
   "outputs": [
    {
     "name": "stdout",
     "output_type": "stream",
     "text": [
      "2.0\n"
     ]
    }
   ],
   "source": [
    "print(x/2)"
   ]
  },
  {
   "cell_type": "markdown",
   "id": "94f57b02-b943-496d-bd8e-a5d54d17ec2a",
   "metadata": {},
   "source": [
    "e) "
   ]
  },
  {
   "cell_type": "code",
   "execution_count": 16,
   "id": "6acff614-1cd0-4285-979b-ec4cf3f0a8b3",
   "metadata": {},
   "outputs": [
    {
     "name": "stdout",
     "output_type": "stream",
     "text": [
      "2\n"
     ]
    }
   ],
   "source": [
    "print(x//2)"
   ]
  },
  {
   "cell_type": "markdown",
   "id": "24f42d61-ff73-43bb-819b-b64424f608d5",
   "metadata": {},
   "source": [
    "f)"
   ]
  },
  {
   "cell_type": "code",
   "execution_count": 17,
   "id": "7b89aa76-0763-43a7-a8ee-9499a668c42d",
   "metadata": {},
   "outputs": [
    {
     "name": "stdout",
     "output_type": "stream",
     "text": [
      "1024\n"
     ]
    }
   ],
   "source": [
    "print(x**5)"
   ]
  },
  {
   "cell_type": "markdown",
   "id": "13f2ebc0-af5c-4d5b-9dd3-66b542cd369d",
   "metadata": {},
   "source": [
    "g) "
   ]
  },
  {
   "cell_type": "code",
   "execution_count": 18,
   "id": "e133dec1-86d4-4127-b14e-9c6f0aa19d52",
   "metadata": {},
   "outputs": [
    {
     "name": "stdout",
     "output_type": "stream",
     "text": [
      "4.0\n"
     ]
    }
   ],
   "source": [
    "print(x%y)"
   ]
  },
  {
   "cell_type": "markdown",
   "id": "8d38d5e4-b6b0-4c68-8a8c-6c3d5af86ecf",
   "metadata": {},
   "source": [
    "h) "
   ]
  },
  {
   "cell_type": "code",
   "execution_count": 19,
   "id": "f49200d5-90f4-468a-8a3d-0b16acad30a4",
   "metadata": {},
   "outputs": [
    {
     "name": "stdout",
     "output_type": "stream",
     "text": [
      "1.3862943611198906\n"
     ]
    }
   ],
   "source": [
    "print(math.log(x))"
   ]
  },
  {
   "cell_type": "markdown",
   "id": "5289d991-2214-4813-8fbd-7f93a375c3ad",
   "metadata": {},
   "source": [
    "## 2. More Variables and Operations\n",
    "I.e., lists, dictionaries, sets and tuples"
   ]
  },
  {
   "cell_type": "markdown",
   "id": "71fb326e-0985-48f5-8a12-efe953a4dc83",
   "metadata": {},
   "source": [
    "### 2.1 Lists"
   ]
  },
  {
   "cell_type": "markdown",
   "id": "02ec113c-09f6-40c1-b0c6-0b7b587ea6a1",
   "metadata": {},
   "source": [
    "1. Create a list with the following elements: 1, 2, 3, 4, 5 and assign it to variable `list1`. Access and print the second element of the list."
   ]
  },
  {
   "cell_type": "code",
   "execution_count": 22,
   "id": "a7e8a5cf-a1c2-4e02-8bf0-c909589f573a",
   "metadata": {},
   "outputs": [
    {
     "name": "stdout",
     "output_type": "stream",
     "text": [
      "2\n"
     ]
    }
   ],
   "source": [
    "list1 = [1,2,3,4,5]\n",
    "print(list1[1])"
   ]
  },
  {
   "cell_type": "markdown",
   "id": "28c45e7d-bc5f-4ef9-92be-fe0f4897b6c0",
   "metadata": {},
   "source": [
    "2. Append the number 6 to the end of `list2` and print the result."
   ]
  },
  {
   "cell_type": "code",
   "execution_count": 23,
   "id": "a2ce6198-07b8-4656-94df-7b931d1b7e3c",
   "metadata": {},
   "outputs": [
    {
     "name": "stdout",
     "output_type": "stream",
     "text": [
      "[1, 2, 3, 4, 5, 6]\n"
     ]
    }
   ],
   "source": [
    "list2 = list1.copy()\n",
    "list2.append(6)\n",
    "print(list2)"
   ]
  },
  {
   "cell_type": "markdown",
   "id": "0a80dd81-896f-48af-bdd3-271afb3d1f6c",
   "metadata": {},
   "source": [
    "3. Insert the letter \"a\" at the beginning of `list1`."
   ]
  },
  {
   "cell_type": "code",
   "execution_count": 24,
   "id": "f8bcdfb5-db7d-40d6-98e1-3d9bac032c64",
   "metadata": {},
   "outputs": [
    {
     "name": "stdout",
     "output_type": "stream",
     "text": [
      "['a', 1, 2, 3, 4, 5]\n"
     ]
    }
   ],
   "source": [
    "list2 = list1.copy()\n",
    "list2.insert(0, \"a\")\n",
    "print(list2)"
   ]
  },
  {
   "cell_type": "markdown",
   "id": "cc14edd9-986c-4a07-b88e-c81d7d45de04",
   "metadata": {},
   "source": [
    "4. Remove the last element of `list2`"
   ]
  },
  {
   "cell_type": "code",
   "execution_count": 25,
   "id": "e0bb70d2-815f-4abb-be4f-9e59fc02f14f",
   "metadata": {},
   "outputs": [
    {
     "name": "stdout",
     "output_type": "stream",
     "text": [
      "[1, 2, 3, 4]\n"
     ]
    }
   ],
   "source": [
    "list2 = list1.copy()\n",
    "\n",
    "list2.pop()\n",
    "print(list2)"
   ]
  },
  {
   "cell_type": "markdown",
   "id": "83c036d1-acdb-4fff-8cfc-cc414b54bce9",
   "metadata": {},
   "source": [
    "5. Print a sublist that contains the elements from index 3 to index 7 (inclusive) of `list3`."
   ]
  },
  {
   "cell_type": "code",
   "execution_count": 26,
   "id": "cfa47e89-4637-4b7d-8596-4ca5692c16e9",
   "metadata": {},
   "outputs": [
    {
     "name": "stdout",
     "output_type": "stream",
     "text": [
      "['d', 'e', 'f', 'g', 'h']\n"
     ]
    }
   ],
   "source": [
    "list3 = ['a', 'b', 'c', 'd', 'e', 'f', 'g', 'h', 'k', 'l', 'm']\n",
    "print(list3[3:8])"
   ]
  },
  {
   "cell_type": "markdown",
   "id": "b76ac52f-fcd8-4471-be23-f8554594bed2",
   "metadata": {},
   "source": [
    "6. Using slicing print a sublist that contains only the even numbers contained in `list3`."
   ]
  },
  {
   "cell_type": "code",
   "execution_count": 27,
   "id": "44d87800-41bb-46cf-9865-88b80ea8c279",
   "metadata": {},
   "outputs": [
    {
     "name": "stdout",
     "output_type": "stream",
     "text": [
      "[2, 4, 6]\n"
     ]
    }
   ],
   "source": [
    "list3 = [1,2,3,4,5,6]\n",
    "print(list3[1::2])"
   ]
  },
  {
   "cell_type": "markdown",
   "id": "6bdafaf0-cfd7-4355-9eca-b9ae4d68d4ed",
   "metadata": {},
   "source": [
    "7. Using slicing print `list3` in reverse order"
   ]
  },
  {
   "cell_type": "code",
   "execution_count": 28,
   "id": "f921d6f2-fc40-4abf-8e74-75f607c87b1b",
   "metadata": {},
   "outputs": [
    {
     "name": "stdout",
     "output_type": "stream",
     "text": [
      "[6, 5, 4, 3, 2, 1]\n"
     ]
    }
   ],
   "source": [
    "list3 = [1,2,3,4,5,6]\n",
    "print(list3[::-1])"
   ]
  },
  {
   "cell_type": "markdown",
   "id": "d475fdcd-d9f3-403a-9f55-01f268cbe02b",
   "metadata": {},
   "source": [
    "8. Using slicing extract and print the last 3 elements of `list3`"
   ]
  },
  {
   "cell_type": "code",
   "execution_count": 29,
   "id": "2a7c9b54-5e8b-45d4-8f24-4b2da87210d8",
   "metadata": {},
   "outputs": [
    {
     "name": "stdout",
     "output_type": "stream",
     "text": [
      "[4, 5, 6]\n"
     ]
    }
   ],
   "source": [
    "list3 = [1,2,3,4,5,6]\n",
    "print(list3[-3:])"
   ]
  },
  {
   "cell_type": "markdown",
   "id": "67be61a6-711d-4598-872d-116b11cf843a",
   "metadata": {},
   "source": [
    "9. Using slicing extract and print all the elements from the beginning of `list3` to (but not including) the fifth element."
   ]
  },
  {
   "cell_type": "code",
   "execution_count": 30,
   "id": "564d8047-0ae6-48b8-b9af-70791e9e658e",
   "metadata": {},
   "outputs": [
    {
     "name": "stdout",
     "output_type": "stream",
     "text": [
      "[1, 2, 3, 4, 5]\n"
     ]
    }
   ],
   "source": [
    "list3 = [1,2,3,4,5,6]\n",
    "print(list3[:5])"
   ]
  },
  {
   "cell_type": "markdown",
   "id": "e2b38cf5-c25d-4ec3-bdec-ec16c3e5b939",
   "metadata": {},
   "source": [
    "8. Append 5 to end of `var1` and print `var1` afterwards"
   ]
  },
  {
   "cell_type": "code",
   "execution_count": null,
   "id": "eedc243e-d2c6-4dae-a042-64874e6322cb",
   "metadata": {},
   "outputs": [],
   "source": [
    "var1 = [1,2,3,4]\n",
    "var1.append(5)\n",
    "print(var1)"
   ]
  },
  {
   "cell_type": "markdown",
   "id": "6034a1c6-f7e6-4247-80d9-3fc5d700437f",
   "metadata": {},
   "source": [
    "9. Append -1 to the start of `var1` and print the result"
   ]
  },
  {
   "cell_type": "code",
   "execution_count": null,
   "id": "37cede88-553a-4214-ac24-d98811882708",
   "metadata": {},
   "outputs": [],
   "source": [
    "var1 = [1,2,3,4]\n",
    "var1.insert(0, -1)\n",
    "print(var1)"
   ]
  },
  {
   "cell_type": "markdown",
   "id": "324d05ee-70fc-4ec2-b1dc-acc53c5f11ed",
   "metadata": {},
   "source": [
    "10. Reverse `var1` and print the result "
   ]
  },
  {
   "cell_type": "code",
   "execution_count": null,
   "id": "7439099f-e5ed-43ee-8c5d-33de5ae72432",
   "metadata": {},
   "outputs": [],
   "source": [
    "var1 = [1,2,3,4]\n",
    "var1.reverse()\n",
    "print(var1)"
   ]
  },
  {
   "cell_type": "markdown",
   "id": "6a404b97-a103-4f45-a4ce-a4d98899d407",
   "metadata": {},
   "source": [
    "11. Create a new list that contains the middle two elements of `var1` in one line and assign it to `var2` <br>\n",
    "Hint: Use slicing"
   ]
  },
  {
   "cell_type": "code",
   "execution_count": null,
   "id": "69179b96-4a16-4af0-a86c-d77f51159d10",
   "metadata": {},
   "outputs": [],
   "source": [
    "var1 = [1,2,3,4]\n",
    "var2 = var1[1:3] \n",
    "print(var2)"
   ]
  },
  {
   "cell_type": "markdown",
   "id": "2a457458-b290-4542-84ae-91dc52baea83",
   "metadata": {},
   "source": [
    "12. Create a new list that contains all but the first element of `var1` and assign it to `var2` <br>"
   ]
  },
  {
   "cell_type": "code",
   "execution_count": 1,
   "id": "cfc517de-1844-439b-a69e-675158950f64",
   "metadata": {},
   "outputs": [
    {
     "name": "stdout",
     "output_type": "stream",
     "text": [
      "var1: [0, 1, 2, 3, 4, 5, 6, 7, 8, 9, 10, 11, 12, 13]\n",
      "var2: [1, 2, 3, 4, 5, 6, 7, 8, 9, 10, 11, 12, 13]\n"
     ]
    }
   ],
   "source": [
    "import numpy as np\n",
    "var1 = [i for i in range(np.random.randint(15))]\n",
    "print(\"var1:\", var1)\n",
    "\n",
    "var2 = var1[1:] \n",
    "print(\"var2:\", var2)"
   ]
  },
  {
   "cell_type": "markdown",
   "id": "b99b7dcb-0095-4e4d-a6ac-2f875ba264af",
   "metadata": {},
   "source": [
    "13. Print the concatentation of `var1` and `var2`"
   ]
  },
  {
   "cell_type": "code",
   "execution_count": null,
   "id": "3182c9ee-f18e-4624-8272-893ffcef6001",
   "metadata": {},
   "outputs": [],
   "source": [
    "var1 = [1, 2, 3]\n",
    "var2 = [\"a\", \"b\", \"c\"]\n",
    "\n",
    "print(var1 + var2)"
   ]
  },
  {
   "cell_type": "markdown",
   "id": "b08b3eb1-eb57-49e9-865e-c1191967e7c0",
   "metadata": {},
   "source": [
    "Create a 2D list of size 2 x 2 and assign it to variable `var1`. You can assign any values to this list"
   ]
  },
  {
   "cell_type": "code",
   "execution_count": null,
   "id": "2fa7bfad-6d82-452a-ad18-f124b55c9fb6",
   "metadata": {},
   "outputs": [],
   "source": [
    "var1 = [[1,2], [3,4]]\n",
    "print(var1)"
   ]
  },
  {
   "cell_type": "markdown",
   "id": "1cf26660-833f-47f5-9719-db50fe261caa",
   "metadata": {},
   "source": [
    "### 2.2 String Operations"
   ]
  },
  {
   "cell_type": "markdown",
   "id": "30857d9f-032d-4f8f-887a-3e23d283ea7c",
   "metadata": {},
   "source": [
    "1. Print the first 5 characters of 'str1'"
   ]
  },
  {
   "cell_type": "code",
   "execution_count": 31,
   "id": "c490be5b-92f7-4b47-8d15-c66c3da2eeaf",
   "metadata": {},
   "outputs": [
    {
     "name": "stdout",
     "output_type": "stream",
     "text": [
      "Slici\n"
     ]
    }
   ],
   "source": [
    "str1 = \"Slicing is great\"\n",
    "print(str1[:5])"
   ]
  },
  {
   "cell_type": "markdown",
   "id": "6d6aa1f1-b3d9-4c34-8fb2-9d26ba544c4b",
   "metadata": {},
   "source": [
    "2. Concatenate `str1` and `str2` and convert the result to lower case. Assign the answer to `str3` "
   ]
  },
  {
   "cell_type": "code",
   "execution_count": 32,
   "id": "bb993c6a-66ea-485b-b7cf-589e9b848926",
   "metadata": {},
   "outputs": [
    {
     "name": "stdout",
     "output_type": "stream",
     "text": [
      "hello world\n"
     ]
    }
   ],
   "source": [
    "str1 = \"HELLO\"\n",
    "str2 = \" WORLD\"\n",
    "str3 = str1 + str2\n",
    "str3 = str3.lower()\n",
    "print(str3)"
   ]
  },
  {
   "cell_type": "markdown",
   "id": "97980a37-5a00-4649-8118-559465625c56",
   "metadata": {},
   "source": [
    "### 2.3 Dictionaries"
   ]
  },
  {
   "cell_type": "markdown",
   "id": "7e521c43-b429-4159-b03e-68b9703666cc",
   "metadata": {},
   "source": [
    "<div style=\"border-style: solid; border-width: 2px; border-color: #808080; padding: 20px; border-radius: 5px;\">\n",
    "    <h3> Variables Over Multiple Cells </h3>\n",
    "    In the following questions for dictionaries we make use of the same dictionary <code>d</code> and alter its value in multiple cells. In order to get the correct result you <strong>must</strong> run the cells for questions 1-7 in order. The same applies for the following questions on 'Sets and Tuples'.\n",
    "</div>"
   ]
  },
  {
   "cell_type": "markdown",
   "id": "f3c9a7a8-3cde-4393-b489-26531af1b57e",
   "metadata": {},
   "source": [
    "1. Define `d` as a dictionary with the following key-value pairs: \"dog\" : \"canine\", \"cat\" : \"feline\", \"rat\" : \"rodent\". Access and print the value associated with the key \"dog\"."
   ]
  },
  {
   "cell_type": "code",
   "execution_count": 38,
   "id": "f537c4e8-9a98-45fe-894c-ca0b7fcfb5b2",
   "metadata": {},
   "outputs": [
    {
     "name": "stdout",
     "output_type": "stream",
     "text": [
      "canine\n"
     ]
    }
   ],
   "source": [
    "d = {\"dog\" : \"canine\", \"cat\" : \"feline\", \"rat\" : \"rodent\"}\n",
    "print(d[\"dog\"])"
   ]
  },
  {
   "cell_type": "markdown",
   "id": "4193b391-7caf-4d23-a2eb-6d77411ae570",
   "metadata": {},
   "source": [
    "2. Add a key-value pair \"monkey\" : \"primate\" to `dict1`. </br>\n",
    "**Note:** When you run this cell for the correct answer, it will add the key value pair for the key 'monkey' to `d`. Since `d` is stored in memory re-runing this cell afterwards will have the effect of updating the value for key \"monkey\". <br/>\n",
    "When writing and testing these answers it is helpful to rerun the preceding cells in this subsection, so that the correct value of `d` is being used. Specifically for this question you should rerun the cell for 2.3.1."
   ]
  },
  {
   "cell_type": "code",
   "execution_count": 39,
   "id": "46e85034-921e-495c-98d9-9aae160d95c0",
   "metadata": {},
   "outputs": [
    {
     "name": "stdout",
     "output_type": "stream",
     "text": [
      "{'dog': 'canine', 'cat': 'feline', 'rat': 'rodent', 'monkey': 'primate'}\n"
     ]
    }
   ],
   "source": [
    "d[\"monkey\"] = \"primate\"\n",
    "print(d)"
   ]
  },
  {
   "cell_type": "markdown",
   "id": "33fc6738-2728-4645-a198-58dd2e2e1086",
   "metadata": {},
   "source": [
    "3. Update the value associated with the key \"cat\" to \"Felis catus\" in `dict1`. "
   ]
  },
  {
   "cell_type": "code",
   "execution_count": 40,
   "id": "3c24120f-c355-47db-84d7-cab200e11946",
   "metadata": {},
   "outputs": [
    {
     "name": "stdout",
     "output_type": "stream",
     "text": [
      "{'dog': 'canine', 'cat': 'Felis catus', 'rat': 'rodent', 'monkey': 'primate'}\n"
     ]
    }
   ],
   "source": [
    "d[\"cat\"] = \"Felis catus\"\n",
    "print(d)"
   ]
  },
  {
   "cell_type": "markdown",
   "id": "ec6b9598-092c-463f-85d8-7512964d5523",
   "metadata": {},
   "source": [
    "4. Remove the key-value pair associated with the key 'rat' from `dict1`"
   ]
  },
  {
   "cell_type": "code",
   "execution_count": 41,
   "id": "70a4d15e-1e54-40b2-bf35-96b82e97bea9",
   "metadata": {},
   "outputs": [
    {
     "name": "stdout",
     "output_type": "stream",
     "text": [
      "{'dog': 'canine', 'cat': 'Felis catus', 'monkey': 'primate'}\n"
     ]
    }
   ],
   "source": [
    "# Note: You can't run this cell multiple times after writing the answer because key value pair will have already been deleted. \n",
    "# If you want to rerun this cell then rerun the preceding cells first\n",
    "del d[\"rat\"]\n",
    "print(d)"
   ]
  },
  {
   "cell_type": "markdown",
   "id": "04787ad6-d852-4ad4-805e-0f055dd5aec4",
   "metadata": {},
   "source": [
    "5. Print the values of `d`"
   ]
  },
  {
   "cell_type": "code",
   "execution_count": 42,
   "id": "b5f330f5-0c6f-4aed-92f3-2d07aebb1de8",
   "metadata": {},
   "outputs": [
    {
     "name": "stdout",
     "output_type": "stream",
     "text": [
      "dict_values(['canine', 'Felis catus', 'primate'])\n"
     ]
    }
   ],
   "source": [
    "print(d.values())"
   ]
  },
  {
   "cell_type": "markdown",
   "id": "65896481-5fbc-4bf7-8cda-a9b55e736981",
   "metadata": {},
   "source": [
    "6. Print the keys of `d`"
   ]
  },
  {
   "cell_type": "code",
   "execution_count": 43,
   "id": "fdebcd76-8696-40ca-acc7-dd0dd7f19e16",
   "metadata": {},
   "outputs": [
    {
     "name": "stdout",
     "output_type": "stream",
     "text": [
      "dict_keys(['dog', 'cat', 'monkey'])\n"
     ]
    }
   ],
   "source": [
    "print(d.keys())"
   ]
  },
  {
   "cell_type": "markdown",
   "id": "faefdae6-0182-457d-ad1a-d2f6619ff627",
   "metadata": {},
   "source": [
    "7. Print the key value pairs of `d`"
   ]
  },
  {
   "cell_type": "code",
   "execution_count": 44,
   "id": "db04e37a-af9b-41ad-966f-cc17c7786652",
   "metadata": {},
   "outputs": [
    {
     "name": "stdout",
     "output_type": "stream",
     "text": [
      "dict_items([('dog', 'canine'), ('cat', 'Felis catus'), ('monkey', 'primate')])\n"
     ]
    }
   ],
   "source": [
    "print(d.items())"
   ]
  },
  {
   "cell_type": "markdown",
   "id": "2420394b-83d3-4425-a40c-615f85d1e026",
   "metadata": {},
   "source": [
    "### 2.4 Sets and Tuples"
   ]
  },
  {
   "cell_type": "markdown",
   "id": "120f3b06-1578-4a2f-98f6-b9df66c950ec",
   "metadata": {},
   "source": [
    "1. Create a set `s` containing the elements \"cat\", \"dog\" and \"mouse\" and print the set."
   ]
  },
  {
   "cell_type": "code",
   "execution_count": 45,
   "id": "e2a34155-9449-4644-99f3-d7b8f6f4fda7",
   "metadata": {},
   "outputs": [
    {
     "name": "stdout",
     "output_type": "stream",
     "text": [
      "{'cat', 'dog', 'mouse'}\n"
     ]
    }
   ],
   "source": [
    "s = {\"cat\", \"dog\", \"mouse\"}\n",
    "print(s)"
   ]
  },
  {
   "cell_type": "markdown",
   "id": "579a3793-ccff-43bf-93c2-448391954061",
   "metadata": {},
   "source": [
    "2. Add \"bird\" to the set `s` and print `s`. <br/>"
   ]
  },
  {
   "cell_type": "code",
   "execution_count": 46,
   "id": "c48a4057-3672-4311-ab72-b8929b2f0c2e",
   "metadata": {},
   "outputs": [
    {
     "name": "stdout",
     "output_type": "stream",
     "text": [
      "{'bird', 'cat', 'dog', 'mouse'}\n"
     ]
    }
   ],
   "source": [
    "s.add(\"bird\")\n",
    "print(s)"
   ]
  },
  {
   "cell_type": "markdown",
   "id": "89a1a6ee-0c4c-4f71-95d2-54a834c7f750",
   "metadata": {},
   "source": [
    "3. Create a tuple `t` containing the values \"a\", \"b\" and \"c\" in that order. Afterwards print the second element of `t`"
   ]
  },
  {
   "cell_type": "code",
   "execution_count": 47,
   "id": "20f4dc8e-2a81-419b-9eff-e7e175ec8842",
   "metadata": {},
   "outputs": [
    {
     "name": "stdout",
     "output_type": "stream",
     "text": [
      "b\n"
     ]
    }
   ],
   "source": [
    "t = (\"a\", \"b\", \"c\")\n",
    "print(t[1])"
   ]
  },
  {
   "cell_type": "markdown",
   "id": "ba4fb6dc-bcf8-470c-b49e-a63c1b538675",
   "metadata": {},
   "source": [
    "## 3. Conditionals"
   ]
  },
  {
   "cell_type": "markdown",
   "id": "768d308e-86cd-4f2a-a543-647754f27443",
   "metadata": {},
   "source": [
    "1. Write an if statement that checks if variable `x` is equal to 10 and prints \"x is equal to 10\" if the condition is true."
   ]
  },
  {
   "cell_type": "code",
   "execution_count": 48,
   "id": "eef16692-317e-4335-8ad1-919be1241429",
   "metadata": {},
   "outputs": [
    {
     "name": "stdout",
     "output_type": "stream",
     "text": [
      "x is equal to 10\n"
     ]
    }
   ],
   "source": [
    "x = 10\n",
    "if x == 10:\n",
    "    print(\"x is equal to 10\")"
   ]
  },
  {
   "cell_type": "markdown",
   "id": "90ecc66a-8608-48d2-8a95-7533c01bd828",
   "metadata": {},
   "source": [
    "2. Write an if-else statement that checks if a variable `x` is greater than 5. If the condition is true, print \"x is greater than 5\", otherwise print \"x is not greater than 5\"."
   ]
  },
  {
   "cell_type": "code",
   "execution_count": 49,
   "id": "e8039c12-90dc-41d2-9cec-fb358c313812",
   "metadata": {},
   "outputs": [
    {
     "name": "stdout",
     "output_type": "stream",
     "text": [
      "x is greater than 5\n"
     ]
    }
   ],
   "source": [
    "x = 6\n",
    "if x > 5:\n",
    "    print(\"x is greater than 5\")\n",
    "else:\n",
    "    print(\"x is not greater than 5\")"
   ]
  },
  {
   "cell_type": "markdown",
   "id": "75832a2a-7982-41e9-8c68-242aff1a7b73",
   "metadata": {},
   "source": [
    "3. Write an if-elif-else statement that checks if a variable `x` is positive, zero, or negative. If `x` is positive, print \"x is positive\", if `x` is zero, print \"x is zero\", otherwise print \"x is negative\"."
   ]
  },
  {
   "cell_type": "code",
   "execution_count": 50,
   "id": "a638a27e-0268-40ab-8925-4764a11771f2",
   "metadata": {},
   "outputs": [
    {
     "name": "stdout",
     "output_type": "stream",
     "text": [
      "x is zero\n"
     ]
    }
   ],
   "source": [
    "x = 0\n",
    "if x > 0:\n",
    "    print(\"x is positive\")\n",
    "elif x == 0:\n",
    "    print(\"x is zero\")\n",
    "else:\n",
    "    print(\"x is negative\")"
   ]
  },
  {
   "cell_type": "markdown",
   "id": "a16a1878-0315-43b0-9998-97fb19e0256c",
   "metadata": {},
   "source": [
    "4. Write an if-else statement that checks if a variable x is odd or even. If x is odd, print \"x is odd\", otherwise print \"x is even\"."
   ]
  },
  {
   "cell_type": "code",
   "execution_count": 51,
   "id": "2b1bb666-1ee1-4a2c-8cfe-775be63a356e",
   "metadata": {},
   "outputs": [
    {
     "name": "stdout",
     "output_type": "stream",
     "text": [
      "x is odd\n"
     ]
    }
   ],
   "source": [
    "x = 5\n",
    "if x % 2 != 0:\n",
    "    print(\"x is odd\")\n",
    "else:\n",
    "    print(\"x is even\")"
   ]
  },
  {
   "cell_type": "markdown",
   "id": "e01112b5-ad8e-4e27-bd79-a817947f5727",
   "metadata": {},
   "source": [
    "5. Write an if statement that checks if the value \"a\" is in the list `l`. If \"a\" is in the list, then print \"a is in the list\"."
   ]
  },
  {
   "cell_type": "code",
   "execution_count": 52,
   "id": "40451204-7139-4be4-9dba-7b142c739dba",
   "metadata": {},
   "outputs": [
    {
     "name": "stdout",
     "output_type": "stream",
     "text": [
      "a is in the list\n"
     ]
    }
   ],
   "source": [
    "l = \"a b c d e\".split()  # This is equivalent to l = [\"a\", \"b\", \"c\", \"d\", \"e\"], but is shorter to write\n",
    "if \"a\" in l:\n",
    "    print(\"a is in the list\")"
   ]
  },
  {
   "cell_type": "markdown",
   "id": "aec46fe5-5676-4ac2-b966-e740f7179b72",
   "metadata": {},
   "source": [
    "6. Given two variables `hours_of_sleep` and `had_coffee`, write an if statement that prints \"I am tired\" if `hours_of_sleep` is less than 8 and `had_coffee` is false."
   ]
  },
  {
   "cell_type": "code",
   "execution_count": 53,
   "id": "31d24eac-53fd-498e-9c7e-d9dfd876a98d",
   "metadata": {},
   "outputs": [
    {
     "name": "stdout",
     "output_type": "stream",
     "text": [
      "I am tired\n"
     ]
    }
   ],
   "source": [
    "hours_of_sleep = 6\n",
    "had_coffee = False\n",
    "\n",
    "if hours_of_sleep < 8 and not had_coffee:\n",
    "    print(\"I am tired\")"
   ]
  },
  {
   "cell_type": "markdown",
   "id": "cb660c3b-241f-4745-a96b-a0a37b5fc926",
   "metadata": {},
   "source": [
    "## 4. Functions"
   ]
  },
  {
   "cell_type": "markdown",
   "id": "eb01e8ba-0649-44f3-9741-039fefcc30d4",
   "metadata": {},
   "source": [
    "Write a function `cube` that takes `x` as an argument and returns the cube of `x`"
   ]
  },
  {
   "cell_type": "code",
   "execution_count": 54,
   "id": "cbcdfe5a-0ce1-4af2-8533-f92bb678d0ab",
   "metadata": {},
   "outputs": [
    {
     "name": "stdout",
     "output_type": "stream",
     "text": [
      "27\n"
     ]
    }
   ],
   "source": [
    "def cube(x):\n",
    "    return x**3\n",
    "\n",
    "print(cube(3))\n",
    "assert cube(3) == 27, \"cube does not return the correct output\""
   ]
  },
  {
   "cell_type": "markdown",
   "id": "2cd36d2f-cfd0-4d7a-9db4-e3885facfadb",
   "metadata": {},
   "source": [
    "Write a function `is_palindrome` that takes a string `s` as an argument and returns `True` if the string is a palindrome, and `False` otherwise. A palindrome is a word that is spelt the same when written forwards or backwards. An example of a palindrome is 'racecar'. "
   ]
  },
  {
   "cell_type": "code",
   "execution_count": 9,
   "id": "545795a6-3af7-4109-90fb-bff8894b6c08",
   "metadata": {},
   "outputs": [
    {
     "name": "stdout",
     "output_type": "stream",
     "text": [
      "is_palindrome('racecar') == True\n"
     ]
    }
   ],
   "source": [
    "def is_palindrome(s):\n",
    "    return s == s[::-1]\n",
    "\n",
    "print(\"is_palindrome('racecar') ==\", is_palindrome('racecar'))\n",
    "assert is_palindrome(\"racecar\") == True, \"is_palindrome does not return the correct output\""
   ]
  },
  {
   "cell_type": "markdown",
   "id": "415defcc-2045-496d-b98b-eac705bad548",
   "metadata": {},
   "source": [
    "## 5. Scope\n",
    "\n",
    "**TODO**"
   ]
  },
  {
   "cell_type": "markdown",
   "id": "04a4e54d-3a3f-4204-8825-63ae1eded019",
   "metadata": {},
   "source": [
    "1. Sammy was given the following question: <br/>\n",
    "\"Write a function `append_no` that takes in a list of integers and returns a new list that contains the previous list with the value 1 appended to the start of it. Note that the original list should not be modified Sample input: \\[2,3,4\\]. Sample output: \\[1,2,3,4\\]\". \n",
    "\n",
    "Sammy gave the following answer, which contains an error in that it modifies the original list."
   ]
  },
  {
   "cell_type": "raw",
   "id": "df924b43-8867-426b-92e7-f6a759a45212",
   "metadata": {},
   "source": [
    "# Original function given so that you can refer back to it\n",
    "def append_no(l):\n",
    "    l.insert(0, 1)\n",
    "    return l"
   ]
  },
  {
   "cell_type": "markdown",
   "id": "b44b9b89-2d55-4a74-9158-6b7550a1ec85",
   "metadata": {},
   "source": [
    "**Original Code:**"
   ]
  },
  {
   "cell_type": "code",
   "execution_count": 6,
   "id": "e84ab05b-fde9-41a1-8b52-dbfc3744fbef",
   "metadata": {},
   "outputs": [
    {
     "name": "stdout",
     "output_type": "stream",
     "text": [
      "orig_l = [1, 2, 3, 4]\n",
      "new_l = [1, 2, 3, 4]\n"
     ]
    },
    {
     "ename": "AssertionError",
     "evalue": "The original list was changed",
     "output_type": "error",
     "traceback": [
      "\u001b[1;31m---------------------------------------------------------------------------\u001b[0m",
      "\u001b[1;31mAssertionError\u001b[0m                            Traceback (most recent call last)",
      "Cell \u001b[1;32mIn[6], line 13\u001b[0m\n\u001b[0;32m     10\u001b[0m \u001b[38;5;28mprint\u001b[39m(\u001b[38;5;124m\"\u001b[39m\u001b[38;5;124morig_l =\u001b[39m\u001b[38;5;124m\"\u001b[39m, orig_l)\n\u001b[0;32m     11\u001b[0m \u001b[38;5;28mprint\u001b[39m(\u001b[38;5;124m\"\u001b[39m\u001b[38;5;124mnew_l =\u001b[39m\u001b[38;5;124m\"\u001b[39m, new_l)\n\u001b[1;32m---> 13\u001b[0m \u001b[38;5;28;01massert\u001b[39;00m orig_l \u001b[38;5;241m==\u001b[39m [\u001b[38;5;241m2\u001b[39m,\u001b[38;5;241m3\u001b[39m,\u001b[38;5;241m4\u001b[39m], \u001b[38;5;124m\"\u001b[39m\u001b[38;5;124mThe original list was changed\u001b[39m\u001b[38;5;124m\"\u001b[39m\n\u001b[0;32m     14\u001b[0m \u001b[38;5;28;01massert\u001b[39;00m new_l \u001b[38;5;241m==\u001b[39m [\u001b[38;5;241m1\u001b[39m,\u001b[38;5;241m2\u001b[39m,\u001b[38;5;241m3\u001b[39m,\u001b[38;5;241m4\u001b[39m], \u001b[38;5;124m\"\u001b[39m\u001b[38;5;124mThe function did not provide the correct answer\u001b[39m\u001b[38;5;124m\"\u001b[39m\n\u001b[0;32m     16\u001b[0m \u001b[38;5;28mprint\u001b[39m(\u001b[38;5;124m\"\u001b[39m\u001b[38;5;124mThe correct answer was given!\u001b[39m\u001b[38;5;124m\"\u001b[39m)\n",
      "\u001b[1;31mAssertionError\u001b[0m: The original list was changed"
     ]
    }
   ],
   "source": [
    "def append_no(l):\n",
    "    # FIX THE CODE IN HERE\n",
    "    l.insert(0, 1)\n",
    "    return l\n",
    "\n",
    "# DO NOT CHANGE ANY OF THE BELOW\n",
    "orig_l = [2,3,4]\n",
    "new_l = append_no(orig_l)\n",
    "\n",
    "print(\"orig_l =\", orig_l)\n",
    "print(\"new_l =\", new_l)\n",
    "\n",
    "assert orig_l == [2,3,4], \"The original list was changed\"\n",
    "assert new_l == [1,2,3,4], \"The function did not provide the correct answer\"\n",
    "\n",
    "print(\"The correct answer was given!\")"
   ]
  },
  {
   "cell_type": "markdown",
   "id": "c2eff163-5753-4750-87d2-0fc9259d616a",
   "metadata": {},
   "source": [
    "**Correct Code:**"
   ]
  },
  {
   "cell_type": "code",
   "execution_count": 8,
   "id": "0e09b64c-cdef-45dc-a7ec-5ded126b0e06",
   "metadata": {},
   "outputs": [
    {
     "name": "stdout",
     "output_type": "stream",
     "text": [
      "orig_l = [2, 3, 4]\n",
      "new_l = [1, 2, 3, 4]\n",
      "The correct answer was given!\n"
     ]
    }
   ],
   "source": [
    "def append_no(l):\n",
    "    # Many different ways to do this\n",
    "    # Creating a copy of the list is often helpful and guarantees you won't change the original list\n",
    "    new_l = l.copy()\n",
    "    new_l.insert(0, 1)\n",
    "    return new_l\n",
    "\n",
    "# DO NOT CHANGE ANY OF THE BELOW\n",
    "orig_l = [2,3,4]\n",
    "new_l = append_no(orig_l)\n",
    "\n",
    "print(\"orig_l =\", orig_l)\n",
    "print(\"new_l =\", new_l)\n",
    "\n",
    "assert orig_l == [2,3,4], \"The original list was changed\"\n",
    "assert new_l == [1,2,3,4], \"The function did not provide the correct answer\"\n",
    "\n",
    "print(\"The correct answer was given!\")"
   ]
  },
  {
   "cell_type": "code",
   "execution_count": null,
   "id": "0e619438-3acb-43c0-8409-497efa061836",
   "metadata": {},
   "outputs": [],
   "source": []
  }
 ],
 "metadata": {
  "kernelspec": {
   "display_name": "Python 3 (ipykernel)",
   "language": "python",
   "name": "python3"
  },
  "language_info": {
   "codemirror_mode": {
    "name": "ipython",
    "version": 3
   },
   "file_extension": ".py",
   "mimetype": "text/x-python",
   "name": "python",
   "nbconvert_exporter": "python",
   "pygments_lexer": "ipython3",
   "version": "3.12.1"
  }
 },
 "nbformat": 4,
 "nbformat_minor": 5
}
